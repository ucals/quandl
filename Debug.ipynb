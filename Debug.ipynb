{
 "cells": [
  {
   "cell_type": "code",
   "execution_count": 1,
   "metadata": {},
   "outputs": [],
   "source": [
    "%load_ext autoreload\n",
    "%autoreload 2\n",
    "\n",
    "import sys\n",
    "import pandas as pd\n",
    "import numpy as np\n",
    "import quandl\n",
    "import os\n",
    "import warnings\n",
    "from datetime import datetime\n",
    "from tqdm import tqdm_notebook as tqdm\n",
    "import pandas_datareader as pdr\n",
    "import matplotlib.pyplot as plt\n",
    "from graham import *\n",
    "\n",
    "warnings.filterwarnings('ignore')\n",
    "quandl.ApiConfig.api_key = os.getenv('QUANDL_APY_KEY')"
   ]
  },
  {
   "cell_type": "code",
   "execution_count": 2,
   "metadata": {},
   "outputs": [],
   "source": [
    "list_sp500 = get_sp500_symbols()"
   ]
  },
  {
   "cell_type": "code",
   "execution_count": 15,
   "metadata": {},
   "outputs": [
    {
     "data": {
      "application/vnd.jupyter.widget-view+json": {
       "model_id": "332983129ded4db48da97c812c0ada41",
       "version_major": 2,
       "version_minor": 0
      },
      "text/plain": [
       "HBox(children=(IntProgress(value=0, max=505), HTML(value='')))"
      ]
     },
     "metadata": {},
     "output_type": "display_data"
    },
    {
     "name": "stdout",
     "output_type": "stream",
     "text": [
      "\n",
      "2008-12-31 companies: ['ALB', 'BDX', 'CTAS', 'XRAY', 'BEN', 'GWW', 'HRS', 'HP', 'ITW', 'LB', 'MDT', 'NKE', 'NUE', 'PFE', 'SYK', 'TIF', 'TSS']\n"
     ]
    },
    {
     "data": {
      "application/vnd.jupyter.widget-view+json": {
       "model_id": "37121d7d1aa749f29a4738cde791781a",
       "version_major": 2,
       "version_minor": 0
      },
      "text/plain": [
       "HBox(children=(IntProgress(value=0, max=505), HTML(value='')))"
      ]
     },
     "metadata": {},
     "output_type": "display_data"
    },
    {
     "name": "stdout",
     "output_type": "stream",
     "text": [
      "\n",
      "2009-12-31 companies: ['ALB', 'BDX', 'CTAS', 'CAG', 'XRAY', 'EXPD', 'FAST', 'BEN', 'GWW', 'HOG', 'HRL', 'IFF', 'MDT', 'NKE', 'NUE', 'PNR', 'ROK', 'SNA', 'SYK', 'TIF', 'TSS']\n"
     ]
    },
    {
     "data": {
      "application/vnd.jupyter.widget-view+json": {
       "model_id": "02d1214c175546789c4a0214d019b806",
       "version_major": 2,
       "version_minor": 0
      },
      "text/plain": [
       "HBox(children=(IntProgress(value=0, max=505), HTML(value='')))"
      ]
     },
     "metadata": {},
     "output_type": "display_data"
    },
    {
     "name": "stdout",
     "output_type": "stream",
     "text": [
      "\n",
      "2010-12-31 companies: ['MMM', 'ALB', 'BDX', 'BMY', 'CTAS', 'XRAY', 'EXPD', 'FAST', 'BEN', 'GWW', 'HP', 'ITW', 'IFF', 'MLM', 'NKE', 'PNR', 'ROK', 'SNA', 'SYK', 'TFX', 'TIF', 'TSS']\n"
     ]
    },
    {
     "data": {
      "application/vnd.jupyter.widget-view+json": {
       "model_id": "92202d27100444679081389322c42d4b",
       "version_major": 2,
       "version_minor": 0
      },
      "text/plain": [
       "HBox(children=(IntProgress(value=0, max=505), HTML(value='')))"
      ]
     },
     "metadata": {},
     "output_type": "display_data"
    },
    {
     "name": "stdout",
     "output_type": "stream",
     "text": [
      "\n",
      "2011-12-31 companies: ['MMM', 'ALB', 'ADM', 'BDX', 'CTAS', 'XRAY', 'EXPD', 'FAST', 'BEN', 'GWW', 'HP', 'HRL', 'IFF', 'NKE', 'PFE', 'SNA', 'SYK', 'TFX', 'TIF', 'TSS']\n"
     ]
    },
    {
     "data": {
      "application/vnd.jupyter.widget-view+json": {
       "model_id": "a24fda5db6064c8f878ed713b57524dd",
       "version_major": 2,
       "version_minor": 0
      },
      "text/plain": [
       "HBox(children=(IntProgress(value=0, max=505), HTML(value='')))"
      ]
     },
     "metadata": {},
     "output_type": "display_data"
    },
    {
     "name": "stdout",
     "output_type": "stream",
     "text": [
      "\n",
      "2012-12-31 companies: ['MMM', 'ALB', 'AOS', 'BDX', 'CTAS', 'EXPD', 'FAST', 'GPS', 'HP', 'HRL', 'ITW', 'INTC', 'IFF', 'JNJ', 'NKE', 'JWN', 'ROK', 'ROP', 'SNA', 'SYK', 'TFX', 'TIF']\n"
     ]
    },
    {
     "data": {
      "application/vnd.jupyter.widget-view+json": {
       "model_id": "20ca1dcb0f0d4ad1aabf2652e9d0fbe1",
       "version_major": 2,
       "version_minor": 0
      },
      "text/plain": [
       "HBox(children=(IntProgress(value=0, max=505), HTML(value='')))"
      ]
     },
     "metadata": {},
     "output_type": "display_data"
    },
    {
     "name": "stdout",
     "output_type": "stream",
     "text": [
      "\n",
      "2013-12-31 companies: ['MMM', 'ABT', 'ALB', 'AOS', 'BDX', 'CTAS', 'DWDP', 'EL', 'EXPD', 'FAST', 'GWW', 'HP', 'HFC', 'HRL', 'ITW', 'INTC', 'IFF', 'MAT', 'MDT', 'MCO', 'NKE', 'JWN', 'PCAR', 'ROK', 'SNA', 'SYK', 'TXN', 'TIF', 'TSS']\n"
     ]
    },
    {
     "data": {
      "application/vnd.jupyter.widget-view+json": {
       "model_id": "0557395631f84238b3bf15118ece6d0b",
       "version_major": 2,
       "version_minor": 0
      },
      "text/plain": [
       "HBox(children=(IntProgress(value=0, max=505), HTML(value='')))"
      ]
     },
     "metadata": {},
     "output_type": "display_data"
    },
    {
     "name": "stdout",
     "output_type": "stream",
     "text": [
      "\n",
      "2014-12-31 companies: ['ABT', 'ALB', 'AOS', 'BDX', 'CTAS', 'CMI', 'DHR', 'DOV', 'DWDP', 'EL', 'EXPD', 'FAST', 'GWW', 'HP', 'HFC', 'HRL', 'INTC', 'IFF', 'JNJ', 'MAT', 'MDT', 'MCO', 'NKE', 'JWN', 'PFE', 'ROK', 'ROP', 'SNA', 'SYK', 'TXN', 'TIF', 'TSS', 'VFC', 'VZ']\n"
     ]
    },
    {
     "data": {
      "application/vnd.jupyter.widget-view+json": {
       "model_id": "fc5aa9995bbc4327a1eee189c5e0972a",
       "version_major": 2,
       "version_minor": 0
      },
      "text/plain": [
       "HBox(children=(IntProgress(value=0, max=505), HTML(value='')))"
      ]
     },
     "metadata": {},
     "output_type": "display_data"
    },
    {
     "name": "stdout",
     "output_type": "stream",
     "text": [
      "\n",
      "2015-12-31 companies: ['ALB', 'AOS', 'CTAS', 'CMI', 'DWDP', 'EL', 'EXPD', 'FAST', 'GWW', 'HAS', 'HP', 'HFC', 'ITW', 'IFF', 'SJM', 'JNJ', 'MAT', 'MDT', 'MCO', 'NKE', 'PH', 'PFE', 'PVH', 'ROK', 'ROP', 'SNA', 'SYK', 'TXN', 'TIF', 'TSS', 'VFC']\n"
     ]
    },
    {
     "data": {
      "application/vnd.jupyter.widget-view+json": {
       "model_id": "d7292aecca0848d1a04378bb550a490f",
       "version_major": 2,
       "version_minor": 0
      },
      "text/plain": [
       "HBox(children=(IntProgress(value=0, max=505), HTML(value='')))"
      ]
     },
     "metadata": {},
     "output_type": "display_data"
    },
    {
     "name": "stdout",
     "output_type": "stream",
     "text": [
      "\n",
      "2016-12-31 companies: ['AOS', 'BAX', 'CMI', 'XRAY', 'DWDP', 'EXPD', 'FAST', 'HAS', 'ITW', 'INTC', 'JNJ', 'LB', 'MCD', 'MDT', 'MCO', 'NKE', 'PCAR', 'PH', 'ROK', 'ROP', 'SNA', 'SYK', 'TXN', 'TIF', 'TSS', 'VFC']\n"
     ]
    },
    {
     "data": {
      "application/vnd.jupyter.widget-view+json": {
       "model_id": "b709363f6d9847efa577c63453e60322",
       "version_major": 2,
       "version_minor": 0
      },
      "text/plain": [
       "HBox(children=(IntProgress(value=0, max=505), HTML(value='')))"
      ]
     },
     "metadata": {},
     "output_type": "display_data"
    },
    {
     "name": "stdout",
     "output_type": "stream",
     "text": [
      "\n",
      "2017-12-31 companies: ['APD', 'ALB', 'AME', 'AOS', 'BAX', 'BDX', 'XRAY', 'EXPD', 'FAST', 'ITW', 'JNJ', 'NKE', 'SYK', 'TXN', 'TIF', 'TSS', 'VFC']\n"
     ]
    },
    {
     "data": {
      "application/vnd.jupyter.widget-view+json": {
       "model_id": "2c79a3e149d243c2ac35bb995d64e317",
       "version_major": 2,
       "version_minor": 0
      },
      "text/plain": [
       "HBox(children=(IntProgress(value=0, max=505), HTML(value='')))"
      ]
     },
     "metadata": {},
     "output_type": "display_data"
    },
    {
     "name": "stdout",
     "output_type": "stream",
     "text": [
      "\n",
      "2018-12-31 companies: ['APD', 'ALB', 'AOS', 'BAX', 'CTAS', 'COO', 'EXPD', 'FAST', 'GWW', 'HAS', 'ITW', 'IFF', 'MLM', 'NKE', 'SYK', 'TXN', 'TIF']\n"
     ]
    }
   ],
   "source": [
    "from collections import defaultdict\n",
    "\n",
    "dic = defaultdict(list)\n",
    "dr = pd.date_range('2008-01-01', '2019-01-01', freq='Y')\n",
    "\n",
    "fname = os.path.join(os.getcwd(), 'data_defensive', 'sf1.csv')\n",
    "df_all = pd.read_csv(fname, parse_dates=['calendardate', 'datekey'])\n",
    "    \n",
    "for date in dr:\n",
    "    list_passing_companies = criteria_defensive_investor_list(list_sp500, all_data=df_all, \n",
    "                                                              relax_current_ratio=False, dt=date, \n",
    "                                                              show_progress=True)\n",
    "    print(f\"{date:%Y-%m-%d} companies: {list_passing_companies}\")\n",
    "    dic[date] = list_passing_companies"
   ]
  },
  {
   "cell_type": "code",
   "execution_count": 43,
   "metadata": {},
   "outputs": [
    {
     "data": {
      "text/html": [
       "<div>\n",
       "<style scoped>\n",
       "    .dataframe tbody tr th:only-of-type {\n",
       "        vertical-align: middle;\n",
       "    }\n",
       "\n",
       "    .dataframe tbody tr th {\n",
       "        vertical-align: top;\n",
       "    }\n",
       "\n",
       "    .dataframe thead th {\n",
       "        text-align: right;\n",
       "    }\n",
       "</style>\n",
       "<table border=\"1\" class=\"dataframe\">\n",
       "  <thead>\n",
       "    <tr style=\"text-align: right;\">\n",
       "      <th></th>\n",
       "      <th>calendardate</th>\n",
       "      <th>datekey</th>\n",
       "      <th>revenueusd</th>\n",
       "      <th>currentratio</th>\n",
       "      <th>eps</th>\n",
       "      <th>dps</th>\n",
       "      <th>bvps</th>\n",
       "      <th>price</th>\n",
       "    </tr>\n",
       "  </thead>\n",
       "  <tbody>\n",
       "    <tr>\n",
       "      <th>107134</th>\n",
       "      <td>1997-12-31</td>\n",
       "      <td>1998-03-27</td>\n",
       "      <td>1.066300e+09</td>\n",
       "      <td>2.323</td>\n",
       "      <td>0.323</td>\n",
       "      <td>0.022</td>\n",
       "      <td>2.204</td>\n",
       "      <td>5.500</td>\n",
       "    </tr>\n",
       "    <tr>\n",
       "      <th>107135</th>\n",
       "      <td>1998-12-31</td>\n",
       "      <td>1999-03-25</td>\n",
       "      <td>1.238907e+09</td>\n",
       "      <td>2.218</td>\n",
       "      <td>0.443</td>\n",
       "      <td>0.023</td>\n",
       "      <td>3.083</td>\n",
       "      <td>6.730</td>\n",
       "    </tr>\n",
       "    <tr>\n",
       "      <th>107136</th>\n",
       "      <td>1999-12-31</td>\n",
       "      <td>2000-03-24</td>\n",
       "      <td>1.435055e+09</td>\n",
       "      <td>2.363</td>\n",
       "      <td>0.507</td>\n",
       "      <td>0.025</td>\n",
       "      <td>3.515</td>\n",
       "      <td>4.417</td>\n",
       "    </tr>\n",
       "    <tr>\n",
       "      <th>107137</th>\n",
       "      <td>2000-12-31</td>\n",
       "      <td>2001-03-28</td>\n",
       "      <td>1.389443e+09</td>\n",
       "      <td>2.503</td>\n",
       "      <td>0.507</td>\n",
       "      <td>0.027</td>\n",
       "      <td>3.941</td>\n",
       "      <td>5.000</td>\n",
       "    </tr>\n",
       "    <tr>\n",
       "      <th>107138</th>\n",
       "      <td>2001-12-31</td>\n",
       "      <td>2002-03-27</td>\n",
       "      <td>1.530353e+09</td>\n",
       "      <td>2.119</td>\n",
       "      <td>0.560</td>\n",
       "      <td>0.028</td>\n",
       "      <td>3.889</td>\n",
       "      <td>8.213</td>\n",
       "    </tr>\n",
       "    <tr>\n",
       "      <th>107139</th>\n",
       "      <td>2002-12-31</td>\n",
       "      <td>2003-03-14</td>\n",
       "      <td>1.639899e+09</td>\n",
       "      <td>2.702</td>\n",
       "      <td>0.680</td>\n",
       "      <td>0.030</td>\n",
       "      <td>4.940</td>\n",
       "      <td>5.077</td>\n",
       "    </tr>\n",
       "    <tr>\n",
       "      <th>107140</th>\n",
       "      <td>2003-12-31</td>\n",
       "      <td>2004-03-11</td>\n",
       "      <td>1.898830e+09</td>\n",
       "      <td>2.342</td>\n",
       "      <td>0.753</td>\n",
       "      <td>0.032</td>\n",
       "      <td>5.704</td>\n",
       "      <td>10.507</td>\n",
       "    </tr>\n",
       "    <tr>\n",
       "      <th>107141</th>\n",
       "      <td>2004-12-31</td>\n",
       "      <td>2005-03-10</td>\n",
       "      <td>2.453281e+09</td>\n",
       "      <td>2.211</td>\n",
       "      <td>0.900</td>\n",
       "      <td>0.033</td>\n",
       "      <td>6.577</td>\n",
       "      <td>12.780</td>\n",
       "    </tr>\n",
       "    <tr>\n",
       "      <th>107142</th>\n",
       "      <td>2005-12-31</td>\n",
       "      <td>2006-03-08</td>\n",
       "      <td>2.691522e+09</td>\n",
       "      <td>2.460</td>\n",
       "      <td>1.223</td>\n",
       "      <td>0.035</td>\n",
       "      <td>7.772</td>\n",
       "      <td>19.963</td>\n",
       "    </tr>\n",
       "    <tr>\n",
       "      <th>107144</th>\n",
       "      <td>2006-12-31</td>\n",
       "      <td>2007-02-27</td>\n",
       "      <td>2.664572e+09</td>\n",
       "      <td>2.472</td>\n",
       "      <td>1.243</td>\n",
       "      <td>0.037</td>\n",
       "      <td>9.071</td>\n",
       "      <td>17.180</td>\n",
       "    </tr>\n",
       "    <tr>\n",
       "      <th>107145</th>\n",
       "      <td>2007-12-31</td>\n",
       "      <td>2008-02-26</td>\n",
       "      <td>2.513178e+09</td>\n",
       "      <td>3.076</td>\n",
       "      <td>0.367</td>\n",
       "      <td>0.038</td>\n",
       "      <td>9.408</td>\n",
       "      <td>9.930</td>\n",
       "    </tr>\n",
       "    <tr>\n",
       "      <th>107146</th>\n",
       "      <td>2008-12-31</td>\n",
       "      <td>2009-02-25</td>\n",
       "      <td>2.232394e+09</td>\n",
       "      <td>2.529</td>\n",
       "      <td>0.077</td>\n",
       "      <td>0.040</td>\n",
       "      <td>9.427</td>\n",
       "      <td>7.503</td>\n",
       "    </tr>\n",
       "    <tr>\n",
       "      <th>107147</th>\n",
       "      <td>2009-12-31</td>\n",
       "      <td>2010-02-23</td>\n",
       "      <td>1.673000e+09</td>\n",
       "      <td>2.836</td>\n",
       "      <td>0.420</td>\n",
       "      <td>0.087</td>\n",
       "      <td>9.830</td>\n",
       "      <td>11.590</td>\n",
       "    </tr>\n",
       "  </tbody>\n",
       "</table>\n",
       "</div>"
      ],
      "text/plain": [
       "       calendardate    datekey    revenueusd  currentratio    eps    dps  \\\n",
       "107134   1997-12-31 1998-03-27  1.066300e+09         2.323  0.323  0.022   \n",
       "107135   1998-12-31 1999-03-25  1.238907e+09         2.218  0.443  0.023   \n",
       "107136   1999-12-31 2000-03-24  1.435055e+09         2.363  0.507  0.025   \n",
       "107137   2000-12-31 2001-03-28  1.389443e+09         2.503  0.507  0.027   \n",
       "107138   2001-12-31 2002-03-27  1.530353e+09         2.119  0.560  0.028   \n",
       "107139   2002-12-31 2003-03-14  1.639899e+09         2.702  0.680  0.030   \n",
       "107140   2003-12-31 2004-03-11  1.898830e+09         2.342  0.753  0.032   \n",
       "107141   2004-12-31 2005-03-10  2.453281e+09         2.211  0.900  0.033   \n",
       "107142   2005-12-31 2006-03-08  2.691522e+09         2.460  1.223  0.035   \n",
       "107144   2006-12-31 2007-02-27  2.664572e+09         2.472  1.243  0.037   \n",
       "107145   2007-12-31 2008-02-26  2.513178e+09         3.076  0.367  0.038   \n",
       "107146   2008-12-31 2009-02-25  2.232394e+09         2.529  0.077  0.040   \n",
       "107147   2009-12-31 2010-02-23  1.673000e+09         2.836  0.420  0.087   \n",
       "\n",
       "         bvps   price  \n",
       "107134  2.204   5.500  \n",
       "107135  3.083   6.730  \n",
       "107136  3.515   4.417  \n",
       "107137  3.941   5.000  \n",
       "107138  3.889   8.213  \n",
       "107139  4.940   5.077  \n",
       "107140  5.704  10.507  \n",
       "107141  6.577  12.780  \n",
       "107142  7.772  19.963  \n",
       "107144  9.071  17.180  \n",
       "107145  9.408   9.930  \n",
       "107146  9.427   7.503  \n",
       "107147  9.830  11.590  "
      ]
     },
     "execution_count": 43,
     "metadata": {},
     "output_type": "execute_result"
    }
   ],
   "source": [
    "get_data('UFPI', dt=datetime(2010, 12, 31))"
   ]
  },
  {
   "cell_type": "code",
   "execution_count": 47,
   "metadata": {},
   "outputs": [
    {
     "data": {
      "text/plain": [
       "<matplotlib.axes._subplots.AxesSubplot at 0x10c5167f0>"
      ]
     },
     "execution_count": 47,
     "metadata": {},
     "output_type": "execute_result"
    },
    {
     "data": {
      "image/png": "[encoded data removed]",
      "text/plain": [
       "<Figure size 1152x648 with 1 Axes>"
      ]
     },
     "metadata": {
      "needs_background": "light"
     },
     "output_type": "display_data"
    }
   ],
   "source": [
    "list_pes = ['NKE', 'BAX']\n",
    "def get_daily_pes(ticker, start_date, end_date=datetime.today()):\n",
    "    result = quandl.get_table('SHARADAR/DAILY', ticker=ticker, qopts={\"columns\":[\"date\", \"pe\"]}, \n",
    "                          date={'gte': start_date, 'lte': end_date})\n",
    "    result.set_index('date', inplace=True)\n",
    "    result.sort_index(inplace=True)\n",
    "    result.rename(columns={'pe': ticker}, inplace=True)\n",
    "    return result\n",
    "\n",
    "list_companies_pes = []\n",
    "for ticker in list_pes:\n",
    "    list_companies_pes.append(get_daily_pes(ticker, datetime(2008, 12, 31)))\n",
    "    \n",
    "result2 = pd.concat(list_companies_pes, axis=1)\n",
    "result2['Under'] = 15\n",
    "result2['Over'] = 25\n",
    "result2.plot(figsize=(16, 9)) #, ylim=(0, 100))"
   ]
  },
  {
   "cell_type": "code",
   "execution_count": null,
   "metadata": {},
   "outputs": [],
   "source": []
  }
 ],
 "metadata": {
  "kernelspec": {
   "display_name": "Python 3",
   "language": "python",
   "name": "python3"
  },
  "language_info": {
   "codemirror_mode": {
    "name": "ipython",
    "version": 3
   },
   "file_extension": ".py",
   "mimetype": "text/x-python",
   "name": "python",
   "nbconvert_exporter": "python",
   "pygments_lexer": "ipython3",
   "version": "3.6.6"
  }
 },
 "nbformat": 4,
 "nbformat_minor": 2
}

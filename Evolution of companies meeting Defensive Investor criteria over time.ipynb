{
 "cells": [
  {
   "cell_type": "markdown",
   "metadata": {},
   "source": [
    "# Evolution of companies meeting Defensive Investor criteria: 2008 to today\n",
    "**Purpose.** Purpose of this notebook is to evaluate how many companies pass Ben Graham's test criteria for the *defensive investor*, as described in *Chapter 14 of Intelligent Investor*, **over time, from 2008 to today.**\n",
    "\n",
    "This notebook was built on top of [Stock Selection for the Defensive Investor](http://localhost:8888/notebooks/Stock%20Selection%20for%20the%20Defensive%20Investor%20v2.ipynb#)."
   ]
  },
  {
   "cell_type": "code",
   "execution_count": 1,
   "metadata": {},
   "outputs": [],
   "source": [
    "%load_ext autoreload\n",
    "%autoreload 2\n",
    "\n",
    "import sys\n",
    "import pandas as pd\n",
    "import numpy as np\n",
    "import quandl\n",
    "import os\n",
    "import warnings\n",
    "from datetime import datetime\n",
    "from tqdm import tqdm_notebook as tqdm\n",
    "import pandas_datareader as pdr\n",
    "import matplotlib.pyplot as plt\n",
    "from graham import *\n",
    "\n",
    "warnings.filterwarnings('ignore')\n",
    "quandl.ApiConfig.api_key = os.getenv('QUANDL_APY_KEY')"
   ]
  },
  {
   "cell_type": "markdown",
   "metadata": {},
   "source": [
    "## Getting necessary data for a given company\n",
    "This function was changed vs. [Stock Selection for the Defensive Investor](http://localhost:8888/notebooks/Stock%20Selection%20for%20the%20Defensive%20Investor%20v2.ipynb#). Changed from `revenue` to `revenueusd`.\n",
    "\n",
    "**IMPORTANT: this function is now included at `/graham/defensive.py`.**"
   ]
  },
  {
   "cell_type": "code",
   "execution_count": 2,
   "metadata": {},
   "outputs": [
    {
     "data": {
      "text/html": [
       "<div>\n",
       "<style scoped>\n",
       "    .dataframe tbody tr th:only-of-type {\n",
       "        vertical-align: middle;\n",
       "    }\n",
       "\n",
       "    .dataframe tbody tr th {\n",
       "        vertical-align: top;\n",
       "    }\n",
       "\n",
       "    .dataframe thead th {\n",
       "        text-align: right;\n",
       "    }\n",
       "</style>\n",
       "<table border=\"1\" class=\"dataframe\">\n",
       "  <thead>\n",
       "    <tr style=\"text-align: right;\">\n",
       "      <th></th>\n",
       "      <th>calendardate</th>\n",
       "      <th>datekey</th>\n",
       "      <th>revenueusd</th>\n",
       "      <th>currentratio</th>\n",
       "      <th>eps</th>\n",
       "      <th>dps</th>\n",
       "      <th>bvps</th>\n",
       "      <th>price</th>\n",
       "    </tr>\n",
       "  </thead>\n",
       "  <tbody>\n",
       "    <tr>\n",
       "      <th>236</th>\n",
       "      <td>1997-12-31</td>\n",
       "      <td>1997-12-05</td>\n",
       "      <td>7.081000e+09</td>\n",
       "      <td>1.883</td>\n",
       "      <td>-0.296</td>\n",
       "      <td>0.0</td>\n",
       "      <td>0.340</td>\n",
       "      <td>0.565</td>\n",
       "    </tr>\n",
       "    <tr>\n",
       "      <th>237</th>\n",
       "      <td>1998-12-31</td>\n",
       "      <td>1998-12-23</td>\n",
       "      <td>5.941000e+09</td>\n",
       "      <td>2.433</td>\n",
       "      <td>0.084</td>\n",
       "      <td>0.0</td>\n",
       "      <td>0.434</td>\n",
       "      <td>1.422</td>\n",
       "    </tr>\n",
       "    <tr>\n",
       "      <th>238</th>\n",
       "      <td>1999-12-31</td>\n",
       "      <td>1999-12-22</td>\n",
       "      <td>6.134000e+09</td>\n",
       "      <td>2.766</td>\n",
       "      <td>0.150</td>\n",
       "      <td>0.0</td>\n",
       "      <td>0.706</td>\n",
       "      <td>3.569</td>\n",
       "    </tr>\n",
       "    <tr>\n",
       "      <th>239</th>\n",
       "      <td>2000-12-31</td>\n",
       "      <td>2000-12-14</td>\n",
       "      <td>7.983000e+09</td>\n",
       "      <td>2.808</td>\n",
       "      <td>0.173</td>\n",
       "      <td>0.0</td>\n",
       "      <td>0.897</td>\n",
       "      <td>1.031</td>\n",
       "    </tr>\n",
       "    <tr>\n",
       "      <th>240</th>\n",
       "      <td>2001-12-31</td>\n",
       "      <td>2001-12-21</td>\n",
       "      <td>5.363000e+09</td>\n",
       "      <td>3.388</td>\n",
       "      <td>-0.005</td>\n",
       "      <td>0.0</td>\n",
       "      <td>0.798</td>\n",
       "      <td>1.500</td>\n",
       "    </tr>\n",
       "  </tbody>\n",
       "</table>\n",
       "</div>"
      ],
      "text/plain": [
       "    calendardate    datekey    revenueusd  currentratio    eps  dps   bvps  \\\n",
       "236   1997-12-31 1997-12-05  7.081000e+09         1.883 -0.296  0.0  0.340   \n",
       "237   1998-12-31 1998-12-23  5.941000e+09         2.433  0.084  0.0  0.434   \n",
       "238   1999-12-31 1999-12-22  6.134000e+09         2.766  0.150  0.0  0.706   \n",
       "239   2000-12-31 2000-12-14  7.983000e+09         2.808  0.173  0.0  0.897   \n",
       "240   2001-12-31 2001-12-21  5.363000e+09         3.388 -0.005  0.0  0.798   \n",
       "\n",
       "     price  \n",
       "236  0.565  \n",
       "237  1.422  \n",
       "238  3.569  \n",
       "239  1.031  \n",
       "240  1.500  "
      ]
     },
     "execution_count": 2,
     "metadata": {},
     "output_type": "execute_result"
    }
   ],
   "source": [
    "get_data('AAPL').head()"
   ]
  },
  {
   "cell_type": "markdown",
   "metadata": {},
   "source": [
    "## Check if a company pass the 7 criteria in a given date\n",
    "This function was changed vs. [Stock Selection for the Defensive Investor](http://localhost:8888/notebooks/Stock%20Selection%20for%20the%20Defensive%20Investor%20v2.ipynb#). Added the column `first_five_criteria` in the returned Dataframe, which is `True` if a company meets only first five criteria, **excluding PE and PB criteria**. Also added `force_download` flag. Finally, added `relax_current_ratio=False`: if `True`, passes **current_ratio** criteria for companies without it.\n",
    "\n",
    "**IMPORTANT: this function is now included at `/graham/defensive.py`.**"
   ]
  },
  {
   "cell_type": "code",
   "execution_count": 3,
   "metadata": {},
   "outputs": [
    {
     "data": {
      "application/vnd.jupyter.widget-view+json": {
       "model_id": "d5c0961c7da94c9c967655b81e6e28dc",
       "version_major": 2,
       "version_minor": 0
      },
      "text/plain": [
       "HBox(children=(IntProgress(value=0, max=30), HTML(value='')))"
      ]
     },
     "metadata": {},
     "output_type": "display_data"
    },
    {
     "name": "stdout",
     "output_type": "stream",
     "text": [
      "\n"
     ]
    },
    {
     "data": {
      "text/html": [
       "<div>\n",
       "<style scoped>\n",
       "    .dataframe tbody tr th:only-of-type {\n",
       "        vertical-align: middle;\n",
       "    }\n",
       "\n",
       "    .dataframe tbody tr th {\n",
       "        vertical-align: top;\n",
       "    }\n",
       "\n",
       "    .dataframe thead th {\n",
       "        text-align: right;\n",
       "    }\n",
       "</style>\n",
       "<table border=\"1\" class=\"dataframe\">\n",
       "  <thead>\n",
       "    <tr style=\"text-align: right;\">\n",
       "      <th></th>\n",
       "      <th>ticker</th>\n",
       "      <th>last_date</th>\n",
       "      <th>first_date</th>\n",
       "      <th>revenueusd</th>\n",
       "      <th>current_ratio</th>\n",
       "      <th>positive_eps_p10yrs_count</th>\n",
       "      <th>dividend_distribution_p20yrs_count</th>\n",
       "      <th>earnings_change_p10yrs</th>\n",
       "      <th>pe</th>\n",
       "      <th>pb</th>\n",
       "      <th>pexpb</th>\n",
       "      <th>size_criteria</th>\n",
       "      <th>financial_condition_criteria</th>\n",
       "      <th>earnings_stability_criteria</th>\n",
       "      <th>dividend_record_criteria</th>\n",
       "      <th>earnings_growth_criteria</th>\n",
       "      <th>pe_criteria</th>\n",
       "      <th>pb_criteria</th>\n",
       "      <th>first_five_criteria</th>\n",
       "      <th>full_criteria</th>\n",
       "    </tr>\n",
       "  </thead>\n",
       "  <tbody>\n",
       "    <tr>\n",
       "      <th>0</th>\n",
       "      <td>AXP</td>\n",
       "      <td>2007-12-31</td>\n",
       "      <td>1993-12-31</td>\n",
       "      <td>2.773100e+10</td>\n",
       "      <td>NaN</td>\n",
       "      <td>10</td>\n",
       "      <td>15</td>\n",
       "      <td>2.524555</td>\n",
       "      <td>14.012618</td>\n",
       "      <td>4.724527</td>\n",
       "      <td>66.202989</td>\n",
       "      <td>True</td>\n",
       "      <td>True</td>\n",
       "      <td>True</td>\n",
       "      <td>True</td>\n",
       "      <td>True</td>\n",
       "      <td>True</td>\n",
       "      <td>False</td>\n",
       "      <td>True</td>\n",
       "      <td>False</td>\n",
       "    </tr>\n",
       "    <tr>\n",
       "      <th>1</th>\n",
       "      <td>AAPL</td>\n",
       "      <td>2008-12-31</td>\n",
       "      <td>1997-12-31</td>\n",
       "      <td>3.247900e+10</td>\n",
       "      <td>2.462</td>\n",
       "      <td>9</td>\n",
       "      <td>0</td>\n",
       "      <td>-5.336478</td>\n",
       "      <td>26.087802</td>\n",
       "      <td>4.356953</td>\n",
       "      <td>113.663329</td>\n",
       "      <td>True</td>\n",
       "      <td>True</td>\n",
       "      <td>False</td>\n",
       "      <td>False</td>\n",
       "      <td>False</td>\n",
       "      <td>False</td>\n",
       "      <td>False</td>\n",
       "      <td>False</td>\n",
       "      <td>False</td>\n",
       "    </tr>\n",
       "    <tr>\n",
       "      <th>2</th>\n",
       "      <td>BA</td>\n",
       "      <td>2007-12-31</td>\n",
       "      <td>1997-12-31</td>\n",
       "      <td>6.638700e+10</td>\n",
       "      <td>0.865</td>\n",
       "      <td>10</td>\n",
       "      <td>11</td>\n",
       "      <td>-21.370370</td>\n",
       "      <td>22.143847</td>\n",
       "      <td>7.133406</td>\n",
       "      <td>157.961053</td>\n",
       "      <td>True</td>\n",
       "      <td>False</td>\n",
       "      <td>True</td>\n",
       "      <td>True</td>\n",
       "      <td>False</td>\n",
       "      <td>False</td>\n",
       "      <td>False</td>\n",
       "      <td>False</td>\n",
       "      <td>False</td>\n",
       "    </tr>\n",
       "    <tr>\n",
       "      <th>3</th>\n",
       "      <td>CAT</td>\n",
       "      <td>2007-12-31</td>\n",
       "      <td>1997-12-31</td>\n",
       "      <td>4.495800e+10</td>\n",
       "      <td>1.145</td>\n",
       "      <td>10</td>\n",
       "      <td>11</td>\n",
       "      <td>2.271772</td>\n",
       "      <td>14.113681</td>\n",
       "      <td>5.113873</td>\n",
       "      <td>72.175576</td>\n",
       "      <td>True</td>\n",
       "      <td>False</td>\n",
       "      <td>True</td>\n",
       "      <td>True</td>\n",
       "      <td>True</td>\n",
       "      <td>True</td>\n",
       "      <td>False</td>\n",
       "      <td>False</td>\n",
       "      <td>False</td>\n",
       "    </tr>\n",
       "    <tr>\n",
       "      <th>4</th>\n",
       "      <td>CSCO</td>\n",
       "      <td>2008-12-31</td>\n",
       "      <td>1995-12-31</td>\n",
       "      <td>3.954000e+10</td>\n",
       "      <td>2.576</td>\n",
       "      <td>9</td>\n",
       "      <td>0</td>\n",
       "      <td>6.414048</td>\n",
       "      <td>19.348703</td>\n",
       "      <td>3.844700</td>\n",
       "      <td>74.389963</td>\n",
       "      <td>True</td>\n",
       "      <td>True</td>\n",
       "      <td>False</td>\n",
       "      <td>False</td>\n",
       "      <td>True</td>\n",
       "      <td>False</td>\n",
       "      <td>False</td>\n",
       "      <td>False</td>\n",
       "      <td>False</td>\n",
       "    </tr>\n",
       "    <tr>\n",
       "      <th>5</th>\n",
       "      <td>CVX</td>\n",
       "      <td>2007-12-31</td>\n",
       "      <td>1997-12-31</td>\n",
       "      <td>2.209040e+11</td>\n",
       "      <td>1.165</td>\n",
       "      <td>10</td>\n",
       "      <td>11</td>\n",
       "      <td>3.118712</td>\n",
       "      <td>11.486452</td>\n",
       "      <td>2.398103</td>\n",
       "      <td>27.545700</td>\n",
       "      <td>True</td>\n",
       "      <td>False</td>\n",
       "      <td>True</td>\n",
       "      <td>True</td>\n",
       "      <td>True</td>\n",
       "      <td>True</td>\n",
       "      <td>False</td>\n",
       "      <td>False</td>\n",
       "      <td>False</td>\n",
       "    </tr>\n",
       "    <tr>\n",
       "      <th>6</th>\n",
       "      <td>DWDP</td>\n",
       "      <td>2007-12-31</td>\n",
       "      <td>1997-12-31</td>\n",
       "      <td>5.351300e+10</td>\n",
       "      <td>1.499</td>\n",
       "      <td>8</td>\n",
       "      <td>11</td>\n",
       "      <td>1.484185</td>\n",
       "      <td>10.141501</td>\n",
       "      <td>1.952459</td>\n",
       "      <td>19.800868</td>\n",
       "      <td>True</td>\n",
       "      <td>False</td>\n",
       "      <td>False</td>\n",
       "      <td>True</td>\n",
       "      <td>True</td>\n",
       "      <td>True</td>\n",
       "      <td>True</td>\n",
       "      <td>False</td>\n",
       "      <td>False</td>\n",
       "    </tr>\n",
       "    <tr>\n",
       "      <th>7</th>\n",
       "      <td>XOM</td>\n",
       "      <td>2007-12-31</td>\n",
       "      <td>1997-12-31</td>\n",
       "      <td>4.045520e+11</td>\n",
       "      <td>1.474</td>\n",
       "      <td>10</td>\n",
       "      <td>11</td>\n",
       "      <td>3.870968</td>\n",
       "      <td>13.542424</td>\n",
       "      <td>3.927238</td>\n",
       "      <td>53.184317</td>\n",
       "      <td>True</td>\n",
       "      <td>False</td>\n",
       "      <td>True</td>\n",
       "      <td>True</td>\n",
       "      <td>True</td>\n",
       "      <td>True</td>\n",
       "      <td>False</td>\n",
       "      <td>False</td>\n",
       "      <td>False</td>\n",
       "    </tr>\n",
       "    <tr>\n",
       "      <th>8</th>\n",
       "      <td>GS</td>\n",
       "      <td>2007-12-31</td>\n",
       "      <td>1999-12-31</td>\n",
       "      <td>4.598700e+10</td>\n",
       "      <td>NaN</td>\n",
       "      <td>9</td>\n",
       "      <td>9</td>\n",
       "      <td>NaN</td>\n",
       "      <td>9.968644</td>\n",
       "      <td>1.939438</td>\n",
       "      <td>19.333564</td>\n",
       "      <td>True</td>\n",
       "      <td>True</td>\n",
       "      <td>True</td>\n",
       "      <td>True</td>\n",
       "      <td>False</td>\n",
       "      <td>True</td>\n",
       "      <td>True</td>\n",
       "      <td>False</td>\n",
       "      <td>False</td>\n",
       "    </tr>\n",
       "    <tr>\n",
       "      <th>9</th>\n",
       "      <td>HD</td>\n",
       "      <td>2007-12-31</td>\n",
       "      <td>1996-12-31</td>\n",
       "      <td>7.734900e+10</td>\n",
       "      <td>1.155</td>\n",
       "      <td>10</td>\n",
       "      <td>12</td>\n",
       "      <td>5.487340</td>\n",
       "      <td>11.082174</td>\n",
       "      <td>2.748049</td>\n",
       "      <td>30.454353</td>\n",
       "      <td>True</td>\n",
       "      <td>False</td>\n",
       "      <td>True</td>\n",
       "      <td>True</td>\n",
       "      <td>True</td>\n",
       "      <td>True</td>\n",
       "      <td>False</td>\n",
       "      <td>False</td>\n",
       "      <td>False</td>\n",
       "    </tr>\n",
       "    <tr>\n",
       "      <th>10</th>\n",
       "      <td>IBM</td>\n",
       "      <td>2007-12-31</td>\n",
       "      <td>1997-12-31</td>\n",
       "      <td>9.878600e+10</td>\n",
       "      <td>1.200</td>\n",
       "      <td>10</td>\n",
       "      <td>11</td>\n",
       "      <td>1.993528</td>\n",
       "      <td>18.568182</td>\n",
       "      <td>5.561066</td>\n",
       "      <td>103.258880</td>\n",
       "      <td>True</td>\n",
       "      <td>False</td>\n",
       "      <td>True</td>\n",
       "      <td>True</td>\n",
       "      <td>True</td>\n",
       "      <td>False</td>\n",
       "      <td>False</td>\n",
       "      <td>False</td>\n",
       "      <td>False</td>\n",
       "    </tr>\n",
       "    <tr>\n",
       "      <th>11</th>\n",
       "      <td>INTC</td>\n",
       "      <td>2007-12-31</td>\n",
       "      <td>1997-12-31</td>\n",
       "      <td>3.833400e+10</td>\n",
       "      <td>2.787</td>\n",
       "      <td>10</td>\n",
       "      <td>11</td>\n",
       "      <td>1.094387</td>\n",
       "      <td>17.518625</td>\n",
       "      <td>2.783393</td>\n",
       "      <td>48.761209</td>\n",
       "      <td>True</td>\n",
       "      <td>True</td>\n",
       "      <td>True</td>\n",
       "      <td>True</td>\n",
       "      <td>False</td>\n",
       "      <td>False</td>\n",
       "      <td>False</td>\n",
       "      <td>False</td>\n",
       "      <td>False</td>\n",
       "    </tr>\n",
       "    <tr>\n",
       "      <th>12</th>\n",
       "      <td>JNJ</td>\n",
       "      <td>2007-12-31</td>\n",
       "      <td>2001-12-31</td>\n",
       "      <td>6.109500e+10</td>\n",
       "      <td>1.510</td>\n",
       "      <td>7</td>\n",
       "      <td>7</td>\n",
       "      <td>NaN</td>\n",
       "      <td>17.489478</td>\n",
       "      <td>4.166612</td>\n",
       "      <td>72.871874</td>\n",
       "      <td>True</td>\n",
       "      <td>False</td>\n",
       "      <td>True</td>\n",
       "      <td>True</td>\n",
       "      <td>False</td>\n",
       "      <td>False</td>\n",
       "      <td>False</td>\n",
       "      <td>False</td>\n",
       "      <td>False</td>\n",
       "    </tr>\n",
       "    <tr>\n",
       "      <th>13</th>\n",
       "      <td>KO</td>\n",
       "      <td>2007-12-31</td>\n",
       "      <td>1997-12-31</td>\n",
       "      <td>2.885700e+10</td>\n",
       "      <td>0.915</td>\n",
       "      <td>10</td>\n",
       "      <td>11</td>\n",
       "      <td>1.355289</td>\n",
       "      <td>26.270987</td>\n",
       "      <td>6.333617</td>\n",
       "      <td>166.390378</td>\n",
       "      <td>True</td>\n",
       "      <td>False</td>\n",
       "      <td>True</td>\n",
       "      <td>True</td>\n",
       "      <td>True</td>\n",
       "      <td>False</td>\n",
       "      <td>False</td>\n",
       "      <td>False</td>\n",
       "      <td>False</td>\n",
       "    </tr>\n",
       "    <tr>\n",
       "      <th>14</th>\n",
       "      <td>JPM</td>\n",
       "      <td>2007-12-31</td>\n",
       "      <td>1997-12-31</td>\n",
       "      <td>7.137200e+10</td>\n",
       "      <td>NaN</td>\n",
       "      <td>10</td>\n",
       "      <td>11</td>\n",
       "      <td>1.337188</td>\n",
       "      <td>10.986486</td>\n",
       "      <td>1.120514</td>\n",
       "      <td>12.310510</td>\n",
       "      <td>True</td>\n",
       "      <td>True</td>\n",
       "      <td>True</td>\n",
       "      <td>True</td>\n",
       "      <td>True</td>\n",
       "      <td>True</td>\n",
       "      <td>True</td>\n",
       "      <td>True</td>\n",
       "      <td>True</td>\n",
       "    </tr>\n",
       "    <tr>\n",
       "      <th>15</th>\n",
       "      <td>MCD</td>\n",
       "      <td>2007-12-31</td>\n",
       "      <td>1997-12-31</td>\n",
       "      <td>2.278660e+10</td>\n",
       "      <td>0.796</td>\n",
       "      <td>10</td>\n",
       "      <td>11</td>\n",
       "      <td>1.971631</td>\n",
       "      <td>24.194245</td>\n",
       "      <td>4.304916</td>\n",
       "      <td>104.154179</td>\n",
       "      <td>True</td>\n",
       "      <td>False</td>\n",
       "      <td>True</td>\n",
       "      <td>True</td>\n",
       "      <td>True</td>\n",
       "      <td>False</td>\n",
       "      <td>False</td>\n",
       "      <td>False</td>\n",
       "      <td>False</td>\n",
       "    </tr>\n",
       "    <tr>\n",
       "      <th>16</th>\n",
       "      <td>MMM</td>\n",
       "      <td>2007-12-31</td>\n",
       "      <td>1995-12-31</td>\n",
       "      <td>2.446200e+10</td>\n",
       "      <td>1.835</td>\n",
       "      <td>10</td>\n",
       "      <td>13</td>\n",
       "      <td>2.705671</td>\n",
       "      <td>15.958084</td>\n",
       "      <td>4.839881</td>\n",
       "      <td>77.235232</td>\n",
       "      <td>True</td>\n",
       "      <td>False</td>\n",
       "      <td>True</td>\n",
       "      <td>True</td>\n",
       "      <td>True</td>\n",
       "      <td>False</td>\n",
       "      <td>False</td>\n",
       "      <td>False</td>\n",
       "      <td>False</td>\n",
       "    </tr>\n",
       "    <tr>\n",
       "      <th>17</th>\n",
       "      <td>MRK</td>\n",
       "      <td>2007-12-31</td>\n",
       "      <td>1997-12-31</td>\n",
       "      <td>2.419770e+10</td>\n",
       "      <td>1.227</td>\n",
       "      <td>10</td>\n",
       "      <td>11</td>\n",
       "      <td>0.985205</td>\n",
       "      <td>23.957597</td>\n",
       "      <td>5.382234</td>\n",
       "      <td>128.945391</td>\n",
       "      <td>True</td>\n",
       "      <td>False</td>\n",
       "      <td>True</td>\n",
       "      <td>True</td>\n",
       "      <td>False</td>\n",
       "      <td>False</td>\n",
       "      <td>False</td>\n",
       "      <td>False</td>\n",
       "      <td>False</td>\n",
       "    </tr>\n",
       "    <tr>\n",
       "      <th>18</th>\n",
       "      <td>MSFT</td>\n",
       "      <td>2008-12-31</td>\n",
       "      <td>1994-12-31</td>\n",
       "      <td>6.042000e+10</td>\n",
       "      <td>1.447</td>\n",
       "      <td>10</td>\n",
       "      <td>6</td>\n",
       "      <td>4.545455</td>\n",
       "      <td>16.958242</td>\n",
       "      <td>6.567926</td>\n",
       "      <td>111.380485</td>\n",
       "      <td>True</td>\n",
       "      <td>False</td>\n",
       "      <td>True</td>\n",
       "      <td>False</td>\n",
       "      <td>True</td>\n",
       "      <td>False</td>\n",
       "      <td>False</td>\n",
       "      <td>False</td>\n",
       "      <td>False</td>\n",
       "    </tr>\n",
       "    <tr>\n",
       "      <th>19</th>\n",
       "      <td>NKE</td>\n",
       "      <td>2008-12-31</td>\n",
       "      <td>1998-12-31</td>\n",
       "      <td>1.862700e+10</td>\n",
       "      <td>2.661</td>\n",
       "      <td>10</td>\n",
       "      <td>11</td>\n",
       "      <td>4.575581</td>\n",
       "      <td>18.182973</td>\n",
       "      <td>3.587365</td>\n",
       "      <td>65.228967</td>\n",
       "      <td>True</td>\n",
       "      <td>True</td>\n",
       "      <td>True</td>\n",
       "      <td>True</td>\n",
       "      <td>True</td>\n",
       "      <td>False</td>\n",
       "      <td>False</td>\n",
       "      <td>True</td>\n",
       "      <td>False</td>\n",
       "    </tr>\n",
       "    <tr>\n",
       "      <th>20</th>\n",
       "      <td>PFE</td>\n",
       "      <td>2007-12-31</td>\n",
       "      <td>1997-12-31</td>\n",
       "      <td>4.841800e+10</td>\n",
       "      <td>2.146</td>\n",
       "      <td>10</td>\n",
       "      <td>11</td>\n",
       "      <td>2.810903</td>\n",
       "      <td>13.503030</td>\n",
       "      <td>2.322285</td>\n",
       "      <td>31.357882</td>\n",
       "      <td>True</td>\n",
       "      <td>True</td>\n",
       "      <td>True</td>\n",
       "      <td>True</td>\n",
       "      <td>True</td>\n",
       "      <td>True</td>\n",
       "      <td>False</td>\n",
       "      <td>True</td>\n",
       "      <td>False</td>\n",
       "    </tr>\n",
       "    <tr>\n",
       "      <th>21</th>\n",
       "      <td>PG</td>\n",
       "      <td>2008-12-31</td>\n",
       "      <td>1998-12-31</td>\n",
       "      <td>8.350300e+10</td>\n",
       "      <td>0.792</td>\n",
       "      <td>10</td>\n",
       "      <td>11</td>\n",
       "      <td>2.401460</td>\n",
       "      <td>21.583587</td>\n",
       "      <td>3.100467</td>\n",
       "      <td>66.919202</td>\n",
       "      <td>True</td>\n",
       "      <td>False</td>\n",
       "      <td>True</td>\n",
       "      <td>True</td>\n",
       "      <td>True</td>\n",
       "      <td>False</td>\n",
       "      <td>False</td>\n",
       "      <td>False</td>\n",
       "      <td>False</td>\n",
       "    </tr>\n",
       "    <tr>\n",
       "      <th>22</th>\n",
       "      <td>TRV</td>\n",
       "      <td>2007-12-31</td>\n",
       "      <td>1997-12-31</td>\n",
       "      <td>2.601700e+10</td>\n",
       "      <td>NaN</td>\n",
       "      <td>9</td>\n",
       "      <td>11</td>\n",
       "      <td>1.252013</td>\n",
       "      <td>9.079100</td>\n",
       "      <td>1.121170</td>\n",
       "      <td>10.179216</td>\n",
       "      <td>True</td>\n",
       "      <td>True</td>\n",
       "      <td>False</td>\n",
       "      <td>True</td>\n",
       "      <td>False</td>\n",
       "      <td>True</td>\n",
       "      <td>True</td>\n",
       "      <td>False</td>\n",
       "      <td>False</td>\n",
       "    </tr>\n",
       "    <tr>\n",
       "      <th>23</th>\n",
       "      <td>UNH</td>\n",
       "      <td>2007-12-31</td>\n",
       "      <td>1997-12-31</td>\n",
       "      <td>7.543100e+10</td>\n",
       "      <td>0.841</td>\n",
       "      <td>9</td>\n",
       "      <td>10</td>\n",
       "      <td>10.743322</td>\n",
       "      <td>15.502703</td>\n",
       "      <td>3.032995</td>\n",
       "      <td>47.019619</td>\n",
       "      <td>True</td>\n",
       "      <td>False</td>\n",
       "      <td>False</td>\n",
       "      <td>False</td>\n",
       "      <td>True</td>\n",
       "      <td>False</td>\n",
       "      <td>False</td>\n",
       "      <td>False</td>\n",
       "      <td>False</td>\n",
       "    </tr>\n",
       "    <tr>\n",
       "      <th>24</th>\n",
       "      <td>UTX</td>\n",
       "      <td>2007-12-31</td>\n",
       "      <td>1997-12-31</td>\n",
       "      <td>5.475900e+10</td>\n",
       "      <td>1.263</td>\n",
       "      <td>10</td>\n",
       "      <td>11</td>\n",
       "      <td>3.390390</td>\n",
       "      <td>18.991143</td>\n",
       "      <td>3.284920</td>\n",
       "      <td>62.384380</td>\n",
       "      <td>True</td>\n",
       "      <td>False</td>\n",
       "      <td>True</td>\n",
       "      <td>True</td>\n",
       "      <td>True</td>\n",
       "      <td>False</td>\n",
       "      <td>False</td>\n",
       "      <td>False</td>\n",
       "      <td>False</td>\n",
       "    </tr>\n",
       "    <tr>\n",
       "      <th>25</th>\n",
       "      <td>VZ</td>\n",
       "      <td>2007-12-31</td>\n",
       "      <td>1998-12-31</td>\n",
       "      <td>9.346900e+10</td>\n",
       "      <td>0.756</td>\n",
       "      <td>10</td>\n",
       "      <td>10</td>\n",
       "      <td>NaN</td>\n",
       "      <td>16.622951</td>\n",
       "      <td>2.121420</td>\n",
       "      <td>35.264254</td>\n",
       "      <td>True</td>\n",
       "      <td>False</td>\n",
       "      <td>True</td>\n",
       "      <td>True</td>\n",
       "      <td>False</td>\n",
       "      <td>False</td>\n",
       "      <td>False</td>\n",
       "      <td>False</td>\n",
       "      <td>False</td>\n",
       "    </tr>\n",
       "    <tr>\n",
       "      <th>26</th>\n",
       "      <td>V</td>\n",
       "      <td>2008-12-31</td>\n",
       "      <td>2007-12-31</td>\n",
       "      <td>6.263000e+09</td>\n",
       "      <td>1.560</td>\n",
       "      <td>1</td>\n",
       "      <td>1</td>\n",
       "      <td>NaN</td>\n",
       "      <td>48.312500</td>\n",
       "      <td>1.673885</td>\n",
       "      <td>80.869559</td>\n",
       "      <td>True</td>\n",
       "      <td>False</td>\n",
       "      <td>False</td>\n",
       "      <td>False</td>\n",
       "      <td>False</td>\n",
       "      <td>False</td>\n",
       "      <td>False</td>\n",
       "      <td>False</td>\n",
       "      <td>False</td>\n",
       "    </tr>\n",
       "    <tr>\n",
       "      <th>27</th>\n",
       "      <td>WBA</td>\n",
       "      <td>2008-12-31</td>\n",
       "      <td>1998-12-31</td>\n",
       "      <td>5.903400e+10</td>\n",
       "      <td>1.570</td>\n",
       "      <td>10</td>\n",
       "      <td>11</td>\n",
       "      <td>3.851133</td>\n",
       "      <td>12.705882</td>\n",
       "      <td>1.938163</td>\n",
       "      <td>24.626076</td>\n",
       "      <td>True</td>\n",
       "      <td>False</td>\n",
       "      <td>True</td>\n",
       "      <td>True</td>\n",
       "      <td>True</td>\n",
       "      <td>True</td>\n",
       "      <td>False</td>\n",
       "      <td>False</td>\n",
       "      <td>False</td>\n",
       "    </tr>\n",
       "    <tr>\n",
       "      <th>28</th>\n",
       "      <td>WMT</td>\n",
       "      <td>2007-12-31</td>\n",
       "      <td>1994-12-31</td>\n",
       "      <td>3.787990e+11</td>\n",
       "      <td>0.814</td>\n",
       "      <td>10</td>\n",
       "      <td>14</td>\n",
       "      <td>4.176471</td>\n",
       "      <td>18.549296</td>\n",
       "      <td>3.251651</td>\n",
       "      <td>60.315839</td>\n",
       "      <td>True</td>\n",
       "      <td>False</td>\n",
       "      <td>True</td>\n",
       "      <td>True</td>\n",
       "      <td>True</td>\n",
       "      <td>False</td>\n",
       "      <td>False</td>\n",
       "      <td>False</td>\n",
       "      <td>False</td>\n",
       "    </tr>\n",
       "    <tr>\n",
       "      <th>29</th>\n",
       "      <td>DIS</td>\n",
       "      <td>2008-12-31</td>\n",
       "      <td>1993-12-31</td>\n",
       "      <td>3.784300e+10</td>\n",
       "      <td>1.006</td>\n",
       "      <td>9</td>\n",
       "      <td>14</td>\n",
       "      <td>2.468203</td>\n",
       "      <td>9.048309</td>\n",
       "      <td>1.084728</td>\n",
       "      <td>9.814955</td>\n",
       "      <td>True</td>\n",
       "      <td>False</td>\n",
       "      <td>False</td>\n",
       "      <td>False</td>\n",
       "      <td>True</td>\n",
       "      <td>True</td>\n",
       "      <td>True</td>\n",
       "      <td>False</td>\n",
       "      <td>False</td>\n",
       "    </tr>\n",
       "  </tbody>\n",
       "</table>\n",
       "</div>"
      ],
      "text/plain": [
       "   ticker  last_date first_date    revenueusd  current_ratio  \\\n",
       "0     AXP 2007-12-31 1993-12-31  2.773100e+10            NaN   \n",
       "1    AAPL 2008-12-31 1997-12-31  3.247900e+10          2.462   \n",
       "2      BA 2007-12-31 1997-12-31  6.638700e+10          0.865   \n",
       "3     CAT 2007-12-31 1997-12-31  4.495800e+10          1.145   \n",
       "4    CSCO 2008-12-31 1995-12-31  3.954000e+10          2.576   \n",
       "5     CVX 2007-12-31 1997-12-31  2.209040e+11          1.165   \n",
       "6    DWDP 2007-12-31 1997-12-31  5.351300e+10          1.499   \n",
       "7     XOM 2007-12-31 1997-12-31  4.045520e+11          1.474   \n",
       "8      GS 2007-12-31 1999-12-31  4.598700e+10            NaN   \n",
       "9      HD 2007-12-31 1996-12-31  7.734900e+10          1.155   \n",
       "10    IBM 2007-12-31 1997-12-31  9.878600e+10          1.200   \n",
       "11   INTC 2007-12-31 1997-12-31  3.833400e+10          2.787   \n",
       "12    JNJ 2007-12-31 2001-12-31  6.109500e+10          1.510   \n",
       "13     KO 2007-12-31 1997-12-31  2.885700e+10          0.915   \n",
       "14    JPM 2007-12-31 1997-12-31  7.137200e+10            NaN   \n",
       "15    MCD 2007-12-31 1997-12-31  2.278660e+10          0.796   \n",
       "16    MMM 2007-12-31 1995-12-31  2.446200e+10          1.835   \n",
       "17    MRK 2007-12-31 1997-12-31  2.419770e+10          1.227   \n",
       "18   MSFT 2008-12-31 1994-12-31  6.042000e+10          1.447   \n",
       "19    NKE 2008-12-31 1998-12-31  1.862700e+10          2.661   \n",
       "20    PFE 2007-12-31 1997-12-31  4.841800e+10          2.146   \n",
       "21     PG 2008-12-31 1998-12-31  8.350300e+10          0.792   \n",
       "22    TRV 2007-12-31 1997-12-31  2.601700e+10            NaN   \n",
       "23    UNH 2007-12-31 1997-12-31  7.543100e+10          0.841   \n",
       "24    UTX 2007-12-31 1997-12-31  5.475900e+10          1.263   \n",
       "25     VZ 2007-12-31 1998-12-31  9.346900e+10          0.756   \n",
       "26      V 2008-12-31 2007-12-31  6.263000e+09          1.560   \n",
       "27    WBA 2008-12-31 1998-12-31  5.903400e+10          1.570   \n",
       "28    WMT 2007-12-31 1994-12-31  3.787990e+11          0.814   \n",
       "29    DIS 2008-12-31 1993-12-31  3.784300e+10          1.006   \n",
       "\n",
       "   positive_eps_p10yrs_count dividend_distribution_p20yrs_count  \\\n",
       "0                         10                                 15   \n",
       "1                          9                                  0   \n",
       "2                         10                                 11   \n",
       "3                         10                                 11   \n",
       "4                          9                                  0   \n",
       "5                         10                                 11   \n",
       "6                          8                                 11   \n",
       "7                         10                                 11   \n",
       "8                          9                                  9   \n",
       "9                         10                                 12   \n",
       "10                        10                                 11   \n",
       "11                        10                                 11   \n",
       "12                         7                                  7   \n",
       "13                        10                                 11   \n",
       "14                        10                                 11   \n",
       "15                        10                                 11   \n",
       "16                        10                                 13   \n",
       "17                        10                                 11   \n",
       "18                        10                                  6   \n",
       "19                        10                                 11   \n",
       "20                        10                                 11   \n",
       "21                        10                                 11   \n",
       "22                         9                                 11   \n",
       "23                         9                                 10   \n",
       "24                        10                                 11   \n",
       "25                        10                                 10   \n",
       "26                         1                                  1   \n",
       "27                        10                                 11   \n",
       "28                        10                                 14   \n",
       "29                         9                                 14   \n",
       "\n",
       "    earnings_change_p10yrs         pe        pb       pexpb size_criteria  \\\n",
       "0                 2.524555  14.012618  4.724527   66.202989          True   \n",
       "1                -5.336478  26.087802  4.356953  113.663329          True   \n",
       "2               -21.370370  22.143847  7.133406  157.961053          True   \n",
       "3                 2.271772  14.113681  5.113873   72.175576          True   \n",
       "4                 6.414048  19.348703  3.844700   74.389963          True   \n",
       "5                 3.118712  11.486452  2.398103   27.545700          True   \n",
       "6                 1.484185  10.141501  1.952459   19.800868          True   \n",
       "7                 3.870968  13.542424  3.927238   53.184317          True   \n",
       "8                      NaN   9.968644  1.939438   19.333564          True   \n",
       "9                 5.487340  11.082174  2.748049   30.454353          True   \n",
       "10                1.993528  18.568182  5.561066  103.258880          True   \n",
       "11                1.094387  17.518625  2.783393   48.761209          True   \n",
       "12                     NaN  17.489478  4.166612   72.871874          True   \n",
       "13                1.355289  26.270987  6.333617  166.390378          True   \n",
       "14                1.337188  10.986486  1.120514   12.310510          True   \n",
       "15                1.971631  24.194245  4.304916  104.154179          True   \n",
       "16                2.705671  15.958084  4.839881   77.235232          True   \n",
       "17                0.985205  23.957597  5.382234  128.945391          True   \n",
       "18                4.545455  16.958242  6.567926  111.380485          True   \n",
       "19                4.575581  18.182973  3.587365   65.228967          True   \n",
       "20                2.810903  13.503030  2.322285   31.357882          True   \n",
       "21                2.401460  21.583587  3.100467   66.919202          True   \n",
       "22                1.252013   9.079100  1.121170   10.179216          True   \n",
       "23               10.743322  15.502703  3.032995   47.019619          True   \n",
       "24                3.390390  18.991143  3.284920   62.384380          True   \n",
       "25                     NaN  16.622951  2.121420   35.264254          True   \n",
       "26                     NaN  48.312500  1.673885   80.869559          True   \n",
       "27                3.851133  12.705882  1.938163   24.626076          True   \n",
       "28                4.176471  18.549296  3.251651   60.315839          True   \n",
       "29                2.468203   9.048309  1.084728    9.814955          True   \n",
       "\n",
       "   financial_condition_criteria earnings_stability_criteria  \\\n",
       "0                          True                        True   \n",
       "1                          True                       False   \n",
       "2                         False                        True   \n",
       "3                         False                        True   \n",
       "4                          True                       False   \n",
       "5                         False                        True   \n",
       "6                         False                       False   \n",
       "7                         False                        True   \n",
       "8                          True                        True   \n",
       "9                         False                        True   \n",
       "10                        False                        True   \n",
       "11                         True                        True   \n",
       "12                        False                        True   \n",
       "13                        False                        True   \n",
       "14                         True                        True   \n",
       "15                        False                        True   \n",
       "16                        False                        True   \n",
       "17                        False                        True   \n",
       "18                        False                        True   \n",
       "19                         True                        True   \n",
       "20                         True                        True   \n",
       "21                        False                        True   \n",
       "22                         True                       False   \n",
       "23                        False                       False   \n",
       "24                        False                        True   \n",
       "25                        False                        True   \n",
       "26                        False                       False   \n",
       "27                        False                        True   \n",
       "28                        False                        True   \n",
       "29                        False                       False   \n",
       "\n",
       "   dividend_record_criteria earnings_growth_criteria pe_criteria pb_criteria  \\\n",
       "0                      True                     True        True       False   \n",
       "1                     False                    False       False       False   \n",
       "2                      True                    False       False       False   \n",
       "3                      True                     True        True       False   \n",
       "4                     False                     True       False       False   \n",
       "5                      True                     True        True       False   \n",
       "6                      True                     True        True        True   \n",
       "7                      True                     True        True       False   \n",
       "8                      True                    False        True        True   \n",
       "9                      True                     True        True       False   \n",
       "10                     True                     True       False       False   \n",
       "11                     True                    False       False       False   \n",
       "12                     True                    False       False       False   \n",
       "13                     True                     True       False       False   \n",
       "14                     True                     True        True        True   \n",
       "15                     True                     True       False       False   \n",
       "16                     True                     True       False       False   \n",
       "17                     True                    False       False       False   \n",
       "18                    False                     True       False       False   \n",
       "19                     True                     True       False       False   \n",
       "20                     True                     True        True       False   \n",
       "21                     True                     True       False       False   \n",
       "22                     True                    False        True        True   \n",
       "23                    False                     True       False       False   \n",
       "24                     True                     True       False       False   \n",
       "25                     True                    False       False       False   \n",
       "26                    False                    False       False       False   \n",
       "27                     True                     True        True       False   \n",
       "28                     True                     True       False       False   \n",
       "29                    False                     True        True        True   \n",
       "\n",
       "   first_five_criteria full_criteria  \n",
       "0                 True         False  \n",
       "1                False         False  \n",
       "2                False         False  \n",
       "3                False         False  \n",
       "4                False         False  \n",
       "5                False         False  \n",
       "6                False         False  \n",
       "7                False         False  \n",
       "8                False         False  \n",
       "9                False         False  \n",
       "10               False         False  \n",
       "11               False         False  \n",
       "12               False         False  \n",
       "13               False         False  \n",
       "14                True          True  \n",
       "15               False         False  \n",
       "16               False         False  \n",
       "17               False         False  \n",
       "18               False         False  \n",
       "19                True         False  \n",
       "20                True         False  \n",
       "21               False         False  \n",
       "22               False         False  \n",
       "23               False         False  \n",
       "24               False         False  \n",
       "25               False         False  \n",
       "26               False         False  \n",
       "27               False         False  \n",
       "28               False         False  \n",
       "29               False         False  "
      ]
     },
     "execution_count": 3,
     "metadata": {},
     "output_type": "execute_result"
    }
   ],
   "source": [
    "df_djia = criteria_defensive_investor(get_djia_symbols(), relax_current_ratio=True, dt=datetime(2008, 12, 31))\n",
    "df_djia"
   ]
  },
  {
   "cell_type": "code",
   "execution_count": 4,
   "metadata": {},
   "outputs": [
    {
     "name": "stdout",
     "output_type": "stream",
     "text": [
      "  30 companies passing size criteria of minimum $100 million revenues\n",
      "   9 companies passing financial condition criteria of minimum 2 current ratio\n",
      "  23 companies passing earnings stability criteria of positive earnings in past 10 years\n",
      "  24 companies passing dividend record criteria of uninterrupted payments in past 20 years\n",
      "  21 companies passing earnings growth criteria of minimum 33% growth in past 10 years\n",
      "  12 companies passing moderate PE ratio criteria of maximum 15\n",
      "   5 companies passing moderate PB ratio criteria of maximum 1.5, or PE * PB of maximum 22.5\n",
      "   4 companies passing all except moderate PE and PB ratio criteria\n",
      "   1 companies passing all criteria\n",
      "\n",
      "Companies passing first 5 criteria: ['AXP', 'JPM', 'NKE', 'PFE']\n",
      "Companies passing all criteria: ['JPM']\n"
     ]
    }
   ],
   "source": [
    "df_djia = analysis(df_djia)\n",
    "\n",
    "print('\\nCompanies passing first 5 criteria: ' + str(df_djia[(df_djia['first_five_criteria'] == True)]['ticker'].tolist()))\n",
    "print('Companies passing all criteria: '+ str(df_djia[(df_djia['full_criteria'] == True)]['ticker'].tolist()))"
   ]
  },
  {
   "cell_type": "code",
   "execution_count": 5,
   "metadata": {},
   "outputs": [
    {
     "data": {
      "text/html": [
       "<div>\n",
       "<style scoped>\n",
       "    .dataframe tbody tr th:only-of-type {\n",
       "        vertical-align: middle;\n",
       "    }\n",
       "\n",
       "    .dataframe tbody tr th {\n",
       "        vertical-align: top;\n",
       "    }\n",
       "\n",
       "    .dataframe thead th {\n",
       "        text-align: right;\n",
       "    }\n",
       "</style>\n",
       "<table border=\"1\" class=\"dataframe\">\n",
       "  <thead>\n",
       "    <tr style=\"text-align: right;\">\n",
       "      <th></th>\n",
       "      <th>ticker</th>\n",
       "      <th>current_ratio</th>\n",
       "      <th>positive_eps_p10yrs_count</th>\n",
       "      <th>dividend_distribution_p20yrs_count</th>\n",
       "      <th>earnings_change_p10yrs</th>\n",
       "      <th>pe</th>\n",
       "      <th>pb</th>\n",
       "      <th>pexpb</th>\n",
       "      <th>count_successful_criteria</th>\n",
       "      <th>count_successful_criteria_except_pepb</th>\n",
       "    </tr>\n",
       "  </thead>\n",
       "  <tbody>\n",
       "    <tr>\n",
       "      <th>14</th>\n",
       "      <td>JPM</td>\n",
       "      <td>NaN</td>\n",
       "      <td>10</td>\n",
       "      <td>11</td>\n",
       "      <td>1.337188</td>\n",
       "      <td>10.986486</td>\n",
       "      <td>1.120514</td>\n",
       "      <td>12.310510</td>\n",
       "      <td>7</td>\n",
       "      <td>5</td>\n",
       "    </tr>\n",
       "    <tr>\n",
       "      <th>0</th>\n",
       "      <td>AXP</td>\n",
       "      <td>NaN</td>\n",
       "      <td>10</td>\n",
       "      <td>15</td>\n",
       "      <td>2.524555</td>\n",
       "      <td>14.012618</td>\n",
       "      <td>4.724527</td>\n",
       "      <td>66.202989</td>\n",
       "      <td>6</td>\n",
       "      <td>5</td>\n",
       "    </tr>\n",
       "    <tr>\n",
       "      <th>20</th>\n",
       "      <td>PFE</td>\n",
       "      <td>2.146</td>\n",
       "      <td>10</td>\n",
       "      <td>11</td>\n",
       "      <td>2.810903</td>\n",
       "      <td>13.503030</td>\n",
       "      <td>2.322285</td>\n",
       "      <td>31.357882</td>\n",
       "      <td>6</td>\n",
       "      <td>5</td>\n",
       "    </tr>\n",
       "    <tr>\n",
       "      <th>19</th>\n",
       "      <td>NKE</td>\n",
       "      <td>2.661</td>\n",
       "      <td>10</td>\n",
       "      <td>11</td>\n",
       "      <td>4.575581</td>\n",
       "      <td>18.182973</td>\n",
       "      <td>3.587365</td>\n",
       "      <td>65.228967</td>\n",
       "      <td>5</td>\n",
       "      <td>5</td>\n",
       "    </tr>\n",
       "  </tbody>\n",
       "</table>\n",
       "</div>"
      ],
      "text/plain": [
       "   ticker  current_ratio positive_eps_p10yrs_count  \\\n",
       "14    JPM            NaN                        10   \n",
       "0     AXP            NaN                        10   \n",
       "20    PFE          2.146                        10   \n",
       "19    NKE          2.661                        10   \n",
       "\n",
       "   dividend_distribution_p20yrs_count  earnings_change_p10yrs         pe  \\\n",
       "14                                 11                1.337188  10.986486   \n",
       "0                                  15                2.524555  14.012618   \n",
       "20                                 11                2.810903  13.503030   \n",
       "19                                 11                4.575581  18.182973   \n",
       "\n",
       "          pb      pexpb  count_successful_criteria  \\\n",
       "14  1.120514  12.310510                          7   \n",
       "0   4.724527  66.202989                          6   \n",
       "20  2.322285  31.357882                          6   \n",
       "19  3.587365  65.228967                          5   \n",
       "\n",
       "    count_successful_criteria_except_pepb  \n",
       "14                                      5  \n",
       "0                                       5  \n",
       "20                                      5  \n",
       "19                                      5  "
      ]
     },
     "execution_count": 5,
     "metadata": {},
     "output_type": "execute_result"
    }
   ],
   "source": [
    "summary_columns = ['ticker', 'current_ratio', \n",
    "                       'positive_eps_p10yrs_count', 'dividend_distribution_p20yrs_count', \n",
    "                       'earnings_change_p10yrs', 'pe', 'pb', 'pexpb', 'count_successful_criteria', \n",
    "                   'count_successful_criteria_except_pepb']\n",
    "\n",
    "df_djia[df_djia['count_successful_criteria_except_pepb'] == 5].sort_values(['count_successful_criteria_except_pepb', 'count_successful_criteria'], \n",
    "                    ascending=False)[summary_columns]\n",
    "#[['ticker', 'count_successful_criteria']]"
   ]
  },
  {
   "cell_type": "markdown",
   "metadata": {},
   "source": [
    "## Return list of DJIA companies passing criteria over time"
   ]
  },
  {
   "cell_type": "code",
   "execution_count": 6,
   "metadata": {},
   "outputs": [
    {
     "name": "stdout",
     "output_type": "stream",
     "text": [
      "2008-12-31 companies: ['NKE', 'PFE']\n",
      "2009-12-31 companies: ['NKE']\n",
      "2010-12-31 companies: ['MMM', 'NKE']\n",
      "2011-12-31 companies: ['MMM', 'NKE', 'PFE']\n",
      "2012-12-31 companies: ['INTC', 'JNJ', 'MMM', 'NKE']\n",
      "2013-12-31 companies: ['DWDP', 'INTC', 'MMM', 'NKE']\n",
      "2014-12-31 companies: ['DWDP', 'INTC', 'JNJ', 'NKE', 'PFE', 'VZ']\n",
      "2015-12-31 companies: ['DWDP', 'JNJ', 'NKE', 'PFE']\n",
      "2016-12-31 companies: ['DWDP', 'INTC', 'JNJ', 'MCD', 'NKE']\n",
      "2017-12-31 companies: ['JNJ', 'NKE']\n",
      "2018-12-31 companies: ['NKE']\n"
     ]
    }
   ],
   "source": [
    "dr = pd.date_range('2008-01-01', '2019-01-01', freq='Y')\n",
    "\n",
    "list_djia = get_djia_symbols()\n",
    "fname = os.path.join(os.getcwd(), 'data_defensive', 'sf1.csv')\n",
    "df_all = pd.read_csv(fname, parse_dates=['calendardate', 'datekey'])\n",
    "\n",
    "for date in dr:\n",
    "    ls = criteria_defensive_investor_list(list_djia, all_data=df_all, relax_current_ratio=False, \n",
    "                                          dt=date, show_progress=False)\n",
    "    print(f\"{date:%Y-%m-%d} companies: {ls}\")"
   ]
  },
  {
   "cell_type": "markdown",
   "metadata": {},
   "source": [
    "## Return list of S&P 500 companies passing criteria over time (and save in a Dictionary)"
   ]
  },
  {
   "cell_type": "code",
   "execution_count": 7,
   "metadata": {},
   "outputs": [
    {
     "name": "stdout",
     "output_type": "stream",
     "text": [
      "2008-12-31 companies: ['ALB', 'BDX', 'CTAS', 'XRAY', 'BEN', 'GWW', 'HRS', 'HP', 'ITW', 'LB', 'MDT', 'NKE', 'NUE', 'PFE', 'SYK', 'TIF', 'TSS']\n",
      "2009-12-31 companies: ['ALB', 'BDX', 'CTAS', 'CAG', 'XRAY', 'EXPD', 'FAST', 'BEN', 'GWW', 'HOG', 'HRL', 'IFF', 'MDT', 'NKE', 'NUE', 'PNR', 'ROK', 'SNA', 'SYK', 'TIF', 'TSS']\n",
      "2010-12-31 companies: ['MMM', 'ALB', 'BDX', 'BMY', 'CTAS', 'XRAY', 'EXPD', 'FAST', 'BEN', 'GWW', 'HP', 'ITW', 'IFF', 'MLM', 'NKE', 'PNR', 'ROK', 'SNA', 'SYK', 'TFX', 'TIF', 'TSS']\n",
      "2011-12-31 companies: ['MMM', 'ALB', 'ADM', 'BDX', 'CTAS', 'XRAY', 'EXPD', 'FAST', 'BEN', 'GWW', 'HP', 'HRL', 'IFF', 'NKE', 'PFE', 'SNA', 'SYK', 'TFX', 'TIF', 'TSS']\n",
      "2012-12-31 companies: ['MMM', 'ALB', 'AOS', 'BDX', 'CTAS', 'EXPD', 'FAST', 'GPS', 'HP', 'HRL', 'ITW', 'INTC', 'IFF', 'JNJ', 'NKE', 'JWN', 'ROK', 'ROP', 'SNA', 'SYK', 'TFX', 'TIF']\n",
      "2013-12-31 companies: ['MMM', 'ABT', 'ALB', 'AOS', 'BDX', 'CTAS', 'DWDP', 'EL', 'EXPD', 'FAST', 'GWW', 'HP', 'HFC', 'HRL', 'ITW', 'INTC', 'IFF', 'MAT', 'MDT', 'MCO', 'NKE', 'JWN', 'PCAR', 'ROK', 'SNA', 'SYK', 'TXN', 'TIF', 'TSS']\n",
      "2014-12-31 companies: ['ABT', 'ALB', 'AOS', 'BDX', 'CTAS', 'CMI', 'DHR', 'DOV', 'DWDP', 'EL', 'EXPD', 'FAST', 'GWW', 'HP', 'HFC', 'HRL', 'INTC', 'IFF', 'JNJ', 'MAT', 'MDT', 'MCO', 'NKE', 'JWN', 'PFE', 'ROK', 'ROP', 'SNA', 'SYK', 'TXN', 'TIF', 'TSS', 'VFC', 'VZ']\n",
      "2015-12-31 companies: ['ALB', 'AOS', 'CTAS', 'CMI', 'DWDP', 'EL', 'EXPD', 'FAST', 'GWW', 'HAS', 'HP', 'HFC', 'ITW', 'IFF', 'SJM', 'JNJ', 'MAT', 'MDT', 'MCO', 'NKE', 'PH', 'PFE', 'PVH', 'ROK', 'ROP', 'SNA', 'SYK', 'TXN', 'TIF', 'TSS', 'VFC']\n",
      "2016-12-31 companies: ['AOS', 'BAX', 'CMI', 'XRAY', 'DWDP', 'EXPD', 'FAST', 'HAS', 'ITW', 'INTC', 'JNJ', 'LB', 'MCD', 'MDT', 'MCO', 'NKE', 'PCAR', 'PH', 'ROK', 'ROP', 'SNA', 'SYK', 'TXN', 'TIF', 'TSS', 'VFC']\n",
      "2017-12-31 companies: ['APD', 'ALB', 'AME', 'AOS', 'BAX', 'BDX', 'XRAY', 'EXPD', 'FAST', 'ITW', 'JNJ', 'NKE', 'SYK', 'TXN', 'TIF', 'TSS', 'VFC']\n",
      "2018-12-31 companies: ['APD', 'ALB', 'AOS', 'BAX', 'CTAS', 'COO', 'EXPD', 'FAST', 'GWW', 'HAS', 'ITW', 'IFF', 'MLM', 'NKE', 'SYK', 'TXN', 'TIF']\n"
     ]
    }
   ],
   "source": [
    "from collections import defaultdict\n",
    "\n",
    "dic = defaultdict(list)\n",
    "dr = pd.date_range('2008-01-01', '2019-01-01', freq='Y')\n",
    "list_sp500 = get_sp500_symbols()\n",
    "\n",
    "fname = os.path.join(os.getcwd(), 'data_defensive', 'sf1.csv')\n",
    "df_all = pd.read_csv(fname, parse_dates=['calendardate', 'datekey'])\n",
    "\n",
    "for date in dr:\n",
    "    list_passing_companies = criteria_defensive_investor_list(list_sp500, all_data=df_all, \n",
    "                                                              relax_current_ratio=False, \n",
    "                                                              dt=date, show_progress=False)\n",
    "    print(f\"{date:%Y-%m-%d} companies: {list_passing_companies}\")\n",
    "    dic[date] = list_passing_companies"
   ]
  },
  {
   "cell_type": "code",
   "execution_count": 8,
   "metadata": {},
   "outputs": [
    {
     "data": {
      "text/plain": [
       "['APD',\n",
       " 'ALB',\n",
       " 'AOS',\n",
       " 'BAX',\n",
       " 'CTAS',\n",
       " 'COO',\n",
       " 'EXPD',\n",
       " 'FAST',\n",
       " 'GWW',\n",
       " 'HAS',\n",
       " 'ITW',\n",
       " 'IFF',\n",
       " 'MLM',\n",
       " 'NKE',\n",
       " 'SYK',\n",
       " 'TXN',\n",
       " 'TIF']"
      ]
     },
     "execution_count": 8,
     "metadata": {},
     "output_type": "execute_result"
    }
   ],
   "source": [
    "dic[datetime(2018, 12, 31)]"
   ]
  },
  {
   "cell_type": "markdown",
   "metadata": {},
   "source": [
    "## Return list of ALL companies passing criteria over time (and save in a Dictionary)"
   ]
  },
  {
   "cell_type": "code",
   "execution_count": 9,
   "metadata": {},
   "outputs": [
    {
     "data": {
      "application/vnd.jupyter.widget-view+json": {
       "model_id": "4073716dcb9044fda587074651782ddb",
       "version_major": 2,
       "version_minor": 0
      },
      "text/plain": [
       "HBox(children=(IntProgress(value=0, max=14121), HTML(value='')))"
      ]
     },
     "metadata": {},
     "output_type": "display_data"
    },
    {
     "name": "stdout",
     "output_type": "stream",
     "text": [
      "\n",
      "2008-12-31 companies: ['ABI1', 'ACET', 'AIT', 'ALB', 'AMN1', 'AMWD', 'ASH', 'BDX', 'BEN', 'BEZ', 'BMS', 'BRC', 'CRR', 'CSL', 'CTAS', 'CUB', 'EBF', 'EML', 'ESV', 'ETH', 'EV', 'FELE', 'FICO', 'FRED', 'FUL', 'GK', 'GRC', 'GWW', 'HEI', 'HP', 'HRS', 'IEX', 'ITW', 'LB', 'LCUT', 'LECO', 'MDT', 'MOV', 'MSA', 'NKE', 'NUE', 'PFE', 'PLL1', 'RAVN', 'RBC', 'RS', 'SCCO', 'SCHN', 'SEB', 'SEIC', 'SNHY', 'SYK', 'THO', 'TIF', 'TNC', 'TSS', 'UFPI', 'VMI', 'WEYS', 'WGO', 'WSO', 'WWD', 'XRAY']\n"
     ]
    },
    {
     "data": {
      "application/vnd.jupyter.widget-view+json": {
       "model_id": "c2ee36e848ed413d8e13770168dfbdc0",
       "version_major": 2,
       "version_minor": 0
      },
      "text/plain": [
       "HBox(children=(IntProgress(value=0, max=14121), HTML(value='')))"
      ]
     },
     "metadata": {},
     "output_type": "display_data"
    },
    {
     "name": "stdout",
     "output_type": "stream",
     "text": [
      "\n",
      "2009-12-31 companies: ['ABI1', 'ACET', 'AIT', 'ALB', 'AMN1', 'ATR', 'B', 'BCPC', 'BCR', 'BDX', 'BEN', 'BEZ', 'BMS', 'BRC', 'CAG', 'CATO', 'CMC', 'CRR', 'CSL', 'CTAS', 'CUB', 'DCI', 'EML', 'ESV', 'EV', 'EXP', 'EXPD', 'FAST', 'FELE', 'FICO', 'FRD', 'FRED', 'FUL', 'GGG', 'GRC', 'GWW', 'HEI', 'HOG', 'HRL', 'HUBB', 'HWKN', 'IEX', 'IFF', 'LECO', 'LNN', 'MATW', 'MDT', 'MOV', 'MSA', 'NKE', 'NTP', 'NUE', 'PLL1', 'PNR', 'RAVN', 'ROK', 'RS', 'RYN', 'SCCO', 'SEB', 'SEIC', 'SKYW', 'SNA', 'SNHY', 'SYK', 'TDW', 'THO', 'TIF', 'TSS', 'UFPI', 'VMI', 'WEYS', 'WSO', 'WWD', 'XRAY']\n"
     ]
    },
    {
     "data": {
      "application/vnd.jupyter.widget-view+json": {
       "model_id": "3e3fdf85e77642ec98e650b684e84c8b",
       "version_major": 2,
       "version_minor": 0
      },
      "text/plain": [
       "HBox(children=(IntProgress(value=0, max=14121), HTML(value='')))"
      ]
     },
     "metadata": {},
     "output_type": "display_data"
    },
    {
     "name": "stdout",
     "output_type": "stream",
     "text": [
      "\n",
      "2010-12-31 companies: ['ABI1', 'AIT', 'ALB', 'ALG', 'AMN1', 'ATR', 'B', 'BCPC', 'BCR', 'BDX', 'BEN', 'BEZ', 'BF.B', 'BMI', 'BMS', 'BMY', 'BRC', 'CAJ', 'CATO', 'CRR', 'CSL', 'CTAS', 'CUB', 'DCI', 'ESV', 'EXPD', 'FAST', 'FICO', 'FRED', 'FUL', 'GR', 'GRC', 'GWW', 'HEI', 'HP', 'HUBB', 'HWKN', 'IEX', 'IFF', 'ITW', 'KMG', 'LECO', 'LNN', 'MATW', 'MLM', 'MMM', 'MSA', 'NAT', 'NKE', 'PLL1', 'PNR', 'RAVN', 'RBC', 'ROK', 'RS', 'RYN', 'SCCO', 'SCL', 'SEB', 'SEIC', 'SKYW', 'SNA', 'SYK', 'TDW', 'TFX', 'THO', 'TIF', 'TSS', 'VMI', 'WEYS', 'WSO', 'WWD', 'XRAY']\n"
     ]
    },
    {
     "data": {
      "application/vnd.jupyter.widget-view+json": {
       "model_id": "3268fb54ff6d450c89bda8e3b3a5530d",
       "version_major": 2,
       "version_minor": 0
      },
      "text/plain": [
       "HBox(children=(IntProgress(value=0, max=14121), HTML(value='')))"
      ]
     },
     "metadata": {},
     "output_type": "display_data"
    },
    {
     "name": "stdout",
     "output_type": "stream",
     "text": [
      "\n",
      "2011-12-31 companies: ['ABI1', 'ADM', 'AIT', 'ALB', 'ALG', 'AMN1', 'ATR', 'BCPC', 'BCR', 'BDX', 'BEAM', 'BEC', 'BEN', 'BEZ', 'BF.B', 'BMI', 'BMS', 'BRC', 'CAJ', 'CATO', 'CRR', 'CTAS', 'CW', 'DCI', 'ESV', 'EXPD', 'FAST', 'FELE', 'FICO', 'FRD', 'FRED', 'FUL', 'GGG', 'GR', 'GRC', 'GWW', 'HEI', 'HP', 'HRL', 'HUBB', 'HWKN', 'IFF', 'KMG', 'LANC', 'LECO', 'LLTC', 'LNN', 'MATW', 'MMM', 'MSA', 'NKE', 'OMI', 'PFE', 'PLL1', 'RAVN', 'RBC', 'RS', 'RYN', 'SCCO', 'SCL', 'SEB', 'SEIC', 'SKYW', 'SNA', 'SNHY', 'SXT', 'SYK', 'TDW', 'TFX', 'THO', 'TIF', 'TSS', 'UNF', 'UVV', 'VMI', 'WDFC', 'WEYS', 'WSO', 'WWD', 'XRAY']\n"
     ]
    },
    {
     "data": {
      "application/vnd.jupyter.widget-view+json": {
       "model_id": "3e559fe7a48541c6867b6ff3dcc2e129",
       "version_major": 2,
       "version_minor": 0
      },
      "text/plain": [
       "HBox(children=(IntProgress(value=0, max=14121), HTML(value='')))"
      ]
     },
     "metadata": {},
     "output_type": "display_data"
    },
    {
     "name": "stdout",
     "output_type": "stream",
     "text": [
      "\n",
      "2012-12-31 companies: ['ABI1', 'ACET', 'ACO', 'AIT', 'ALB', 'ALG', 'AMN1', 'AOS', 'APAGF', 'ATR', 'BCPC', 'BDX', 'BEAM', 'BEC', 'BEZ', 'BF.B', 'BHI', 'BMI', 'BMS', 'CAJ', 'CATO', 'CLC', 'CRR', 'CTAS', 'CUB', 'CW', 'DCI', 'EQT', 'EXPD', 'FAST', 'FELE', 'FRD', 'FRED', 'FUL', 'GGG', 'GPS', 'GR', 'GRC', 'HEI', 'HP', 'HRL', 'HUBB', 'HWKN', 'IEX', 'IFF', 'INTC', 'ITW', 'JCS', 'JNJ', 'JWN', 'KDN', 'KMG', 'KWR', 'LANC', 'LECO', 'LLTC', 'LNN', 'LUFK', 'MATW', 'MMM', 'MSA', 'NKE', 'ODC', 'OMI', 'PLL1', 'RAVN', 'RBC', 'ROK', 'ROP', 'RS', 'RSH', 'SCCO', 'SCL', 'SEIC', 'SIAL', 'SJW', 'SNA', 'SNHY', 'SXT', 'SYK', 'TDW', 'TFX', 'THO', 'TIF', 'UNF', 'VIVO', 'VMI', 'WMK', 'WSO', 'WWD']\n"
     ]
    },
    {
     "data": {
      "application/vnd.jupyter.widget-view+json": {
       "model_id": "4ec32440c54845a094f01d0009346820",
       "version_major": 2,
       "version_minor": 0
      },
      "text/plain": [
       "HBox(children=(IntProgress(value=0, max=14121), HTML(value='')))"
      ]
     },
     "metadata": {},
     "output_type": "display_data"
    },
    {
     "name": "stdout",
     "output_type": "stream",
     "text": [
      "\n",
      "2013-12-31 companies: ['ABI1', 'ABT', 'ACET', 'ACO', 'AIT', 'ALB', 'ALG', 'AMN1', 'AOS', 'APAGF', 'ATR', 'B', 'BCPC', 'BCR', 'BDX', 'BEAM', 'BEC', 'BEZ', 'BF.B', 'BHI', 'CAJ', 'CATO', 'CCF', 'CCJ', 'CLC', 'CRR', 'CSH', 'CSL', 'CTAS', 'CUB', 'DCI', 'DWDP', 'EL', 'EXPD', 'FAST', 'FELE', 'FRD', 'FRED', 'FUL', 'GG', 'GGG', 'GR', 'GRC', 'GWW', 'HEI', 'HFC', 'HP', 'HRL', 'HUBB', 'HWKN', 'IEX', 'IFF', 'INTC', 'ITW', 'JCS', 'JWN', 'KDN', 'KMG', 'KWR', 'LANC', 'LECO', 'LNN', 'LUFK', 'MAT', 'MATW', 'MCO', 'MDT', 'MGEE', 'MMM', 'MSA', 'NKE', 'ODC', 'PCAR', 'PLL1', 'PLPC', 'RAVN', 'RBC', 'ROK', 'RS', 'SCCO', 'SCL', 'SEIC', 'SIAL', 'SNA', 'SNHY', 'STRA', 'SXT', 'SYK', 'THO', 'TIF', 'TSS', 'TWIN', 'TXN', 'UNF', 'VIVO', 'VMI', 'WEYS', 'WMK', 'WSO', 'WST', 'WTS', 'WWD', 'WWW']\n"
     ]
    },
    {
     "data": {
      "application/vnd.jupyter.widget-view+json": {
       "model_id": "55f7473f54c84a048e5ef3efd54e71b7",
       "version_major": 2,
       "version_minor": 0
      },
      "text/plain": [
       "HBox(children=(IntProgress(value=0, max=14121), HTML(value='')))"
      ]
     },
     "metadata": {},
     "output_type": "display_data"
    },
    {
     "name": "stdout",
     "output_type": "stream",
     "text": [
      "\n",
      "2014-12-31 companies: ['ABI1', 'ABT', 'ACET', 'ACO', 'AIT', 'ALB', 'ALG', 'AMN1', 'AOS', 'ASH', 'ATR', 'BCPC', 'BCR', 'BDX', 'BEC', 'BEZ', 'BF.B', 'BHI', 'CATO', 'CCF', 'CCJ', 'CLC', 'CMI', 'CMP', 'CRR', 'CSH', 'CSL', 'CTAS', 'CUB', 'CW', 'DCI', 'DCMYY', 'DHR', 'DOV', 'DWDP', 'EL', 'EML', 'EQT', 'EXP', 'EXPD', 'FAST', 'FELE', 'FRD', 'FUL', 'GGB', 'GGG', 'GR', 'GRC', 'GWW', 'HEI', 'HFC', 'HP', 'HRL', 'HUBB', 'HWKN', 'IEX', 'IFF', 'INTC', 'JNJ', 'JWN', 'KDN', 'KWR', 'LECO', 'LLTC', 'LNN', 'LUFK', 'MAT', 'MCO', 'MDT', 'MSA', 'NJDCY', 'NKE', 'ODC', 'PFE', 'PLPC', 'RAVN', 'RBC', 'ROK', 'ROP', 'RS', 'SCCO', 'SCL', 'SEIC', 'SIAL', 'SNA', 'SNHY', 'SXT', 'SYK', 'TDW', 'THO', 'TIF', 'TSS', 'TTC', 'TWIN', 'TXN', 'UNF', 'VFC', 'VIVO', 'VMI', 'VZ', 'WAB', 'WERN', 'WEYS', 'WMK', 'WSO', 'WST', 'WTS', 'WWD', 'WWW']\n"
     ]
    },
    {
     "data": {
      "application/vnd.jupyter.widget-view+json": {
       "model_id": "af870a975e634efabeb7e827a595c46d",
       "version_major": 2,
       "version_minor": 0
      },
      "text/plain": [
       "HBox(children=(IntProgress(value=0, max=14121), HTML(value='')))"
      ]
     },
     "metadata": {},
     "output_type": "display_data"
    },
    {
     "name": "stdout",
     "output_type": "stream",
     "text": [
      "\n",
      "2015-12-31 companies: ['ABI1', 'ACET', 'ACO', 'AIT', 'ALB', 'ALG', 'AMN1', 'AOS', 'ATR', 'AWR', 'B', 'BCR', 'BEC', 'BEZ', 'BF.B', 'BHI', 'CATO', 'CCF', 'CLC', 'CMI', 'CMP', 'CNL', 'CRR', 'CRS', 'CSH', 'CSL', 'CTAS', 'CW', 'DWDP', 'EL', 'EML', 'ERJ', 'EXPD', 'FAST', 'FELE', 'FUL', 'GGB', 'GGG', 'GR', 'GRC', 'GWW', 'HAS', 'HEI', 'HFC', 'HP', 'HUBB', 'HWKN', 'IEX', 'IFF', 'ITW', 'JNJ', 'KDN', 'KEQU', 'KWR', 'LECO', 'LLTC', 'LNCE', 'LNN', 'LUFK', 'MAT', 'MCO', 'MDT', 'MGEE', 'MON', 'MSA', 'NJDCY', 'NKE', 'ODC', 'PCP', 'PFE', 'PH', 'PLPC', 'PVH', 'RAVN', 'RBC', 'ROK', 'ROP', 'RS', 'SCCO', 'SCL', 'SEIC', 'SGC', 'SIAL', 'SJM', 'SNA', 'SNHY', 'SYK', 'THO', 'TIF', 'TSS', 'TWIN', 'TXN', 'UNF', 'VFC', 'VIVO', 'VMI', 'WAB', 'WDFC', 'WERN', 'WSO', 'WST', 'WWD', 'WWW']\n"
     ]
    },
    {
     "data": {
      "application/vnd.jupyter.widget-view+json": {
       "model_id": "97d30173eee04a1aadf2eae8bb79bbd6",
       "version_major": 2,
       "version_minor": 0
      },
      "text/plain": [
       "HBox(children=(IntProgress(value=0, max=14121), HTML(value='')))"
      ]
     },
     "metadata": {},
     "output_type": "display_data"
    },
    {
     "name": "stdout",
     "output_type": "stream",
     "text": [
      "\n",
      "2016-12-31 companies: ['ABI1', 'ACET', 'ACO', 'AIT', 'ALG', 'AMN1', 'AOS', 'B', 'BAX', 'BCPC', 'BEC', 'BEZ', 'BF.B', 'CALM', 'CATO', 'CCF', 'CLC', 'CMI', 'CMP', 'CNL', 'CSH', 'CSL', 'CW', 'DWDP', 'EML', 'EXP', 'EXPD', 'FAST', 'FELE', 'FUL', 'GGG', 'GR', 'GRC', 'HAS', 'HEI', 'HUBB', 'HWKN', 'IEX', 'INTC', 'ITRN', 'ITW', 'JNJ', 'KAMN', 'KDN', 'KEQU', 'KWR', 'LANC', 'LB', 'LECO', 'LLTC', 'LNCE', 'LNN', 'LUFK', 'MCD', 'MCO', 'MDT', 'MGEE', 'NKE', 'ODC', 'PCAR', 'PCP', 'PH', 'PLPC', 'RAVN', 'RBC', 'ROK', 'ROP', 'RPM', 'RS', 'SCCO', 'SCL', 'SEIC', 'SGC', 'SIAL', 'SNA', 'SNHY', 'SXT', 'SYK', 'TIF', 'TSS', 'TXN', 'UGP', 'UNF', 'UVV', 'VFC', 'VGR', 'VIVO', 'VMI', 'VSEC', 'WAB', 'WDFC', 'WSO', 'WST', 'WWW', 'XRAY']\n"
     ]
    },
    {
     "data": {
      "application/vnd.jupyter.widget-view+json": {
       "model_id": "7c513624ef694f2fa48450de142aa085",
       "version_major": 2,
       "version_minor": 0
      },
      "text/plain": [
       "HBox(children=(IntProgress(value=0, max=14121), HTML(value='')))"
      ]
     },
     "metadata": {},
     "output_type": "display_data"
    },
    {
     "name": "stdout",
     "output_type": "stream",
     "text": [
      "\n",
      "2017-12-31 companies: ['ABI1', 'ACET', 'ACO', 'AIT', 'ALB', 'ALG', 'AME', 'AMN1', 'AOS', 'APD', 'B', 'BAX', 'BCR', 'BDX', 'BEC', 'BEZ', 'BF.B', 'BMS', 'CATO', 'CCF', 'CLC', 'CNL', 'CSH', 'CSL', 'CW', 'DCI', 'EXPD', 'FAST', 'FELE', 'GGG', 'GR', 'GRC', 'HEI', 'HUBB', 'HWKN', 'IEX', 'ITRN', 'ITW', 'JNJ', 'KDN', 'KEQU', 'KWR', 'LANC', 'LECO', 'LLTC', 'LNCE', 'LNN', 'LUFK', 'NKE', 'ODC', 'PCP', 'SCL', 'SEIC', 'SGC', 'SIAL', 'SNHY', 'SWM', 'SXT', 'SYK', 'TIF', 'TSS', 'TXN', 'UGP', 'UNF', 'UVV', 'VFC', 'VIVO', 'VMI', 'WDFC', 'WSO', 'WST', 'WWD', 'WWW', 'XRAY']\n"
     ]
    },
    {
     "data": {
      "application/vnd.jupyter.widget-view+json": {
       "model_id": "1865b12601a5497eb88b30f41269f579",
       "version_major": 2,
       "version_minor": 0
      },
      "text/plain": [
       "HBox(children=(IntProgress(value=0, max=14121), HTML(value='')))"
      ]
     },
     "metadata": {},
     "output_type": "display_data"
    },
    {
     "name": "stdout",
     "output_type": "stream",
     "text": [
      "\n",
      "2018-12-31 companies: ['ABI1', 'ACO', 'AIT', 'ALB', 'ALG', 'AMN1', 'AOS', 'APD', 'ATR', 'BAX', 'BCR', 'BEC', 'BEZ', 'BF.B', 'CCF', 'CLC', 'CMP', 'CNL', 'COO', 'CSH', 'CSL', 'CTAS', 'CW', 'DCI', 'EXP', 'EXPD', 'FAST', 'FELE', 'GGG', 'GR', 'GRC', 'GWW', 'HAS', 'HEI', 'HUBB', 'IDA', 'IEX', 'IFF', 'INGR', 'ITW', 'KAMN', 'KDN', 'KEQU', 'KWR', 'LANC', 'LECO', 'LLTC', 'LUFK', 'MLM', 'NKE', 'ODC', 'PCP', 'RPM', 'SCL', 'SEIC', 'SGC', 'SIAL', 'SNHY', 'SNN', 'SWM', 'SXT', 'SYK', 'TIF', 'TXN', 'UFPI', 'UGP', 'UNF', 'UVV', 'VMI', 'VSEC', 'WDR', 'WSO', 'WST']\n"
     ]
    }
   ],
   "source": [
    "dr = pd.date_range('2008-01-01', '2019-01-01', freq='Y')\n",
    "list_all = get_sf1_symbols()\n",
    "dic2 = defaultdict(list)\n",
    "\n",
    "fname = os.path.join(os.getcwd(), 'data_defensive', 'sf1.csv')\n",
    "df_all = pd.read_csv(fname, parse_dates=['calendardate', 'datekey'])\n",
    "\n",
    "for date in dr:\n",
    "    list_passing_companies = criteria_defensive_investor_list(list_all, all_data=df_all, \n",
    "                                                              relax_current_ratio=False, \n",
    "                                                              dt=date, show_progress=True)\n",
    "    print(f\"{date:%Y-%m-%d} companies: {list_passing_companies}\")\n",
    "    dic2[date] = list_passing_companies"
   ]
  },
  {
   "cell_type": "code",
   "execution_count": 16,
   "metadata": {},
   "outputs": [
    {
     "name": "stdout",
     "output_type": "stream",
     "text": [
      "2008-12-31: 63 companies pass criteria\n",
      "2009-12-31: 75 companies pass criteria\n",
      "2010-12-31: 73 companies pass criteria\n",
      "2011-12-31: 80 companies pass criteria\n",
      "2012-12-31: 90 companies pass criteria\n",
      "2013-12-31: 103 companies pass criteria\n",
      "2014-12-31: 109 companies pass criteria\n",
      "2015-12-31: 103 companies pass criteria\n",
      "2016-12-31: 95 companies pass criteria\n",
      "2017-12-31: 74 companies pass criteria\n",
      "2018-12-31: 73 companies pass criteria\n"
     ]
    }
   ],
   "source": [
    "for key, value in dic2.items():\n",
    "    print(f'{key:%Y-%m-%d}: {len(value)} companies pass criteria')"
   ]
  },
  {
   "cell_type": "code",
   "execution_count": 24,
   "metadata": {},
   "outputs": [
    {
     "data": {
      "application/vnd.jupyter.widget-view+json": {
       "model_id": "b3e786398a1a48a59b11f102b3576ef9",
       "version_major": 2,
       "version_minor": 0
      },
      "text/plain": [
       "HBox(children=(IntProgress(value=0, max=14121), HTML(value='')))"
      ]
     },
     "metadata": {},
     "output_type": "display_data"
    },
    {
     "name": "stdout",
     "output_type": "stream",
     "text": [
      "\n",
      "2008-12-31: 63 companies pass criteria\n"
     ]
    },
    {
     "data": {
      "application/vnd.jupyter.widget-view+json": {
       "model_id": "2509b7f8573944568396245a45b2779c",
       "version_major": 2,
       "version_minor": 0
      },
      "text/plain": [
       "HBox(children=(IntProgress(value=0, max=14121), HTML(value='')))"
      ]
     },
     "metadata": {},
     "output_type": "display_data"
    },
    {
     "name": "stdout",
     "output_type": "stream",
     "text": [
      "\n",
      "2009-01-31: 63 companies pass criteria\n"
     ]
    },
    {
     "data": {
      "application/vnd.jupyter.widget-view+json": {
       "model_id": "9fe3772321e047c19007b87ffbc32f13",
       "version_major": 2,
       "version_minor": 0
      },
      "text/plain": [
       "HBox(children=(IntProgress(value=0, max=14121), HTML(value='')))"
      ]
     },
     "metadata": {},
     "output_type": "display_data"
    },
    {
     "name": "stdout",
     "output_type": "stream",
     "text": [
      "\n",
      "2009-02-28: 73 companies pass criteria\n"
     ]
    },
    {
     "data": {
      "application/vnd.jupyter.widget-view+json": {
       "model_id": "f83c823606e94cf982cd9ab7b398c560",
       "version_major": 2,
       "version_minor": 0
      },
      "text/plain": [
       "HBox(children=(IntProgress(value=0, max=14121), HTML(value='')))"
      ]
     },
     "metadata": {},
     "output_type": "display_data"
    },
    {
     "name": "stdout",
     "output_type": "stream",
     "text": [
      "\n",
      "2009-03-31: 73 companies pass criteria\n"
     ]
    },
    {
     "data": {
      "application/vnd.jupyter.widget-view+json": {
       "model_id": "a87c0c932c8b4262a6ef5b29d0437f4b",
       "version_major": 2,
       "version_minor": 0
      },
      "text/plain": [
       "HBox(children=(IntProgress(value=0, max=14121), HTML(value='')))"
      ]
     },
     "metadata": {},
     "output_type": "display_data"
    },
    {
     "name": "stdout",
     "output_type": "stream",
     "text": [
      "\n",
      "2009-04-30: 73 companies pass criteria\n"
     ]
    },
    {
     "data": {
      "application/vnd.jupyter.widget-view+json": {
       "model_id": "8434cf14aa114f2192cb0a87c7d97782",
       "version_major": 2,
       "version_minor": 0
      },
      "text/plain": [
       "HBox(children=(IntProgress(value=0, max=14121), HTML(value='')))"
      ]
     },
     "metadata": {},
     "output_type": "display_data"
    },
    {
     "name": "stdout",
     "output_type": "stream",
     "text": [
      "\n",
      "2009-05-31: 74 companies pass criteria\n"
     ]
    },
    {
     "data": {
      "application/vnd.jupyter.widget-view+json": {
       "model_id": "1045fd4dcf9b4e3599d1af4349162771",
       "version_major": 2,
       "version_minor": 0
      },
      "text/plain": [
       "HBox(children=(IntProgress(value=0, max=14121), HTML(value='')))"
      ]
     },
     "metadata": {},
     "output_type": "display_data"
    },
    {
     "name": "stdout",
     "output_type": "stream",
     "text": [
      "\n",
      "2009-06-30: 75 companies pass criteria\n"
     ]
    },
    {
     "data": {
      "application/vnd.jupyter.widget-view+json": {
       "model_id": "d1e8d64a048d4afe8c9553d154d3922b",
       "version_major": 2,
       "version_minor": 0
      },
      "text/plain": [
       "HBox(children=(IntProgress(value=0, max=14121), HTML(value='')))"
      ]
     },
     "metadata": {},
     "output_type": "display_data"
    },
    {
     "name": "stdout",
     "output_type": "stream",
     "text": [
      "\n",
      "2009-07-31: 76 companies pass criteria\n"
     ]
    },
    {
     "data": {
      "application/vnd.jupyter.widget-view+json": {
       "model_id": "e1bb1e1e65f542c59a2d36a6d1db2ca0",
       "version_major": 2,
       "version_minor": 0
      },
      "text/plain": [
       "HBox(children=(IntProgress(value=0, max=14121), HTML(value='')))"
      ]
     },
     "metadata": {},
     "output_type": "display_data"
    },
    {
     "name": "stdout",
     "output_type": "stream",
     "text": [
      "\n",
      "2009-08-31: 73 companies pass criteria\n"
     ]
    },
    {
     "data": {
      "application/vnd.jupyter.widget-view+json": {
       "model_id": "52e456055eb647b68fb5a0ad2890d6f7",
       "version_major": 2,
       "version_minor": 0
      },
      "text/plain": [
       "HBox(children=(IntProgress(value=0, max=14121), HTML(value='')))"
      ]
     },
     "metadata": {},
     "output_type": "display_data"
    },
    {
     "name": "stdout",
     "output_type": "stream",
     "text": [
      "\n",
      "2009-09-30: 74 companies pass criteria\n"
     ]
    },
    {
     "data": {
      "application/vnd.jupyter.widget-view+json": {
       "model_id": "8cd7cd67fa0c4b93842d7f278054fb96",
       "version_major": 2,
       "version_minor": 0
      },
      "text/plain": [
       "HBox(children=(IntProgress(value=0, max=14121), HTML(value='')))"
      ]
     },
     "metadata": {},
     "output_type": "display_data"
    },
    {
     "name": "stdout",
     "output_type": "stream",
     "text": [
      "\n",
      "2009-10-31: 73 companies pass criteria\n"
     ]
    },
    {
     "data": {
      "application/vnd.jupyter.widget-view+json": {
       "model_id": "de03c4f61f4348b296307125bbbd0891",
       "version_major": 2,
       "version_minor": 0
      },
      "text/plain": [
       "HBox(children=(IntProgress(value=0, max=14121), HTML(value='')))"
      ]
     },
     "metadata": {},
     "output_type": "display_data"
    },
    {
     "name": "stdout",
     "output_type": "stream",
     "text": [
      "\n",
      "2009-11-30: 74 companies pass criteria\n"
     ]
    },
    {
     "data": {
      "application/vnd.jupyter.widget-view+json": {
       "model_id": "eee6f1083e39403482ce5e4c1deda817",
       "version_major": 2,
       "version_minor": 0
      },
      "text/plain": [
       "HBox(children=(IntProgress(value=0, max=14121), HTML(value='')))"
      ]
     },
     "metadata": {},
     "output_type": "display_data"
    },
    {
     "name": "stdout",
     "output_type": "stream",
     "text": [
      "\n",
      "2009-12-31: 75 companies pass criteria\n"
     ]
    },
    {
     "data": {
      "application/vnd.jupyter.widget-view+json": {
       "model_id": "ff374a47cb424cc299e5f42338ec853d",
       "version_major": 2,
       "version_minor": 0
      },
      "text/plain": [
       "HBox(children=(IntProgress(value=0, max=14121), HTML(value='')))"
      ]
     },
     "metadata": {},
     "output_type": "display_data"
    },
    {
     "name": "stdout",
     "output_type": "stream",
     "text": [
      "\n",
      "2010-01-31: 75 companies pass criteria\n"
     ]
    },
    {
     "data": {
      "application/vnd.jupyter.widget-view+json": {
       "model_id": "e25bf9cfa5c24d5cb6ccfaa2ee9e2543",
       "version_major": 2,
       "version_minor": 0
      },
      "text/plain": [
       "HBox(children=(IntProgress(value=0, max=14121), HTML(value='')))"
      ]
     },
     "metadata": {},
     "output_type": "display_data"
    },
    {
     "name": "stdout",
     "output_type": "stream",
     "text": [
      "\n",
      "2010-02-28: 79 companies pass criteria\n"
     ]
    },
    {
     "data": {
      "application/vnd.jupyter.widget-view+json": {
       "model_id": "87e42ea8b7de407b8499a4a8893b6265",
       "version_major": 2,
       "version_minor": 0
      },
      "text/plain": [
       "HBox(children=(IntProgress(value=0, max=14121), HTML(value='')))"
      ]
     },
     "metadata": {},
     "output_type": "display_data"
    },
    {
     "name": "stdout",
     "output_type": "stream",
     "text": [
      "\n",
      "2010-03-31: 78 companies pass criteria\n"
     ]
    },
    {
     "data": {
      "application/vnd.jupyter.widget-view+json": {
       "model_id": "24d30bae00e942799fd89fbef02866dd",
       "version_major": 2,
       "version_minor": 0
      },
      "text/plain": [
       "HBox(children=(IntProgress(value=0, max=14121), HTML(value='')))"
      ]
     },
     "metadata": {},
     "output_type": "display_data"
    },
    {
     "name": "stdout",
     "output_type": "stream",
     "text": [
      "\n",
      "2010-04-30: 77 companies pass criteria\n"
     ]
    },
    {
     "data": {
      "application/vnd.jupyter.widget-view+json": {
       "model_id": "a67a6873f074417d81679794dfeed2f9",
       "version_major": 2,
       "version_minor": 0
      },
      "text/plain": [
       "HBox(children=(IntProgress(value=0, max=14121), HTML(value='')))"
      ]
     },
     "metadata": {},
     "output_type": "display_data"
    },
    {
     "name": "stdout",
     "output_type": "stream",
     "text": [
      "\n",
      "2010-05-31: 77 companies pass criteria\n"
     ]
    },
    {
     "data": {
      "application/vnd.jupyter.widget-view+json": {
       "model_id": "5eb47d5e98ad4f7db06bb3cda6b312ae",
       "version_major": 2,
       "version_minor": 0
      },
      "text/plain": [
       "HBox(children=(IntProgress(value=0, max=14121), HTML(value='')))"
      ]
     },
     "metadata": {},
     "output_type": "display_data"
    },
    {
     "name": "stdout",
     "output_type": "stream",
     "text": [
      "\n",
      "2010-06-30: 76 companies pass criteria\n"
     ]
    },
    {
     "data": {
      "application/vnd.jupyter.widget-view+json": {
       "model_id": "613eb74514614917a1643a78211ba417",
       "version_major": 2,
       "version_minor": 0
      },
      "text/plain": [
       "HBox(children=(IntProgress(value=0, max=14121), HTML(value='')))"
      ]
     },
     "metadata": {},
     "output_type": "display_data"
    },
    {
     "name": "stdout",
     "output_type": "stream",
     "text": [
      "\n",
      "2010-07-31: 75 companies pass criteria\n"
     ]
    },
    {
     "data": {
      "application/vnd.jupyter.widget-view+json": {
       "model_id": "2ed9f38f15004456843a0afb08f221a7",
       "version_major": 2,
       "version_minor": 0
      },
      "text/plain": [
       "HBox(children=(IntProgress(value=0, max=14121), HTML(value='')))"
      ]
     },
     "metadata": {},
     "output_type": "display_data"
    },
    {
     "name": "stdout",
     "output_type": "stream",
     "text": [
      "\n",
      "2010-08-31: 75 companies pass criteria\n"
     ]
    },
    {
     "data": {
      "application/vnd.jupyter.widget-view+json": {
       "model_id": "c47c25eb5c7a408388772a9705165803",
       "version_major": 2,
       "version_minor": 0
      },
      "text/plain": [
       "HBox(children=(IntProgress(value=0, max=14121), HTML(value='')))"
      ]
     },
     "metadata": {},
     "output_type": "display_data"
    },
    {
     "name": "stdout",
     "output_type": "stream",
     "text": [
      "\n",
      "2010-09-30: 74 companies pass criteria\n"
     ]
    },
    {
     "data": {
      "application/vnd.jupyter.widget-view+json": {
       "model_id": "5f1a8c03f30d4922a4309fa35e8281a3",
       "version_major": 2,
       "version_minor": 0
      },
      "text/plain": [
       "HBox(children=(IntProgress(value=0, max=14121), HTML(value='')))"
      ]
     },
     "metadata": {},
     "output_type": "display_data"
    },
    {
     "name": "stdout",
     "output_type": "stream",
     "text": [
      "\n",
      "2010-10-31: 74 companies pass criteria\n"
     ]
    },
    {
     "data": {
      "application/vnd.jupyter.widget-view+json": {
       "model_id": "524ebdeb884e4258b4abfede219836e5",
       "version_major": 2,
       "version_minor": 0
      },
      "text/plain": [
       "HBox(children=(IntProgress(value=0, max=14121), HTML(value='')))"
      ]
     },
     "metadata": {},
     "output_type": "display_data"
    },
    {
     "name": "stdout",
     "output_type": "stream",
     "text": [
      "\n",
      "2010-11-30: 75 companies pass criteria\n"
     ]
    },
    {
     "data": {
      "application/vnd.jupyter.widget-view+json": {
       "model_id": "7d6bf18b1f8444dea2a3c4ebe18eaa2b",
       "version_major": 2,
       "version_minor": 0
      },
      "text/plain": [
       "HBox(children=(IntProgress(value=0, max=14121), HTML(value='')))"
      ]
     },
     "metadata": {},
     "output_type": "display_data"
    },
    {
     "name": "stdout",
     "output_type": "stream",
     "text": [
      "\n",
      "2010-12-31: 73 companies pass criteria\n"
     ]
    },
    {
     "data": {
      "application/vnd.jupyter.widget-view+json": {
       "model_id": "0ad766ae41ed40d987f89e79b7126081",
       "version_major": 2,
       "version_minor": 0
      },
      "text/plain": [
       "HBox(children=(IntProgress(value=0, max=14121), HTML(value='')))"
      ]
     },
     "metadata": {},
     "output_type": "display_data"
    },
    {
     "name": "stdout",
     "output_type": "stream",
     "text": [
      "\n",
      "2011-01-31: 73 companies pass criteria\n"
     ]
    },
    {
     "data": {
      "application/vnd.jupyter.widget-view+json": {
       "model_id": "568b144113f74e8a9cbb3e15156cd58d",
       "version_major": 2,
       "version_minor": 0
      },
      "text/plain": [
       "HBox(children=(IntProgress(value=0, max=14121), HTML(value='')))"
      ]
     },
     "metadata": {},
     "output_type": "display_data"
    },
    {
     "name": "stdout",
     "output_type": "stream",
     "text": [
      "\n",
      "2011-02-28: 73 companies pass criteria\n"
     ]
    },
    {
     "data": {
      "application/vnd.jupyter.widget-view+json": {
       "model_id": "b88313daec8d4c0db2ab00f7bd6a8fdd",
       "version_major": 2,
       "version_minor": 0
      },
      "text/plain": [
       "HBox(children=(IntProgress(value=0, max=14121), HTML(value='')))"
      ]
     },
     "metadata": {},
     "output_type": "display_data"
    },
    {
     "name": "stdout",
     "output_type": "stream",
     "text": [
      "\n",
      "2011-03-31: 75 companies pass criteria\n"
     ]
    },
    {
     "data": {
      "application/vnd.jupyter.widget-view+json": {
       "model_id": "608f3c1d4aac4a81971488d59c2fcddb",
       "version_major": 2,
       "version_minor": 0
      },
      "text/plain": [
       "HBox(children=(IntProgress(value=0, max=14121), HTML(value='')))"
      ]
     },
     "metadata": {},
     "output_type": "display_data"
    },
    {
     "name": "stdout",
     "output_type": "stream",
     "text": [
      "\n",
      "2011-04-30: 74 companies pass criteria\n"
     ]
    },
    {
     "data": {
      "application/vnd.jupyter.widget-view+json": {
       "model_id": "97791985da15466eb0874187ecbb3678",
       "version_major": 2,
       "version_minor": 0
      },
      "text/plain": [
       "HBox(children=(IntProgress(value=0, max=14121), HTML(value='')))"
      ]
     },
     "metadata": {},
     "output_type": "display_data"
    },
    {
     "name": "stdout",
     "output_type": "stream",
     "text": [
      "\n",
      "2011-05-31: 75 companies pass criteria\n"
     ]
    },
    {
     "data": {
      "application/vnd.jupyter.widget-view+json": {
       "model_id": "a09ab1b7b0ca4185925fd7f6d1738ce2",
       "version_major": 2,
       "version_minor": 0
      },
      "text/plain": [
       "HBox(children=(IntProgress(value=0, max=14121), HTML(value='')))"
      ]
     },
     "metadata": {},
     "output_type": "display_data"
    },
    {
     "name": "stdout",
     "output_type": "stream",
     "text": [
      "\n",
      "2011-06-30: 76 companies pass criteria\n"
     ]
    },
    {
     "data": {
      "application/vnd.jupyter.widget-view+json": {
       "model_id": "42f2196afdb84deeae9cc497b6bb3f95",
       "version_major": 2,
       "version_minor": 0
      },
      "text/plain": [
       "HBox(children=(IntProgress(value=0, max=14121), HTML(value='')))"
      ]
     },
     "metadata": {},
     "output_type": "display_data"
    },
    {
     "name": "stdout",
     "output_type": "stream",
     "text": [
      "\n",
      "2011-07-31: 76 companies pass criteria\n"
     ]
    },
    {
     "data": {
      "application/vnd.jupyter.widget-view+json": {
       "model_id": "ce473ca5bcfb48029f63e818dc137c58",
       "version_major": 2,
       "version_minor": 0
      },
      "text/plain": [
       "HBox(children=(IntProgress(value=0, max=14121), HTML(value='')))"
      ]
     },
     "metadata": {},
     "output_type": "display_data"
    },
    {
     "name": "stdout",
     "output_type": "stream",
     "text": [
      "\n",
      "2011-08-31: 79 companies pass criteria\n"
     ]
    },
    {
     "data": {
      "application/vnd.jupyter.widget-view+json": {
       "model_id": "53dd960d20484b3c8999dcc1eb0f73f9",
       "version_major": 2,
       "version_minor": 0
      },
      "text/plain": [
       "HBox(children=(IntProgress(value=0, max=14121), HTML(value='')))"
      ]
     },
     "metadata": {},
     "output_type": "display_data"
    },
    {
     "name": "stdout",
     "output_type": "stream",
     "text": [
      "\n",
      "2011-09-30: 79 companies pass criteria\n"
     ]
    },
    {
     "data": {
      "application/vnd.jupyter.widget-view+json": {
       "model_id": "f5f9fc4fac5e41f092f780121f010370",
       "version_major": 2,
       "version_minor": 0
      },
      "text/plain": [
       "HBox(children=(IntProgress(value=0, max=14121), HTML(value='')))"
      ]
     },
     "metadata": {},
     "output_type": "display_data"
    },
    {
     "name": "stdout",
     "output_type": "stream",
     "text": [
      "\n",
      "2011-10-31: 81 companies pass criteria\n"
     ]
    },
    {
     "data": {
      "application/vnd.jupyter.widget-view+json": {
       "model_id": "4ecf28ed1bf446a0b3e5b9a8b45e3ea4",
       "version_major": 2,
       "version_minor": 0
      },
      "text/plain": [
       "HBox(children=(IntProgress(value=0, max=14121), HTML(value='')))"
      ]
     },
     "metadata": {},
     "output_type": "display_data"
    },
    {
     "name": "stdout",
     "output_type": "stream",
     "text": [
      "\n",
      "2011-11-30: 79 companies pass criteria\n"
     ]
    },
    {
     "data": {
      "application/vnd.jupyter.widget-view+json": {
       "model_id": "1f94bc0c237f4f7ba61de1788ed81c84",
       "version_major": 2,
       "version_minor": 0
      },
      "text/plain": [
       "HBox(children=(IntProgress(value=0, max=14121), HTML(value='')))"
      ]
     },
     "metadata": {},
     "output_type": "display_data"
    },
    {
     "name": "stdout",
     "output_type": "stream",
     "text": [
      "\n",
      "2011-12-31: 80 companies pass criteria\n"
     ]
    },
    {
     "data": {
      "application/vnd.jupyter.widget-view+json": {
       "model_id": "bca5380eba0d436dbadad4f6d2d4acb8",
       "version_major": 2,
       "version_minor": 0
      },
      "text/plain": [
       "HBox(children=(IntProgress(value=0, max=14121), HTML(value='')))"
      ]
     },
     "metadata": {},
     "output_type": "display_data"
    },
    {
     "name": "stdout",
     "output_type": "stream",
     "text": [
      "\n",
      "2012-01-31: 81 companies pass criteria\n"
     ]
    },
    {
     "data": {
      "application/vnd.jupyter.widget-view+json": {
       "model_id": "59185162dfad49ba9ef3d0b4bc2782ad",
       "version_major": 2,
       "version_minor": 0
      },
      "text/plain": [
       "HBox(children=(IntProgress(value=0, max=14121), HTML(value='')))"
      ]
     },
     "metadata": {},
     "output_type": "display_data"
    },
    {
     "name": "stdout",
     "output_type": "stream",
     "text": [
      "\n",
      "2012-02-29: 87 companies pass criteria\n"
     ]
    },
    {
     "data": {
      "application/vnd.jupyter.widget-view+json": {
       "model_id": "4e977364c486446bb8a82ceef79d4c5d",
       "version_major": 2,
       "version_minor": 0
      },
      "text/plain": [
       "HBox(children=(IntProgress(value=0, max=14121), HTML(value='')))"
      ]
     },
     "metadata": {},
     "output_type": "display_data"
    },
    {
     "name": "stdout",
     "output_type": "stream",
     "text": [
      "\n",
      "2012-03-31: 91 companies pass criteria\n"
     ]
    },
    {
     "data": {
      "application/vnd.jupyter.widget-view+json": {
       "model_id": "92788014328f4ee1855fe2dbafd5e43a",
       "version_major": 2,
       "version_minor": 0
      },
      "text/plain": [
       "HBox(children=(IntProgress(value=0, max=14121), HTML(value='')))"
      ]
     },
     "metadata": {},
     "output_type": "display_data"
    },
    {
     "name": "stdout",
     "output_type": "stream",
     "text": [
      "\n",
      "2012-04-30: 91 companies pass criteria\n"
     ]
    },
    {
     "data": {
      "application/vnd.jupyter.widget-view+json": {
       "model_id": "d75bcc99a8524a2a899ac169c7605e20",
       "version_major": 2,
       "version_minor": 0
      },
      "text/plain": [
       "HBox(children=(IntProgress(value=0, max=14121), HTML(value='')))"
      ]
     },
     "metadata": {},
     "output_type": "display_data"
    },
    {
     "name": "stdout",
     "output_type": "stream",
     "text": [
      "\n",
      "2012-05-31: 90 companies pass criteria\n"
     ]
    },
    {
     "data": {
      "application/vnd.jupyter.widget-view+json": {
       "model_id": "552d886506d341e998e97f5959df474b",
       "version_major": 2,
       "version_minor": 0
      },
      "text/plain": [
       "HBox(children=(IntProgress(value=0, max=14121), HTML(value='')))"
      ]
     },
     "metadata": {},
     "output_type": "display_data"
    },
    {
     "name": "stdout",
     "output_type": "stream",
     "text": [
      "\n",
      "2012-06-30: 90 companies pass criteria\n"
     ]
    },
    {
     "data": {
      "application/vnd.jupyter.widget-view+json": {
       "model_id": "a52562c05b5c47f1935d3d6e2f82ca0b",
       "version_major": 2,
       "version_minor": 0
      },
      "text/plain": [
       "HBox(children=(IntProgress(value=0, max=14121), HTML(value='')))"
      ]
     },
     "metadata": {},
     "output_type": "display_data"
    },
    {
     "name": "stdout",
     "output_type": "stream",
     "text": [
      "\n",
      "2012-07-31: 90 companies pass criteria\n"
     ]
    },
    {
     "data": {
      "application/vnd.jupyter.widget-view+json": {
       "model_id": "e46ab70fa55a4cf183fc302fcedb9335",
       "version_major": 2,
       "version_minor": 0
      },
      "text/plain": [
       "HBox(children=(IntProgress(value=0, max=14121), HTML(value='')))"
      ]
     },
     "metadata": {},
     "output_type": "display_data"
    },
    {
     "name": "stdout",
     "output_type": "stream",
     "text": [
      "\n",
      "2012-08-31: 89 companies pass criteria\n"
     ]
    },
    {
     "data": {
      "application/vnd.jupyter.widget-view+json": {
       "model_id": "cbadfae94a29421489c547219514fc5d",
       "version_major": 2,
       "version_minor": 0
      },
      "text/plain": [
       "HBox(children=(IntProgress(value=0, max=14121), HTML(value='')))"
      ]
     },
     "metadata": {},
     "output_type": "display_data"
    },
    {
     "name": "stdout",
     "output_type": "stream",
     "text": [
      "\n",
      "2012-09-30: 89 companies pass criteria\n"
     ]
    },
    {
     "data": {
      "application/vnd.jupyter.widget-view+json": {
       "model_id": "81acc9503fd34f66907e8632a312a723",
       "version_major": 2,
       "version_minor": 0
      },
      "text/plain": [
       "HBox(children=(IntProgress(value=0, max=14121), HTML(value='')))"
      ]
     },
     "metadata": {},
     "output_type": "display_data"
    },
    {
     "name": "stdout",
     "output_type": "stream",
     "text": [
      "\n",
      "2012-10-31: 89 companies pass criteria\n"
     ]
    },
    {
     "data": {
      "application/vnd.jupyter.widget-view+json": {
       "model_id": "351b6c8caa8a4850af2487d028763ef4",
       "version_major": 2,
       "version_minor": 0
      },
      "text/plain": [
       "HBox(children=(IntProgress(value=0, max=14121), HTML(value='')))"
      ]
     },
     "metadata": {},
     "output_type": "display_data"
    },
    {
     "name": "stdout",
     "output_type": "stream",
     "text": [
      "\n",
      "2012-11-30: 89 companies pass criteria\n"
     ]
    },
    {
     "data": {
      "application/vnd.jupyter.widget-view+json": {
       "model_id": "228353677bbe4367a8e847e8f3a37f88",
       "version_major": 2,
       "version_minor": 0
      },
      "text/plain": [
       "HBox(children=(IntProgress(value=0, max=14121), HTML(value='')))"
      ]
     },
     "metadata": {},
     "output_type": "display_data"
    },
    {
     "name": "stdout",
     "output_type": "stream",
     "text": [
      "\n",
      "2012-12-31: 90 companies pass criteria\n"
     ]
    },
    {
     "data": {
      "application/vnd.jupyter.widget-view+json": {
       "model_id": "495a6d0887bc45dd8803d2aacd4d32d1",
       "version_major": 2,
       "version_minor": 0
      },
      "text/plain": [
       "HBox(children=(IntProgress(value=0, max=14121), HTML(value='')))"
      ]
     },
     "metadata": {},
     "output_type": "display_data"
    },
    {
     "name": "stdout",
     "output_type": "stream",
     "text": [
      "\n",
      "2013-01-31: 90 companies pass criteria\n"
     ]
    },
    {
     "data": {
      "application/vnd.jupyter.widget-view+json": {
       "model_id": "eb835e65a3be41209d85ddee3bfa5577",
       "version_major": 2,
       "version_minor": 0
      },
      "text/plain": [
       "HBox(children=(IntProgress(value=0, max=14121), HTML(value='')))"
      ]
     },
     "metadata": {},
     "output_type": "display_data"
    },
    {
     "name": "stdout",
     "output_type": "stream",
     "text": [
      "\n",
      "2013-02-28: 100 companies pass criteria\n"
     ]
    },
    {
     "data": {
      "application/vnd.jupyter.widget-view+json": {
       "model_id": "757600bd86524aaf84ebf8542979f924",
       "version_major": 2,
       "version_minor": 0
      },
      "text/plain": [
       "HBox(children=(IntProgress(value=0, max=14121), HTML(value='')))"
      ]
     },
     "metadata": {},
     "output_type": "display_data"
    },
    {
     "name": "stdout",
     "output_type": "stream",
     "text": [
      "\n",
      "2013-03-31: 101 companies pass criteria\n"
     ]
    },
    {
     "data": {
      "application/vnd.jupyter.widget-view+json": {
       "model_id": "f22a04089393478eb249c25494b232b4",
       "version_major": 2,
       "version_minor": 0
      },
      "text/plain": [
       "HBox(children=(IntProgress(value=0, max=14121), HTML(value='')))"
      ]
     },
     "metadata": {},
     "output_type": "display_data"
    },
    {
     "name": "stdout",
     "output_type": "stream",
     "text": [
      "\n",
      "2013-04-30: 101 companies pass criteria\n"
     ]
    },
    {
     "data": {
      "application/vnd.jupyter.widget-view+json": {
       "model_id": "f7b7c8351c954ce78cef54a291e73c85",
       "version_major": 2,
       "version_minor": 0
      },
      "text/plain": [
       "HBox(children=(IntProgress(value=0, max=14121), HTML(value='')))"
      ]
     },
     "metadata": {},
     "output_type": "display_data"
    },
    {
     "name": "stdout",
     "output_type": "stream",
     "text": [
      "\n",
      "2013-05-31: 100 companies pass criteria\n"
     ]
    },
    {
     "data": {
      "application/vnd.jupyter.widget-view+json": {
       "model_id": "2feb7115b05b44bfb2b31d23a1ad513f",
       "version_major": 2,
       "version_minor": 0
      },
      "text/plain": [
       "HBox(children=(IntProgress(value=0, max=14121), HTML(value='')))"
      ]
     },
     "metadata": {},
     "output_type": "display_data"
    },
    {
     "name": "stdout",
     "output_type": "stream",
     "text": [
      "\n",
      "2013-06-30: 101 companies pass criteria\n"
     ]
    },
    {
     "data": {
      "application/vnd.jupyter.widget-view+json": {
       "model_id": "ff33da9de2bd468fa7a05fde331d6fcd",
       "version_major": 2,
       "version_minor": 0
      },
      "text/plain": [
       "HBox(children=(IntProgress(value=0, max=14121), HTML(value='')))"
      ]
     },
     "metadata": {},
     "output_type": "display_data"
    },
    {
     "name": "stdout",
     "output_type": "stream",
     "text": [
      "\n",
      "2013-07-31: 101 companies pass criteria\n"
     ]
    },
    {
     "data": {
      "application/vnd.jupyter.widget-view+json": {
       "model_id": "fadbfc412b9e44afb099d450b61a75b3",
       "version_major": 2,
       "version_minor": 0
      },
      "text/plain": [
       "HBox(children=(IntProgress(value=0, max=14121), HTML(value='')))"
      ]
     },
     "metadata": {},
     "output_type": "display_data"
    },
    {
     "name": "stdout",
     "output_type": "stream",
     "text": [
      "\n",
      "2013-08-31: 101 companies pass criteria\n"
     ]
    },
    {
     "data": {
      "application/vnd.jupyter.widget-view+json": {
       "model_id": "5d2f2984090c4747a168f76cd8b508c5",
       "version_major": 2,
       "version_minor": 0
      },
      "text/plain": [
       "HBox(children=(IntProgress(value=0, max=14121), HTML(value='')))"
      ]
     },
     "metadata": {},
     "output_type": "display_data"
    },
    {
     "name": "stdout",
     "output_type": "stream",
     "text": [
      "\n",
      "2013-09-30: 102 companies pass criteria\n"
     ]
    },
    {
     "data": {
      "application/vnd.jupyter.widget-view+json": {
       "model_id": "855ee5dd62254c30a4b18aa28ba03818",
       "version_major": 2,
       "version_minor": 0
      },
      "text/plain": [
       "HBox(children=(IntProgress(value=0, max=14121), HTML(value='')))"
      ]
     },
     "metadata": {},
     "output_type": "display_data"
    },
    {
     "name": "stdout",
     "output_type": "stream",
     "text": [
      "\n",
      "2013-10-31: 102 companies pass criteria\n"
     ]
    },
    {
     "data": {
      "application/vnd.jupyter.widget-view+json": {
       "model_id": "21337230ee0741c98df0326d22487e60",
       "version_major": 2,
       "version_minor": 0
      },
      "text/plain": [
       "HBox(children=(IntProgress(value=0, max=14121), HTML(value='')))"
      ]
     },
     "metadata": {},
     "output_type": "display_data"
    },
    {
     "name": "stdout",
     "output_type": "stream",
     "text": [
      "\n",
      "2013-11-30: 103 companies pass criteria\n"
     ]
    },
    {
     "data": {
      "application/vnd.jupyter.widget-view+json": {
       "model_id": "65cb2279cb9a416baa15fee0da3877c1",
       "version_major": 2,
       "version_minor": 0
      },
      "text/plain": [
       "HBox(children=(IntProgress(value=0, max=14121), HTML(value='')))"
      ]
     },
     "metadata": {},
     "output_type": "display_data"
    },
    {
     "name": "stdout",
     "output_type": "stream",
     "text": [
      "\n",
      "2013-12-31: 103 companies pass criteria\n"
     ]
    },
    {
     "data": {
      "application/vnd.jupyter.widget-view+json": {
       "model_id": "425f29d8f66640ba9291f35f30863bca",
       "version_major": 2,
       "version_minor": 0
      },
      "text/plain": [
       "HBox(children=(IntProgress(value=0, max=14121), HTML(value='')))"
      ]
     },
     "metadata": {},
     "output_type": "display_data"
    },
    {
     "name": "stdout",
     "output_type": "stream",
     "text": [
      "\n",
      "2014-01-31: 103 companies pass criteria\n"
     ]
    },
    {
     "data": {
      "application/vnd.jupyter.widget-view+json": {
       "model_id": "05684ce8818843bb9580727cae2cee9d",
       "version_major": 2,
       "version_minor": 0
      },
      "text/plain": [
       "HBox(children=(IntProgress(value=0, max=14121), HTML(value='')))"
      ]
     },
     "metadata": {},
     "output_type": "display_data"
    },
    {
     "name": "stdout",
     "output_type": "stream",
     "text": [
      "\n",
      "2014-02-28: 109 companies pass criteria\n"
     ]
    },
    {
     "data": {
      "application/vnd.jupyter.widget-view+json": {
       "model_id": "06183758e0f94b13a1eff3824f251530",
       "version_major": 2,
       "version_minor": 0
      },
      "text/plain": [
       "HBox(children=(IntProgress(value=0, max=14121), HTML(value='')))"
      ]
     },
     "metadata": {},
     "output_type": "display_data"
    },
    {
     "name": "stdout",
     "output_type": "stream",
     "text": [
      "\n",
      "2014-03-31: 107 companies pass criteria\n"
     ]
    },
    {
     "data": {
      "application/vnd.jupyter.widget-view+json": {
       "model_id": "0668ecb7739f46d9b09ee90d2bc39c8e",
       "version_major": 2,
       "version_minor": 0
      },
      "text/plain": [
       "HBox(children=(IntProgress(value=0, max=14121), HTML(value='')))"
      ]
     },
     "metadata": {},
     "output_type": "display_data"
    },
    {
     "name": "stdout",
     "output_type": "stream",
     "text": [
      "\n",
      "2014-04-30: 106 companies pass criteria\n"
     ]
    },
    {
     "data": {
      "application/vnd.jupyter.widget-view+json": {
       "model_id": "431884cb69134b17bb07b938034991d8",
       "version_major": 2,
       "version_minor": 0
      },
      "text/plain": [
       "HBox(children=(IntProgress(value=0, max=14121), HTML(value='')))"
      ]
     },
     "metadata": {},
     "output_type": "display_data"
    },
    {
     "name": "stdout",
     "output_type": "stream",
     "text": [
      "\n",
      "2014-05-31: 108 companies pass criteria\n"
     ]
    },
    {
     "data": {
      "application/vnd.jupyter.widget-view+json": {
       "model_id": "52fc15a2648c492bbfcacce5697d18ec",
       "version_major": 2,
       "version_minor": 0
      },
      "text/plain": [
       "HBox(children=(IntProgress(value=0, max=14121), HTML(value='')))"
      ]
     },
     "metadata": {},
     "output_type": "display_data"
    },
    {
     "name": "stdout",
     "output_type": "stream",
     "text": [
      "\n",
      "2014-06-30: 110 companies pass criteria\n"
     ]
    },
    {
     "data": {
      "application/vnd.jupyter.widget-view+json": {
       "model_id": "881811c678e141eb88f7390ad19a07a4",
       "version_major": 2,
       "version_minor": 0
      },
      "text/plain": [
       "HBox(children=(IntProgress(value=0, max=14121), HTML(value='')))"
      ]
     },
     "metadata": {},
     "output_type": "display_data"
    },
    {
     "name": "stdout",
     "output_type": "stream",
     "text": [
      "\n",
      "2014-07-31: 110 companies pass criteria\n"
     ]
    },
    {
     "data": {
      "application/vnd.jupyter.widget-view+json": {
       "model_id": "0bd4da3e421247afbab18e4f508c607f",
       "version_major": 2,
       "version_minor": 0
      },
      "text/plain": [
       "HBox(children=(IntProgress(value=0, max=14121), HTML(value='')))"
      ]
     },
     "metadata": {},
     "output_type": "display_data"
    },
    {
     "name": "stdout",
     "output_type": "stream",
     "text": [
      "\n",
      "2014-08-31: 110 companies pass criteria\n"
     ]
    },
    {
     "data": {
      "application/vnd.jupyter.widget-view+json": {
       "model_id": "6c12c188b10e4bb1b704090021baf008",
       "version_major": 2,
       "version_minor": 0
      },
      "text/plain": [
       "HBox(children=(IntProgress(value=0, max=14121), HTML(value='')))"
      ]
     },
     "metadata": {},
     "output_type": "display_data"
    },
    {
     "name": "stdout",
     "output_type": "stream",
     "text": [
      "\n",
      "2014-09-30: 109 companies pass criteria\n"
     ]
    },
    {
     "data": {
      "application/vnd.jupyter.widget-view+json": {
       "model_id": "9703e6951de44ec6b889f9299e79e4e8",
       "version_major": 2,
       "version_minor": 0
      },
      "text/plain": [
       "HBox(children=(IntProgress(value=0, max=14121), HTML(value='')))"
      ]
     },
     "metadata": {},
     "output_type": "display_data"
    },
    {
     "name": "stdout",
     "output_type": "stream",
     "text": [
      "\n",
      "2014-10-31: 108 companies pass criteria\n"
     ]
    },
    {
     "data": {
      "application/vnd.jupyter.widget-view+json": {
       "model_id": "4dfb681c5f9b4b7eb5db615a447b0b4d",
       "version_major": 2,
       "version_minor": 0
      },
      "text/plain": [
       "HBox(children=(IntProgress(value=0, max=14121), HTML(value='')))"
      ]
     },
     "metadata": {},
     "output_type": "display_data"
    },
    {
     "name": "stdout",
     "output_type": "stream",
     "text": [
      "\n",
      "2014-11-30: 108 companies pass criteria\n"
     ]
    },
    {
     "data": {
      "application/vnd.jupyter.widget-view+json": {
       "model_id": "cd2496e6ea7c404caf96917425692996",
       "version_major": 2,
       "version_minor": 0
      },
      "text/plain": [
       "HBox(children=(IntProgress(value=0, max=14121), HTML(value='')))"
      ]
     },
     "metadata": {},
     "output_type": "display_data"
    },
    {
     "name": "stdout",
     "output_type": "stream",
     "text": [
      "\n",
      "2014-12-31: 109 companies pass criteria\n"
     ]
    },
    {
     "data": {
      "application/vnd.jupyter.widget-view+json": {
       "model_id": "6db676c850b84e20979acada3a552c55",
       "version_major": 2,
       "version_minor": 0
      },
      "text/plain": [
       "HBox(children=(IntProgress(value=0, max=14121), HTML(value='')))"
      ]
     },
     "metadata": {},
     "output_type": "display_data"
    },
    {
     "name": "stdout",
     "output_type": "stream",
     "text": [
      "\n",
      "2015-01-31: 109 companies pass criteria\n"
     ]
    },
    {
     "data": {
      "application/vnd.jupyter.widget-view+json": {
       "model_id": "8b4538f1d5fb4e91b28a5b47c7068371",
       "version_major": 2,
       "version_minor": 0
      },
      "text/plain": [
       "HBox(children=(IntProgress(value=0, max=14121), HTML(value='')))"
      ]
     },
     "metadata": {},
     "output_type": "display_data"
    },
    {
     "name": "stdout",
     "output_type": "stream",
     "text": [
      "\n",
      "2015-02-28: 107 companies pass criteria\n"
     ]
    },
    {
     "data": {
      "application/vnd.jupyter.widget-view+json": {
       "model_id": "04506f4132094a93a416d4e2c8392589",
       "version_major": 2,
       "version_minor": 0
      },
      "text/plain": [
       "HBox(children=(IntProgress(value=0, max=14121), HTML(value='')))"
      ]
     },
     "metadata": {},
     "output_type": "display_data"
    },
    {
     "name": "stdout",
     "output_type": "stream",
     "text": [
      "\n",
      "2015-03-31: 105 companies pass criteria\n"
     ]
    },
    {
     "data": {
      "application/vnd.jupyter.widget-view+json": {
       "model_id": "100f97d964c14e83bb2b5a64445b4440",
       "version_major": 2,
       "version_minor": 0
      },
      "text/plain": [
       "HBox(children=(IntProgress(value=0, max=14121), HTML(value='')))"
      ]
     },
     "metadata": {},
     "output_type": "display_data"
    },
    {
     "name": "stdout",
     "output_type": "stream",
     "text": [
      "\n",
      "2015-04-30: 106 companies pass criteria\n"
     ]
    },
    {
     "data": {
      "application/vnd.jupyter.widget-view+json": {
       "model_id": "5878989ce31f4fb48074606d4d8bbf3b",
       "version_major": 2,
       "version_minor": 0
      },
      "text/plain": [
       "HBox(children=(IntProgress(value=0, max=14121), HTML(value='')))"
      ]
     },
     "metadata": {},
     "output_type": "display_data"
    },
    {
     "name": "stdout",
     "output_type": "stream",
     "text": [
      "\n",
      "2015-05-31: 105 companies pass criteria\n"
     ]
    },
    {
     "data": {
      "application/vnd.jupyter.widget-view+json": {
       "model_id": "411a3737aeb14d76aff8a36f8389623d",
       "version_major": 2,
       "version_minor": 0
      },
      "text/plain": [
       "HBox(children=(IntProgress(value=0, max=14121), HTML(value='')))"
      ]
     },
     "metadata": {},
     "output_type": "display_data"
    },
    {
     "name": "stdout",
     "output_type": "stream",
     "text": [
      "\n",
      "2015-06-30: 104 companies pass criteria\n"
     ]
    },
    {
     "data": {
      "application/vnd.jupyter.widget-view+json": {
       "model_id": "4ad0781a0e4346dd9e34d138c4bf1c67",
       "version_major": 2,
       "version_minor": 0
      },
      "text/plain": [
       "HBox(children=(IntProgress(value=0, max=14121), HTML(value='')))"
      ]
     },
     "metadata": {},
     "output_type": "display_data"
    },
    {
     "name": "stdout",
     "output_type": "stream",
     "text": [
      "\n",
      "2015-07-31: 105 companies pass criteria\n"
     ]
    },
    {
     "data": {
      "application/vnd.jupyter.widget-view+json": {
       "model_id": "6f25af03f9f5440ea79fd5c2dacdfedf",
       "version_major": 2,
       "version_minor": 0
      },
      "text/plain": [
       "HBox(children=(IntProgress(value=0, max=14121), HTML(value='')))"
      ]
     },
     "metadata": {},
     "output_type": "display_data"
    },
    {
     "name": "stdout",
     "output_type": "stream",
     "text": [
      "\n",
      "2015-08-31: 107 companies pass criteria\n"
     ]
    },
    {
     "data": {
      "application/vnd.jupyter.widget-view+json": {
       "model_id": "bbefb272d6624b92a9ef8c3dbdb26e99",
       "version_major": 2,
       "version_minor": 0
      },
      "text/plain": [
       "HBox(children=(IntProgress(value=0, max=14121), HTML(value='')))"
      ]
     },
     "metadata": {},
     "output_type": "display_data"
    },
    {
     "name": "stdout",
     "output_type": "stream",
     "text": [
      "\n",
      "2015-09-30: 107 companies pass criteria\n"
     ]
    },
    {
     "data": {
      "application/vnd.jupyter.widget-view+json": {
       "model_id": "a0ba6514775b45589688548e64a0654d",
       "version_major": 2,
       "version_minor": 0
      },
      "text/plain": [
       "HBox(children=(IntProgress(value=0, max=14121), HTML(value='')))"
      ]
     },
     "metadata": {},
     "output_type": "display_data"
    },
    {
     "name": "stdout",
     "output_type": "stream",
     "text": [
      "\n",
      "2015-10-31: 109 companies pass criteria\n"
     ]
    },
    {
     "data": {
      "application/vnd.jupyter.widget-view+json": {
       "model_id": "cfcbf44b7a784f0fa8b3e11e6f83c5cd",
       "version_major": 2,
       "version_minor": 0
      },
      "text/plain": [
       "HBox(children=(IntProgress(value=0, max=14121), HTML(value='')))"
      ]
     },
     "metadata": {},
     "output_type": "display_data"
    },
    {
     "name": "stdout",
     "output_type": "stream",
     "text": [
      "\n",
      "2015-11-30: 105 companies pass criteria\n"
     ]
    },
    {
     "data": {
      "application/vnd.jupyter.widget-view+json": {
       "model_id": "8bcaf461f6304c309920b9469da08a20",
       "version_major": 2,
       "version_minor": 0
      },
      "text/plain": [
       "HBox(children=(IntProgress(value=0, max=14121), HTML(value='')))"
      ]
     },
     "metadata": {},
     "output_type": "display_data"
    },
    {
     "name": "stdout",
     "output_type": "stream",
     "text": [
      "\n",
      "2015-12-31: 103 companies pass criteria\n"
     ]
    },
    {
     "data": {
      "application/vnd.jupyter.widget-view+json": {
       "model_id": "46aa1eb969ad45a0b109d3e24ff21606",
       "version_major": 2,
       "version_minor": 0
      },
      "text/plain": [
       "HBox(children=(IntProgress(value=0, max=14121), HTML(value='')))"
      ]
     },
     "metadata": {},
     "output_type": "display_data"
    },
    {
     "name": "stdout",
     "output_type": "stream",
     "text": [
      "\n",
      "2016-01-31: 103 companies pass criteria\n"
     ]
    },
    {
     "data": {
      "application/vnd.jupyter.widget-view+json": {
       "model_id": "b4d02d7972e44f90a44281e7a2b71753",
       "version_major": 2,
       "version_minor": 0
      },
      "text/plain": [
       "HBox(children=(IntProgress(value=0, max=14121), HTML(value='')))"
      ]
     },
     "metadata": {},
     "output_type": "display_data"
    },
    {
     "name": "stdout",
     "output_type": "stream",
     "text": [
      "\n",
      "2016-02-29: 99 companies pass criteria\n"
     ]
    },
    {
     "data": {
      "application/vnd.jupyter.widget-view+json": {
       "model_id": "a6436e79d0584870a2b144dd45067491",
       "version_major": 2,
       "version_minor": 0
      },
      "text/plain": [
       "HBox(children=(IntProgress(value=0, max=14121), HTML(value='')))"
      ]
     },
     "metadata": {},
     "output_type": "display_data"
    },
    {
     "name": "stdout",
     "output_type": "stream",
     "text": [
      "\n",
      "2016-03-31: 98 companies pass criteria\n"
     ]
    },
    {
     "data": {
      "application/vnd.jupyter.widget-view+json": {
       "model_id": "4cc5e2bf572d48249ddf7f36715b5140",
       "version_major": 2,
       "version_minor": 0
      },
      "text/plain": [
       "HBox(children=(IntProgress(value=0, max=14121), HTML(value='')))"
      ]
     },
     "metadata": {},
     "output_type": "display_data"
    },
    {
     "name": "stdout",
     "output_type": "stream",
     "text": [
      "\n",
      "2016-04-30: 100 companies pass criteria\n"
     ]
    },
    {
     "data": {
      "application/vnd.jupyter.widget-view+json": {
       "model_id": "29591606be904ccfaddeee8a61c6b52a",
       "version_major": 2,
       "version_minor": 0
      },
      "text/plain": [
       "HBox(children=(IntProgress(value=0, max=14121), HTML(value='')))"
      ]
     },
     "metadata": {},
     "output_type": "display_data"
    },
    {
     "name": "stdout",
     "output_type": "stream",
     "text": [
      "\n",
      "2016-05-31: 102 companies pass criteria\n"
     ]
    },
    {
     "data": {
      "application/vnd.jupyter.widget-view+json": {
       "model_id": "d2a82fdacf6c4c0e8a1a6d827dd2cbe2",
       "version_major": 2,
       "version_minor": 0
      },
      "text/plain": [
       "HBox(children=(IntProgress(value=0, max=14121), HTML(value='')))"
      ]
     },
     "metadata": {},
     "output_type": "display_data"
    },
    {
     "name": "stdout",
     "output_type": "stream",
     "text": [
      "\n",
      "2016-06-30: 100 companies pass criteria\n"
     ]
    },
    {
     "data": {
      "application/vnd.jupyter.widget-view+json": {
       "model_id": "3ba11b0d33be4e6dbb93a65e8f58d0e9",
       "version_major": 2,
       "version_minor": 0
      },
      "text/plain": [
       "HBox(children=(IntProgress(value=0, max=14121), HTML(value='')))"
      ]
     },
     "metadata": {},
     "output_type": "display_data"
    },
    {
     "name": "stdout",
     "output_type": "stream",
     "text": [
      "\n",
      "2016-07-31: 101 companies pass criteria\n"
     ]
    },
    {
     "data": {
      "application/vnd.jupyter.widget-view+json": {
       "model_id": "7d88237d52924db397e9d3d63bfb44ec",
       "version_major": 2,
       "version_minor": 0
      },
      "text/plain": [
       "HBox(children=(IntProgress(value=0, max=14121), HTML(value='')))"
      ]
     },
     "metadata": {},
     "output_type": "display_data"
    },
    {
     "name": "stdout",
     "output_type": "stream",
     "text": [
      "\n",
      "2016-08-31: 100 companies pass criteria\n"
     ]
    },
    {
     "data": {
      "application/vnd.jupyter.widget-view+json": {
       "model_id": "6c685457fff642ab97ba7c5ffdff665a",
       "version_major": 2,
       "version_minor": 0
      },
      "text/plain": [
       "HBox(children=(IntProgress(value=0, max=14121), HTML(value='')))"
      ]
     },
     "metadata": {},
     "output_type": "display_data"
    },
    {
     "name": "stdout",
     "output_type": "stream",
     "text": [
      "\n",
      "2016-09-30: 98 companies pass criteria\n"
     ]
    },
    {
     "data": {
      "application/vnd.jupyter.widget-view+json": {
       "model_id": "370bd4ef1f9648be9a74129dcc615575",
       "version_major": 2,
       "version_minor": 0
      },
      "text/plain": [
       "HBox(children=(IntProgress(value=0, max=14121), HTML(value='')))"
      ]
     },
     "metadata": {},
     "output_type": "display_data"
    },
    {
     "name": "stdout",
     "output_type": "stream",
     "text": [
      "\n",
      "2016-10-31: 97 companies pass criteria\n"
     ]
    },
    {
     "data": {
      "application/vnd.jupyter.widget-view+json": {
       "model_id": "37f88d4a2f0747149a3974e5b1ac655c",
       "version_major": 2,
       "version_minor": 0
      },
      "text/plain": [
       "HBox(children=(IntProgress(value=0, max=14121), HTML(value='')))"
      ]
     },
     "metadata": {},
     "output_type": "display_data"
    },
    {
     "name": "stdout",
     "output_type": "stream",
     "text": [
      "\n",
      "2016-11-30: 95 companies pass criteria\n"
     ]
    },
    {
     "data": {
      "application/vnd.jupyter.widget-view+json": {
       "model_id": "369873f2626a4e2fa4409e4a58638258",
       "version_major": 2,
       "version_minor": 0
      },
      "text/plain": [
       "HBox(children=(IntProgress(value=0, max=14121), HTML(value='')))"
      ]
     },
     "metadata": {},
     "output_type": "display_data"
    },
    {
     "name": "stdout",
     "output_type": "stream",
     "text": [
      "\n",
      "2016-12-31: 95 companies pass criteria\n"
     ]
    },
    {
     "data": {
      "application/vnd.jupyter.widget-view+json": {
       "model_id": "0d7561df14de4a5ba9cc249a798685ee",
       "version_major": 2,
       "version_minor": 0
      },
      "text/plain": [
       "HBox(children=(IntProgress(value=0, max=14121), HTML(value='')))"
      ]
     },
     "metadata": {},
     "output_type": "display_data"
    },
    {
     "name": "stdout",
     "output_type": "stream",
     "text": [
      "\n",
      "2017-01-31: 94 companies pass criteria\n"
     ]
    },
    {
     "data": {
      "application/vnd.jupyter.widget-view+json": {
       "model_id": "3a3cbe50b7714049a32b21e2523ce5a1",
       "version_major": 2,
       "version_minor": 0
      },
      "text/plain": [
       "HBox(children=(IntProgress(value=0, max=14121), HTML(value='')))"
      ]
     },
     "metadata": {},
     "output_type": "display_data"
    },
    {
     "name": "stdout",
     "output_type": "stream",
     "text": [
      "\n",
      "2017-02-28: 86 companies pass criteria\n"
     ]
    },
    {
     "data": {
      "application/vnd.jupyter.widget-view+json": {
       "model_id": "466d0fccf967448aa4ee85dd8259c550",
       "version_major": 2,
       "version_minor": 0
      },
      "text/plain": [
       "HBox(children=(IntProgress(value=0, max=14121), HTML(value='')))"
      ]
     },
     "metadata": {},
     "output_type": "display_data"
    },
    {
     "name": "stdout",
     "output_type": "stream",
     "text": [
      "\n",
      "2017-03-31: 76 companies pass criteria\n"
     ]
    },
    {
     "data": {
      "application/vnd.jupyter.widget-view+json": {
       "model_id": "67c1d2cc6beb4226bd9090d36b1eb4a1",
       "version_major": 2,
       "version_minor": 0
      },
      "text/plain": [
       "HBox(children=(IntProgress(value=0, max=14121), HTML(value='')))"
      ]
     },
     "metadata": {},
     "output_type": "display_data"
    },
    {
     "name": "stdout",
     "output_type": "stream",
     "text": [
      "\n",
      "2017-04-30: 76 companies pass criteria\n"
     ]
    },
    {
     "data": {
      "application/vnd.jupyter.widget-view+json": {
       "model_id": "6dcb04a8e0f14fa6b43611e3ab20fd35",
       "version_major": 2,
       "version_minor": 0
      },
      "text/plain": [
       "HBox(children=(IntProgress(value=0, max=14121), HTML(value='')))"
      ]
     },
     "metadata": {},
     "output_type": "display_data"
    },
    {
     "name": "stdout",
     "output_type": "stream",
     "text": [
      "\n",
      "2017-05-31: 75 companies pass criteria\n"
     ]
    },
    {
     "data": {
      "application/vnd.jupyter.widget-view+json": {
       "model_id": "0550359ef832497ebc032b64e8fdfae3",
       "version_major": 2,
       "version_minor": 0
      },
      "text/plain": [
       "HBox(children=(IntProgress(value=0, max=14121), HTML(value='')))"
      ]
     },
     "metadata": {},
     "output_type": "display_data"
    },
    {
     "name": "stdout",
     "output_type": "stream",
     "text": [
      "\n",
      "2017-06-30: 74 companies pass criteria\n"
     ]
    },
    {
     "data": {
      "application/vnd.jupyter.widget-view+json": {
       "model_id": "5d1b9b73ff4b4686be81b80e6314facf",
       "version_major": 2,
       "version_minor": 0
      },
      "text/plain": [
       "HBox(children=(IntProgress(value=0, max=14121), HTML(value='')))"
      ]
     },
     "metadata": {},
     "output_type": "display_data"
    },
    {
     "name": "stdout",
     "output_type": "stream",
     "text": [
      "\n",
      "2017-07-31: 72 companies pass criteria\n"
     ]
    },
    {
     "data": {
      "application/vnd.jupyter.widget-view+json": {
       "model_id": "d303b954440e449a9d4cde1e77fe7bbc",
       "version_major": 2,
       "version_minor": 0
      },
      "text/plain": [
       "HBox(children=(IntProgress(value=0, max=14121), HTML(value='')))"
      ]
     },
     "metadata": {},
     "output_type": "display_data"
    },
    {
     "name": "stdout",
     "output_type": "stream",
     "text": [
      "\n",
      "2017-08-31: 71 companies pass criteria\n"
     ]
    },
    {
     "data": {
      "application/vnd.jupyter.widget-view+json": {
       "model_id": "b1de7399bccb48a1be7837dd07840011",
       "version_major": 2,
       "version_minor": 0
      },
      "text/plain": [
       "HBox(children=(IntProgress(value=0, max=14121), HTML(value='')))"
      ]
     },
     "metadata": {},
     "output_type": "display_data"
    },
    {
     "name": "stdout",
     "output_type": "stream",
     "text": [
      "\n",
      "2017-09-30: 72 companies pass criteria\n"
     ]
    },
    {
     "data": {
      "application/vnd.jupyter.widget-view+json": {
       "model_id": "25441e97bf7c424db8361003d9d10be6",
       "version_major": 2,
       "version_minor": 0
      },
      "text/plain": [
       "HBox(children=(IntProgress(value=0, max=14121), HTML(value='')))"
      ]
     },
     "metadata": {},
     "output_type": "display_data"
    },
    {
     "name": "stdout",
     "output_type": "stream",
     "text": [
      "\n",
      "2017-10-31: 72 companies pass criteria\n"
     ]
    },
    {
     "data": {
      "application/vnd.jupyter.widget-view+json": {
       "model_id": "71bc863793844311b1574a3ac30d920e",
       "version_major": 2,
       "version_minor": 0
      },
      "text/plain": [
       "HBox(children=(IntProgress(value=0, max=14121), HTML(value='')))"
      ]
     },
     "metadata": {},
     "output_type": "display_data"
    },
    {
     "name": "stdout",
     "output_type": "stream",
     "text": [
      "\n",
      "2017-11-30: 74 companies pass criteria\n"
     ]
    },
    {
     "data": {
      "application/vnd.jupyter.widget-view+json": {
       "model_id": "2440a9a127aa45bb8e16f760d4859d30",
       "version_major": 2,
       "version_minor": 0
      },
      "text/plain": [
       "HBox(children=(IntProgress(value=0, max=14121), HTML(value='')))"
      ]
     },
     "metadata": {},
     "output_type": "display_data"
    },
    {
     "name": "stdout",
     "output_type": "stream",
     "text": [
      "\n",
      "2017-12-31: 74 companies pass criteria\n"
     ]
    },
    {
     "data": {
      "application/vnd.jupyter.widget-view+json": {
       "model_id": "eb748808bd434a538b67d8f98dbe63fd",
       "version_major": 2,
       "version_minor": 0
      },
      "text/plain": [
       "HBox(children=(IntProgress(value=0, max=14121), HTML(value='')))"
      ]
     },
     "metadata": {},
     "output_type": "display_data"
    },
    {
     "name": "stdout",
     "output_type": "stream",
     "text": [
      "\n",
      "2018-01-31: 74 companies pass criteria\n"
     ]
    },
    {
     "data": {
      "application/vnd.jupyter.widget-view+json": {
       "model_id": "2280a9aecdb54b5f8ae96231a5d9d5d5",
       "version_major": 2,
       "version_minor": 0
      },
      "text/plain": [
       "HBox(children=(IntProgress(value=0, max=14121), HTML(value='')))"
      ]
     },
     "metadata": {},
     "output_type": "display_data"
    },
    {
     "name": "stdout",
     "output_type": "stream",
     "text": [
      "\n",
      "2018-02-28: 77 companies pass criteria\n"
     ]
    },
    {
     "data": {
      "application/vnd.jupyter.widget-view+json": {
       "model_id": "179d9b2bdc9f473b888185df7c0fb635",
       "version_major": 2,
       "version_minor": 0
      },
      "text/plain": [
       "HBox(children=(IntProgress(value=0, max=14121), HTML(value='')))"
      ]
     },
     "metadata": {},
     "output_type": "display_data"
    },
    {
     "name": "stdout",
     "output_type": "stream",
     "text": [
      "\n",
      "2018-03-31: 77 companies pass criteria\n"
     ]
    },
    {
     "data": {
      "application/vnd.jupyter.widget-view+json": {
       "model_id": "99a1d0a1b0a34d8f8b885101374fd59c",
       "version_major": 2,
       "version_minor": 0
      },
      "text/plain": [
       "HBox(children=(IntProgress(value=0, max=14121), HTML(value='')))"
      ]
     },
     "metadata": {},
     "output_type": "display_data"
    },
    {
     "name": "stdout",
     "output_type": "stream",
     "text": [
      "\n",
      "2018-04-30: 76 companies pass criteria\n"
     ]
    },
    {
     "data": {
      "application/vnd.jupyter.widget-view+json": {
       "model_id": "b6fcddbd5d8f4fb797695cc901b479d2",
       "version_major": 2,
       "version_minor": 0
      },
      "text/plain": [
       "HBox(children=(IntProgress(value=0, max=14121), HTML(value='')))"
      ]
     },
     "metadata": {},
     "output_type": "display_data"
    },
    {
     "name": "stdout",
     "output_type": "stream",
     "text": [
      "\n",
      "2018-05-31: 76 companies pass criteria\n"
     ]
    },
    {
     "data": {
      "application/vnd.jupyter.widget-view+json": {
       "model_id": "a61d077bf47b41d8955ea0d4a08d6413",
       "version_major": 2,
       "version_minor": 0
      },
      "text/plain": [
       "HBox(children=(IntProgress(value=0, max=14121), HTML(value='')))"
      ]
     },
     "metadata": {},
     "output_type": "display_data"
    },
    {
     "name": "stdout",
     "output_type": "stream",
     "text": [
      "\n",
      "2018-06-30: 76 companies pass criteria\n"
     ]
    },
    {
     "data": {
      "application/vnd.jupyter.widget-view+json": {
       "model_id": "50d20314b3074f289ca93ec518238c62",
       "version_major": 2,
       "version_minor": 0
      },
      "text/plain": [
       "HBox(children=(IntProgress(value=0, max=14121), HTML(value='')))"
      ]
     },
     "metadata": {},
     "output_type": "display_data"
    },
    {
     "name": "stdout",
     "output_type": "stream",
     "text": [
      "\n",
      "2018-07-31: 78 companies pass criteria\n"
     ]
    },
    {
     "data": {
      "application/vnd.jupyter.widget-view+json": {
       "model_id": "23f4819d587a4d47a02b42b0e6329e18",
       "version_major": 2,
       "version_minor": 0
      },
      "text/plain": [
       "HBox(children=(IntProgress(value=0, max=14121), HTML(value='')))"
      ]
     },
     "metadata": {},
     "output_type": "display_data"
    },
    {
     "name": "stdout",
     "output_type": "stream",
     "text": [
      "\n",
      "2018-08-31: 78 companies pass criteria\n"
     ]
    },
    {
     "data": {
      "application/vnd.jupyter.widget-view+json": {
       "model_id": "cd3421c36fe34ff6acb298476505a2fe",
       "version_major": 2,
       "version_minor": 0
      },
      "text/plain": [
       "HBox(children=(IntProgress(value=0, max=14121), HTML(value='')))"
      ]
     },
     "metadata": {},
     "output_type": "display_data"
    },
    {
     "name": "stdout",
     "output_type": "stream",
     "text": [
      "\n",
      "2018-09-30: 77 companies pass criteria\n"
     ]
    },
    {
     "data": {
      "application/vnd.jupyter.widget-view+json": {
       "model_id": "ee49c3ad91af4c7584f871f4f63874ff",
       "version_major": 2,
       "version_minor": 0
      },
      "text/plain": [
       "HBox(children=(IntProgress(value=0, max=14121), HTML(value='')))"
      ]
     },
     "metadata": {},
     "output_type": "display_data"
    },
    {
     "name": "stdout",
     "output_type": "stream",
     "text": [
      "\n",
      "2018-10-31: 75 companies pass criteria\n"
     ]
    },
    {
     "data": {
      "application/vnd.jupyter.widget-view+json": {
       "model_id": "c108cf3ce7c4402aacd6b97cea6ae7ae",
       "version_major": 2,
       "version_minor": 0
      },
      "text/plain": [
       "HBox(children=(IntProgress(value=0, max=14121), HTML(value='')))"
      ]
     },
     "metadata": {},
     "output_type": "display_data"
    },
    {
     "name": "stdout",
     "output_type": "stream",
     "text": [
      "\n",
      "2018-11-30: 72 companies pass criteria\n"
     ]
    },
    {
     "data": {
      "application/vnd.jupyter.widget-view+json": {
       "model_id": "e8b6839f8a8d4954b5fa9e4b78ac7072",
       "version_major": 2,
       "version_minor": 0
      },
      "text/plain": [
       "HBox(children=(IntProgress(value=0, max=14121), HTML(value='')))"
      ]
     },
     "metadata": {},
     "output_type": "display_data"
    },
    {
     "name": "stdout",
     "output_type": "stream",
     "text": [
      "\n",
      "2018-12-31: 73 companies pass criteria\n"
     ]
    }
   ],
   "source": [
    "dr2 = pd.date_range('2008-12-31', '2018-12-31', freq='M')\n",
    "dic3 = defaultdict(list)\n",
    "\n",
    "for date in dr2:\n",
    "    list_passing_companies = criteria_defensive_investor_list(list_all, all_data=df_all, \n",
    "                                                              relax_current_ratio=False, \n",
    "                                                              dt=date, show_progress=True)\n",
    "    print(f\"{date:%Y-%m-%d}: {len(list_passing_companies)} companies pass criteria\")\n",
    "    dic3[date] = list_passing_companies"
   ]
  },
  {
   "cell_type": "code",
   "execution_count": 25,
   "metadata": {},
   "outputs": [
    {
     "name": "stdout",
     "output_type": "stream",
     "text": [
      "2008-12-31: 63 companies pass criteria\n",
      "2009-01-31: 63 companies pass criteria\n",
      "2009-02-28: 73 companies pass criteria\n",
      "2009-03-31: 73 companies pass criteria\n",
      "2009-04-30: 73 companies pass criteria\n",
      "2009-05-31: 74 companies pass criteria\n",
      "2009-06-30: 75 companies pass criteria\n",
      "2009-07-31: 76 companies pass criteria\n",
      "2009-08-31: 73 companies pass criteria\n",
      "2009-09-30: 74 companies pass criteria\n",
      "2009-10-31: 73 companies pass criteria\n",
      "2009-11-30: 74 companies pass criteria\n",
      "2009-12-31: 75 companies pass criteria\n",
      "2010-01-31: 75 companies pass criteria\n",
      "2010-02-28: 79 companies pass criteria\n",
      "2010-03-31: 78 companies pass criteria\n",
      "2010-04-30: 77 companies pass criteria\n",
      "2010-05-31: 77 companies pass criteria\n",
      "2010-06-30: 76 companies pass criteria\n",
      "2010-07-31: 75 companies pass criteria\n",
      "2010-08-31: 75 companies pass criteria\n",
      "2010-09-30: 74 companies pass criteria\n",
      "2010-10-31: 74 companies pass criteria\n",
      "2010-11-30: 75 companies pass criteria\n",
      "2010-12-31: 73 companies pass criteria\n",
      "2011-01-31: 73 companies pass criteria\n",
      "2011-02-28: 73 companies pass criteria\n",
      "2011-03-31: 75 companies pass criteria\n",
      "2011-04-30: 74 companies pass criteria\n",
      "2011-05-31: 75 companies pass criteria\n",
      "2011-06-30: 76 companies pass criteria\n",
      "2011-07-31: 76 companies pass criteria\n",
      "2011-08-31: 79 companies pass criteria\n",
      "2011-09-30: 79 companies pass criteria\n",
      "2011-10-31: 81 companies pass criteria\n",
      "2011-11-30: 79 companies pass criteria\n",
      "2011-12-31: 80 companies pass criteria\n",
      "2012-01-31: 81 companies pass criteria\n",
      "2012-02-29: 87 companies pass criteria\n",
      "2012-03-31: 91 companies pass criteria\n",
      "2012-04-30: 91 companies pass criteria\n",
      "2012-05-31: 90 companies pass criteria\n",
      "2012-06-30: 90 companies pass criteria\n",
      "2012-07-31: 90 companies pass criteria\n",
      "2012-08-31: 89 companies pass criteria\n",
      "2012-09-30: 89 companies pass criteria\n",
      "2012-10-31: 89 companies pass criteria\n",
      "2012-11-30: 89 companies pass criteria\n",
      "2012-12-31: 90 companies pass criteria\n",
      "2013-01-31: 90 companies pass criteria\n",
      "2013-02-28: 100 companies pass criteria\n",
      "2013-03-31: 101 companies pass criteria\n",
      "2013-04-30: 101 companies pass criteria\n",
      "2013-05-31: 100 companies pass criteria\n",
      "2013-06-30: 101 companies pass criteria\n",
      "2013-07-31: 101 companies pass criteria\n",
      "2013-08-31: 101 companies pass criteria\n",
      "2013-09-30: 102 companies pass criteria\n",
      "2013-10-31: 102 companies pass criteria\n",
      "2013-11-30: 103 companies pass criteria\n",
      "2013-12-31: 103 companies pass criteria\n",
      "2014-01-31: 103 companies pass criteria\n",
      "2014-02-28: 109 companies pass criteria\n",
      "2014-03-31: 107 companies pass criteria\n",
      "2014-04-30: 106 companies pass criteria\n",
      "2014-05-31: 108 companies pass criteria\n",
      "2014-06-30: 110 companies pass criteria\n",
      "2014-07-31: 110 companies pass criteria\n",
      "2014-08-31: 110 companies pass criteria\n",
      "2014-09-30: 109 companies pass criteria\n",
      "2014-10-31: 108 companies pass criteria\n",
      "2014-11-30: 108 companies pass criteria\n",
      "2014-12-31: 109 companies pass criteria\n",
      "2015-01-31: 109 companies pass criteria\n",
      "2015-02-28: 107 companies pass criteria\n",
      "2015-03-31: 105 companies pass criteria\n",
      "2015-04-30: 106 companies pass criteria\n",
      "2015-05-31: 105 companies pass criteria\n",
      "2015-06-30: 104 companies pass criteria\n",
      "2015-07-31: 105 companies pass criteria\n",
      "2015-08-31: 107 companies pass criteria\n",
      "2015-09-30: 107 companies pass criteria\n",
      "2015-10-31: 109 companies pass criteria\n",
      "2015-11-30: 105 companies pass criteria\n",
      "2015-12-31: 103 companies pass criteria\n",
      "2016-01-31: 103 companies pass criteria\n",
      "2016-02-29: 99 companies pass criteria\n",
      "2016-03-31: 98 companies pass criteria\n",
      "2016-04-30: 100 companies pass criteria\n",
      "2016-05-31: 102 companies pass criteria\n",
      "2016-06-30: 100 companies pass criteria\n",
      "2016-07-31: 101 companies pass criteria\n",
      "2016-08-31: 100 companies pass criteria\n",
      "2016-09-30: 98 companies pass criteria\n",
      "2016-10-31: 97 companies pass criteria\n",
      "2016-11-30: 95 companies pass criteria\n",
      "2016-12-31: 95 companies pass criteria\n",
      "2017-01-31: 94 companies pass criteria\n",
      "2017-02-28: 86 companies pass criteria\n",
      "2017-03-31: 76 companies pass criteria\n",
      "2017-04-30: 76 companies pass criteria\n",
      "2017-05-31: 75 companies pass criteria\n",
      "2017-06-30: 74 companies pass criteria\n",
      "2017-07-31: 72 companies pass criteria\n",
      "2017-08-31: 71 companies pass criteria\n",
      "2017-09-30: 72 companies pass criteria\n",
      "2017-10-31: 72 companies pass criteria\n",
      "2017-11-30: 74 companies pass criteria\n",
      "2017-12-31: 74 companies pass criteria\n",
      "2018-01-31: 74 companies pass criteria\n",
      "2018-02-28: 77 companies pass criteria\n",
      "2018-03-31: 77 companies pass criteria\n",
      "2018-04-30: 76 companies pass criteria\n",
      "2018-05-31: 76 companies pass criteria\n",
      "2018-06-30: 76 companies pass criteria\n",
      "2018-07-31: 78 companies pass criteria\n",
      "2018-08-31: 78 companies pass criteria\n",
      "2018-09-30: 77 companies pass criteria\n",
      "2018-10-31: 75 companies pass criteria\n",
      "2018-11-30: 72 companies pass criteria\n",
      "2018-12-31: 73 companies pass criteria\n"
     ]
    }
   ],
   "source": [
    "for key, value in dic3.items():\n",
    "    print(f'{key:%Y-%m-%d}: {len(value)} companies pass criteria')"
   ]
  },
  {
   "cell_type": "code",
   "execution_count": 26,
   "metadata": {},
   "outputs": [],
   "source": [
    "#list(set(dic2[datetime(2009, 12, 31)]).symmetric_difference(dic3[datetime(2009, 12, 31)]))"
   ]
  },
  {
   "cell_type": "code",
   "execution_count": 29,
   "metadata": {},
   "outputs": [],
   "source": [
    "import pickle\n",
    "\n",
    "def save_obj(obj, filename):\n",
    "    with open(filename, 'wb') as f:\n",
    "        pickle.dump(obj, f, pickle.HIGHEST_PROTOCOL)\n",
    "\n",
    "def load_obj(filename):\n",
    "    with open(filename, 'rb') as f:\n",
    "        return pickle.load(f)\n",
    "    \n",
    "fname = os.path.join(os.getcwd(), 'data_defensive', 'defensive1_companies_20081231_20181231.pkl')\n",
    "save_obj(dic3, fname)"
   ]
  },
  {
   "cell_type": "code",
   "execution_count": null,
   "metadata": {},
   "outputs": [],
   "source": []
  }
 ],
 "metadata": {
  "kernelspec": {
   "display_name": "Python 3",
   "language": "python",
   "name": "python3"
  },
  "language_info": {
   "codemirror_mode": {
    "name": "ipython",
    "version": 3
   },
   "file_extension": ".py",
   "mimetype": "text/x-python",
   "name": "python",
   "nbconvert_exporter": "python",
   "pygments_lexer": "ipython3",
   "version": "3.6.6"
  }
 },
 "nbformat": 4,
 "nbformat_minor": 2
}

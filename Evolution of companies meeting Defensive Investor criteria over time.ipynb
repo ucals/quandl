{
 "cells": [
  {
   "cell_type": "markdown",
   "metadata": {},
   "source": [
    "# Evolution of companies meeting Defensive Investor criteria: 2008 to today\n",
    "**Purpose.** Purpose of this notebook is to evaluate how many companies pass Ben Graham's test criteria for the *defensive investor*, as described in *Chapter 14 of Intelligent Investor*, **over time, from 2008 to today.**\n",
    "\n",
    "This notebook was built on top of [Stock Selection for the Defensive Investor](http://localhost:8888/notebooks/Stock%20Selection%20for%20the%20Defensive%20Investor%20v2.ipynb#)."
   ]
  },
  {
   "cell_type": "code",
   "execution_count": 1,
   "metadata": {},
   "outputs": [],
   "source": [
    "%load_ext autoreload\n",
    "%autoreload 2\n",
    "\n",
    "import sys\n",
    "import pandas as pd\n",
    "import numpy as np\n",
    "import quandl\n",
    "import os\n",
    "import warnings\n",
    "from datetime import datetime\n",
    "from tqdm import tqdm_notebook as tqdm\n",
    "import pandas_datareader as pdr\n",
    "import matplotlib.pyplot as plt\n",
    "from graham import *\n",
    "\n",
    "warnings.filterwarnings('ignore')\n",
    "quandl.ApiConfig.api_key = os.getenv('QUANDL_APY_KEY')"
   ]
  },
  {
   "cell_type": "markdown",
   "metadata": {},
   "source": [
    "## Getting necessary data for a given company\n",
    "This function was changed vs. [Stock Selection for the Defensive Investor](http://localhost:8888/notebooks/Stock%20Selection%20for%20the%20Defensive%20Investor%20v2.ipynb#). Changed from `revenue` to `revenueusd`.\n",
    "\n",
    "**IMPORTANT: this function is now included at `/graham/defensive.py`.**"
   ]
  },
  {
   "cell_type": "code",
   "execution_count": 2,
   "metadata": {},
   "outputs": [
    {
     "data": {
      "text/html": [
       "<div>\n",
       "<style scoped>\n",
       "    .dataframe tbody tr th:only-of-type {\n",
       "        vertical-align: middle;\n",
       "    }\n",
       "\n",
       "    .dataframe tbody tr th {\n",
       "        vertical-align: top;\n",
       "    }\n",
       "\n",
       "    .dataframe thead th {\n",
       "        text-align: right;\n",
       "    }\n",
       "</style>\n",
       "<table border=\"1\" class=\"dataframe\">\n",
       "  <thead>\n",
       "    <tr style=\"text-align: right;\">\n",
       "      <th></th>\n",
       "      <th>calendardate</th>\n",
       "      <th>datekey</th>\n",
       "      <th>revenueusd</th>\n",
       "      <th>currentratio</th>\n",
       "      <th>eps</th>\n",
       "      <th>dps</th>\n",
       "      <th>bvps</th>\n",
       "      <th>price</th>\n",
       "    </tr>\n",
       "  </thead>\n",
       "  <tbody>\n",
       "    <tr>\n",
       "      <th>236</th>\n",
       "      <td>1997-12-31</td>\n",
       "      <td>1997-12-05</td>\n",
       "      <td>7.081000e+09</td>\n",
       "      <td>1.883</td>\n",
       "      <td>-0.296</td>\n",
       "      <td>0.0</td>\n",
       "      <td>0.340</td>\n",
       "      <td>0.565</td>\n",
       "    </tr>\n",
       "    <tr>\n",
       "      <th>237</th>\n",
       "      <td>1998-12-31</td>\n",
       "      <td>1998-12-23</td>\n",
       "      <td>5.941000e+09</td>\n",
       "      <td>2.433</td>\n",
       "      <td>0.084</td>\n",
       "      <td>0.0</td>\n",
       "      <td>0.434</td>\n",
       "      <td>1.422</td>\n",
       "    </tr>\n",
       "    <tr>\n",
       "      <th>238</th>\n",
       "      <td>1999-12-31</td>\n",
       "      <td>1999-12-22</td>\n",
       "      <td>6.134000e+09</td>\n",
       "      <td>2.766</td>\n",
       "      <td>0.150</td>\n",
       "      <td>0.0</td>\n",
       "      <td>0.706</td>\n",
       "      <td>3.569</td>\n",
       "    </tr>\n",
       "    <tr>\n",
       "      <th>239</th>\n",
       "      <td>2000-12-31</td>\n",
       "      <td>2000-12-14</td>\n",
       "      <td>7.983000e+09</td>\n",
       "      <td>2.808</td>\n",
       "      <td>0.173</td>\n",
       "      <td>0.0</td>\n",
       "      <td>0.897</td>\n",
       "      <td>1.031</td>\n",
       "    </tr>\n",
       "    <tr>\n",
       "      <th>240</th>\n",
       "      <td>2001-12-31</td>\n",
       "      <td>2001-12-21</td>\n",
       "      <td>5.363000e+09</td>\n",
       "      <td>3.388</td>\n",
       "      <td>-0.005</td>\n",
       "      <td>0.0</td>\n",
       "      <td>0.798</td>\n",
       "      <td>1.500</td>\n",
       "    </tr>\n",
       "  </tbody>\n",
       "</table>\n",
       "</div>"
      ],
      "text/plain": [
       "    calendardate    datekey    revenueusd  currentratio    eps  dps   bvps  \\\n",
       "236   1997-12-31 1997-12-05  7.081000e+09         1.883 -0.296  0.0  0.340   \n",
       "237   1998-12-31 1998-12-23  5.941000e+09         2.433  0.084  0.0  0.434   \n",
       "238   1999-12-31 1999-12-22  6.134000e+09         2.766  0.150  0.0  0.706   \n",
       "239   2000-12-31 2000-12-14  7.983000e+09         2.808  0.173  0.0  0.897   \n",
       "240   2001-12-31 2001-12-21  5.363000e+09         3.388 -0.005  0.0  0.798   \n",
       "\n",
       "     price  \n",
       "236  0.565  \n",
       "237  1.422  \n",
       "238  3.569  \n",
       "239  1.031  \n",
       "240  1.500  "
      ]
     },
     "execution_count": 2,
     "metadata": {},
     "output_type": "execute_result"
    }
   ],
   "source": [
    "get_data('AAPL').head()"
   ]
  },
  {
   "cell_type": "markdown",
   "metadata": {},
   "source": [
    "## Check if a company pass the 7 criteria in a given date\n",
    "This function was changed vs. [Stock Selection for the Defensive Investor](http://localhost:8888/notebooks/Stock%20Selection%20for%20the%20Defensive%20Investor%20v2.ipynb#). Added the column `first_five_criteria` in the returned Dataframe, which is `True` if a company meets only first five criteria, **excluding PE and PB criteria**. Also added `force_download` flag. Finally, added `relax_current_ratio=False`: if `True`, passes **current_ratio** criteria for companies without it.\n",
    "\n",
    "**IMPORTANT: this function is now included at `/graham/defensive.py`.**"
   ]
  },
  {
   "cell_type": "code",
   "execution_count": 3,
   "metadata": {},
   "outputs": [
    {
     "data": {
      "application/vnd.jupyter.widget-view+json": {
       "model_id": "1913d06398f54b9f884b5d45857ecd1b",
       "version_major": 2,
       "version_minor": 0
      },
      "text/plain": [
       "HBox(children=(IntProgress(value=0, max=30), HTML(value='')))"
      ]
     },
     "metadata": {},
     "output_type": "display_data"
    },
    {
     "name": "stdout",
     "output_type": "stream",
     "text": [
      "\n"
     ]
    },
    {
     "data": {
      "text/html": [
       "<div>\n",
       "<style scoped>\n",
       "    .dataframe tbody tr th:only-of-type {\n",
       "        vertical-align: middle;\n",
       "    }\n",
       "\n",
       "    .dataframe tbody tr th {\n",
       "        vertical-align: top;\n",
       "    }\n",
       "\n",
       "    .dataframe thead th {\n",
       "        text-align: right;\n",
       "    }\n",
       "</style>\n",
       "<table border=\"1\" class=\"dataframe\">\n",
       "  <thead>\n",
       "    <tr style=\"text-align: right;\">\n",
       "      <th></th>\n",
       "      <th>ticker</th>\n",
       "      <th>last_date</th>\n",
       "      <th>first_date</th>\n",
       "      <th>revenueusd</th>\n",
       "      <th>current_ratio</th>\n",
       "      <th>positive_eps_p10yrs_count</th>\n",
       "      <th>dividend_distribution_p20yrs_count</th>\n",
       "      <th>earnings_change_p10yrs</th>\n",
       "      <th>pe</th>\n",
       "      <th>pb</th>\n",
       "      <th>pexpb</th>\n",
       "      <th>size_criteria</th>\n",
       "      <th>financial_condition_criteria</th>\n",
       "      <th>earnings_stability_criteria</th>\n",
       "      <th>dividend_record_criteria</th>\n",
       "      <th>earnings_growth_criteria</th>\n",
       "      <th>pe_criteria</th>\n",
       "      <th>pb_criteria</th>\n",
       "      <th>first_five_criteria</th>\n",
       "      <th>full_criteria</th>\n",
       "    </tr>\n",
       "  </thead>\n",
       "  <tbody>\n",
       "    <tr>\n",
       "      <th>0</th>\n",
       "      <td>AXP</td>\n",
       "      <td>2007-12-31</td>\n",
       "      <td>1993-12-31</td>\n",
       "      <td>2.773100e+10</td>\n",
       "      <td>NaN</td>\n",
       "      <td>10</td>\n",
       "      <td>15</td>\n",
       "      <td>2.524555</td>\n",
       "      <td>14.012618</td>\n",
       "      <td>4.724527</td>\n",
       "      <td>66.202989</td>\n",
       "      <td>True</td>\n",
       "      <td>True</td>\n",
       "      <td>True</td>\n",
       "      <td>True</td>\n",
       "      <td>True</td>\n",
       "      <td>True</td>\n",
       "      <td>False</td>\n",
       "      <td>True</td>\n",
       "      <td>False</td>\n",
       "    </tr>\n",
       "    <tr>\n",
       "      <th>1</th>\n",
       "      <td>AAPL</td>\n",
       "      <td>2008-12-31</td>\n",
       "      <td>1997-12-31</td>\n",
       "      <td>3.247900e+10</td>\n",
       "      <td>2.462</td>\n",
       "      <td>9</td>\n",
       "      <td>0</td>\n",
       "      <td>-5.336478</td>\n",
       "      <td>26.087802</td>\n",
       "      <td>4.356953</td>\n",
       "      <td>113.663329</td>\n",
       "      <td>True</td>\n",
       "      <td>True</td>\n",
       "      <td>False</td>\n",
       "      <td>False</td>\n",
       "      <td>False</td>\n",
       "      <td>False</td>\n",
       "      <td>False</td>\n",
       "      <td>False</td>\n",
       "      <td>False</td>\n",
       "    </tr>\n",
       "    <tr>\n",
       "      <th>2</th>\n",
       "      <td>BA</td>\n",
       "      <td>2007-12-31</td>\n",
       "      <td>1997-12-31</td>\n",
       "      <td>6.638700e+10</td>\n",
       "      <td>0.865</td>\n",
       "      <td>10</td>\n",
       "      <td>11</td>\n",
       "      <td>-21.370370</td>\n",
       "      <td>22.143847</td>\n",
       "      <td>7.133406</td>\n",
       "      <td>157.961053</td>\n",
       "      <td>True</td>\n",
       "      <td>False</td>\n",
       "      <td>True</td>\n",
       "      <td>True</td>\n",
       "      <td>False</td>\n",
       "      <td>False</td>\n",
       "      <td>False</td>\n",
       "      <td>False</td>\n",
       "      <td>False</td>\n",
       "    </tr>\n",
       "    <tr>\n",
       "      <th>3</th>\n",
       "      <td>CAT</td>\n",
       "      <td>2007-12-31</td>\n",
       "      <td>1997-12-31</td>\n",
       "      <td>4.495800e+10</td>\n",
       "      <td>1.145</td>\n",
       "      <td>10</td>\n",
       "      <td>11</td>\n",
       "      <td>2.271772</td>\n",
       "      <td>14.113681</td>\n",
       "      <td>5.113873</td>\n",
       "      <td>72.175576</td>\n",
       "      <td>True</td>\n",
       "      <td>False</td>\n",
       "      <td>True</td>\n",
       "      <td>True</td>\n",
       "      <td>True</td>\n",
       "      <td>True</td>\n",
       "      <td>False</td>\n",
       "      <td>False</td>\n",
       "      <td>False</td>\n",
       "    </tr>\n",
       "    <tr>\n",
       "      <th>4</th>\n",
       "      <td>CSCO</td>\n",
       "      <td>2008-12-31</td>\n",
       "      <td>1995-12-31</td>\n",
       "      <td>3.954000e+10</td>\n",
       "      <td>2.576</td>\n",
       "      <td>9</td>\n",
       "      <td>0</td>\n",
       "      <td>6.414048</td>\n",
       "      <td>19.348703</td>\n",
       "      <td>3.844700</td>\n",
       "      <td>74.389963</td>\n",
       "      <td>True</td>\n",
       "      <td>True</td>\n",
       "      <td>False</td>\n",
       "      <td>False</td>\n",
       "      <td>True</td>\n",
       "      <td>False</td>\n",
       "      <td>False</td>\n",
       "      <td>False</td>\n",
       "      <td>False</td>\n",
       "    </tr>\n",
       "    <tr>\n",
       "      <th>5</th>\n",
       "      <td>CVX</td>\n",
       "      <td>2007-12-31</td>\n",
       "      <td>1997-12-31</td>\n",
       "      <td>2.209040e+11</td>\n",
       "      <td>1.165</td>\n",
       "      <td>10</td>\n",
       "      <td>11</td>\n",
       "      <td>3.118712</td>\n",
       "      <td>11.486452</td>\n",
       "      <td>2.398103</td>\n",
       "      <td>27.545700</td>\n",
       "      <td>True</td>\n",
       "      <td>False</td>\n",
       "      <td>True</td>\n",
       "      <td>True</td>\n",
       "      <td>True</td>\n",
       "      <td>True</td>\n",
       "      <td>False</td>\n",
       "      <td>False</td>\n",
       "      <td>False</td>\n",
       "    </tr>\n",
       "    <tr>\n",
       "      <th>6</th>\n",
       "      <td>DWDP</td>\n",
       "      <td>2007-12-31</td>\n",
       "      <td>1997-12-31</td>\n",
       "      <td>5.351300e+10</td>\n",
       "      <td>1.499</td>\n",
       "      <td>8</td>\n",
       "      <td>11</td>\n",
       "      <td>1.484185</td>\n",
       "      <td>10.141501</td>\n",
       "      <td>1.952459</td>\n",
       "      <td>19.800868</td>\n",
       "      <td>True</td>\n",
       "      <td>False</td>\n",
       "      <td>False</td>\n",
       "      <td>True</td>\n",
       "      <td>True</td>\n",
       "      <td>True</td>\n",
       "      <td>True</td>\n",
       "      <td>False</td>\n",
       "      <td>False</td>\n",
       "    </tr>\n",
       "    <tr>\n",
       "      <th>7</th>\n",
       "      <td>XOM</td>\n",
       "      <td>2007-12-31</td>\n",
       "      <td>1997-12-31</td>\n",
       "      <td>4.045520e+11</td>\n",
       "      <td>1.474</td>\n",
       "      <td>10</td>\n",
       "      <td>11</td>\n",
       "      <td>3.870968</td>\n",
       "      <td>13.542424</td>\n",
       "      <td>3.927238</td>\n",
       "      <td>53.184317</td>\n",
       "      <td>True</td>\n",
       "      <td>False</td>\n",
       "      <td>True</td>\n",
       "      <td>True</td>\n",
       "      <td>True</td>\n",
       "      <td>True</td>\n",
       "      <td>False</td>\n",
       "      <td>False</td>\n",
       "      <td>False</td>\n",
       "    </tr>\n",
       "    <tr>\n",
       "      <th>8</th>\n",
       "      <td>GS</td>\n",
       "      <td>2007-12-31</td>\n",
       "      <td>1999-12-31</td>\n",
       "      <td>4.598700e+10</td>\n",
       "      <td>NaN</td>\n",
       "      <td>9</td>\n",
       "      <td>9</td>\n",
       "      <td>NaN</td>\n",
       "      <td>9.968644</td>\n",
       "      <td>1.939438</td>\n",
       "      <td>19.333564</td>\n",
       "      <td>True</td>\n",
       "      <td>True</td>\n",
       "      <td>True</td>\n",
       "      <td>True</td>\n",
       "      <td>False</td>\n",
       "      <td>True</td>\n",
       "      <td>True</td>\n",
       "      <td>False</td>\n",
       "      <td>False</td>\n",
       "    </tr>\n",
       "    <tr>\n",
       "      <th>9</th>\n",
       "      <td>HD</td>\n",
       "      <td>2007-12-31</td>\n",
       "      <td>1996-12-31</td>\n",
       "      <td>7.734900e+10</td>\n",
       "      <td>1.155</td>\n",
       "      <td>10</td>\n",
       "      <td>12</td>\n",
       "      <td>5.487340</td>\n",
       "      <td>11.082174</td>\n",
       "      <td>2.748049</td>\n",
       "      <td>30.454353</td>\n",
       "      <td>True</td>\n",
       "      <td>False</td>\n",
       "      <td>True</td>\n",
       "      <td>True</td>\n",
       "      <td>True</td>\n",
       "      <td>True</td>\n",
       "      <td>False</td>\n",
       "      <td>False</td>\n",
       "      <td>False</td>\n",
       "    </tr>\n",
       "    <tr>\n",
       "      <th>10</th>\n",
       "      <td>IBM</td>\n",
       "      <td>2007-12-31</td>\n",
       "      <td>1997-12-31</td>\n",
       "      <td>9.878600e+10</td>\n",
       "      <td>1.200</td>\n",
       "      <td>10</td>\n",
       "      <td>11</td>\n",
       "      <td>1.993528</td>\n",
       "      <td>18.568182</td>\n",
       "      <td>5.561066</td>\n",
       "      <td>103.258880</td>\n",
       "      <td>True</td>\n",
       "      <td>False</td>\n",
       "      <td>True</td>\n",
       "      <td>True</td>\n",
       "      <td>True</td>\n",
       "      <td>False</td>\n",
       "      <td>False</td>\n",
       "      <td>False</td>\n",
       "      <td>False</td>\n",
       "    </tr>\n",
       "    <tr>\n",
       "      <th>11</th>\n",
       "      <td>INTC</td>\n",
       "      <td>2007-12-31</td>\n",
       "      <td>1997-12-31</td>\n",
       "      <td>3.833400e+10</td>\n",
       "      <td>2.787</td>\n",
       "      <td>10</td>\n",
       "      <td>11</td>\n",
       "      <td>1.094387</td>\n",
       "      <td>17.518625</td>\n",
       "      <td>2.783393</td>\n",
       "      <td>48.761209</td>\n",
       "      <td>True</td>\n",
       "      <td>True</td>\n",
       "      <td>True</td>\n",
       "      <td>True</td>\n",
       "      <td>False</td>\n",
       "      <td>False</td>\n",
       "      <td>False</td>\n",
       "      <td>False</td>\n",
       "      <td>False</td>\n",
       "    </tr>\n",
       "    <tr>\n",
       "      <th>12</th>\n",
       "      <td>JNJ</td>\n",
       "      <td>2007-12-31</td>\n",
       "      <td>2001-12-31</td>\n",
       "      <td>6.109500e+10</td>\n",
       "      <td>1.510</td>\n",
       "      <td>7</td>\n",
       "      <td>7</td>\n",
       "      <td>NaN</td>\n",
       "      <td>17.489478</td>\n",
       "      <td>4.166612</td>\n",
       "      <td>72.871874</td>\n",
       "      <td>True</td>\n",
       "      <td>False</td>\n",
       "      <td>True</td>\n",
       "      <td>True</td>\n",
       "      <td>False</td>\n",
       "      <td>False</td>\n",
       "      <td>False</td>\n",
       "      <td>False</td>\n",
       "      <td>False</td>\n",
       "    </tr>\n",
       "    <tr>\n",
       "      <th>13</th>\n",
       "      <td>KO</td>\n",
       "      <td>2007-12-31</td>\n",
       "      <td>1997-12-31</td>\n",
       "      <td>2.885700e+10</td>\n",
       "      <td>0.915</td>\n",
       "      <td>10</td>\n",
       "      <td>11</td>\n",
       "      <td>1.355289</td>\n",
       "      <td>26.270987</td>\n",
       "      <td>6.333617</td>\n",
       "      <td>166.390378</td>\n",
       "      <td>True</td>\n",
       "      <td>False</td>\n",
       "      <td>True</td>\n",
       "      <td>True</td>\n",
       "      <td>True</td>\n",
       "      <td>False</td>\n",
       "      <td>False</td>\n",
       "      <td>False</td>\n",
       "      <td>False</td>\n",
       "    </tr>\n",
       "    <tr>\n",
       "      <th>14</th>\n",
       "      <td>JPM</td>\n",
       "      <td>2007-12-31</td>\n",
       "      <td>1997-12-31</td>\n",
       "      <td>7.137200e+10</td>\n",
       "      <td>NaN</td>\n",
       "      <td>10</td>\n",
       "      <td>11</td>\n",
       "      <td>1.337188</td>\n",
       "      <td>10.986486</td>\n",
       "      <td>1.120514</td>\n",
       "      <td>12.310510</td>\n",
       "      <td>True</td>\n",
       "      <td>True</td>\n",
       "      <td>True</td>\n",
       "      <td>True</td>\n",
       "      <td>True</td>\n",
       "      <td>True</td>\n",
       "      <td>True</td>\n",
       "      <td>True</td>\n",
       "      <td>True</td>\n",
       "    </tr>\n",
       "    <tr>\n",
       "      <th>15</th>\n",
       "      <td>MCD</td>\n",
       "      <td>2007-12-31</td>\n",
       "      <td>1997-12-31</td>\n",
       "      <td>2.278660e+10</td>\n",
       "      <td>0.796</td>\n",
       "      <td>10</td>\n",
       "      <td>11</td>\n",
       "      <td>1.971631</td>\n",
       "      <td>24.194245</td>\n",
       "      <td>4.304916</td>\n",
       "      <td>104.154179</td>\n",
       "      <td>True</td>\n",
       "      <td>False</td>\n",
       "      <td>True</td>\n",
       "      <td>True</td>\n",
       "      <td>True</td>\n",
       "      <td>False</td>\n",
       "      <td>False</td>\n",
       "      <td>False</td>\n",
       "      <td>False</td>\n",
       "    </tr>\n",
       "    <tr>\n",
       "      <th>16</th>\n",
       "      <td>MMM</td>\n",
       "      <td>2007-12-31</td>\n",
       "      <td>1995-12-31</td>\n",
       "      <td>2.446200e+10</td>\n",
       "      <td>1.835</td>\n",
       "      <td>10</td>\n",
       "      <td>13</td>\n",
       "      <td>2.705671</td>\n",
       "      <td>15.958084</td>\n",
       "      <td>4.839881</td>\n",
       "      <td>77.235232</td>\n",
       "      <td>True</td>\n",
       "      <td>False</td>\n",
       "      <td>True</td>\n",
       "      <td>True</td>\n",
       "      <td>True</td>\n",
       "      <td>False</td>\n",
       "      <td>False</td>\n",
       "      <td>False</td>\n",
       "      <td>False</td>\n",
       "    </tr>\n",
       "    <tr>\n",
       "      <th>17</th>\n",
       "      <td>MRK</td>\n",
       "      <td>2007-12-31</td>\n",
       "      <td>1997-12-31</td>\n",
       "      <td>2.419770e+10</td>\n",
       "      <td>1.227</td>\n",
       "      <td>10</td>\n",
       "      <td>11</td>\n",
       "      <td>0.985205</td>\n",
       "      <td>23.957597</td>\n",
       "      <td>5.382234</td>\n",
       "      <td>128.945391</td>\n",
       "      <td>True</td>\n",
       "      <td>False</td>\n",
       "      <td>True</td>\n",
       "      <td>True</td>\n",
       "      <td>False</td>\n",
       "      <td>False</td>\n",
       "      <td>False</td>\n",
       "      <td>False</td>\n",
       "      <td>False</td>\n",
       "    </tr>\n",
       "    <tr>\n",
       "      <th>18</th>\n",
       "      <td>MSFT</td>\n",
       "      <td>2008-12-31</td>\n",
       "      <td>1994-12-31</td>\n",
       "      <td>6.042000e+10</td>\n",
       "      <td>1.447</td>\n",
       "      <td>10</td>\n",
       "      <td>6</td>\n",
       "      <td>4.545455</td>\n",
       "      <td>16.958242</td>\n",
       "      <td>6.567926</td>\n",
       "      <td>111.380485</td>\n",
       "      <td>True</td>\n",
       "      <td>False</td>\n",
       "      <td>True</td>\n",
       "      <td>False</td>\n",
       "      <td>True</td>\n",
       "      <td>False</td>\n",
       "      <td>False</td>\n",
       "      <td>False</td>\n",
       "      <td>False</td>\n",
       "    </tr>\n",
       "    <tr>\n",
       "      <th>19</th>\n",
       "      <td>NKE</td>\n",
       "      <td>2008-12-31</td>\n",
       "      <td>1998-12-31</td>\n",
       "      <td>1.862700e+10</td>\n",
       "      <td>2.661</td>\n",
       "      <td>10</td>\n",
       "      <td>11</td>\n",
       "      <td>4.575581</td>\n",
       "      <td>18.182973</td>\n",
       "      <td>3.587365</td>\n",
       "      <td>65.228967</td>\n",
       "      <td>True</td>\n",
       "      <td>True</td>\n",
       "      <td>True</td>\n",
       "      <td>True</td>\n",
       "      <td>True</td>\n",
       "      <td>False</td>\n",
       "      <td>False</td>\n",
       "      <td>True</td>\n",
       "      <td>False</td>\n",
       "    </tr>\n",
       "    <tr>\n",
       "      <th>20</th>\n",
       "      <td>PFE</td>\n",
       "      <td>2007-12-31</td>\n",
       "      <td>1997-12-31</td>\n",
       "      <td>4.841800e+10</td>\n",
       "      <td>2.146</td>\n",
       "      <td>10</td>\n",
       "      <td>11</td>\n",
       "      <td>2.810903</td>\n",
       "      <td>13.503030</td>\n",
       "      <td>2.322285</td>\n",
       "      <td>31.357882</td>\n",
       "      <td>True</td>\n",
       "      <td>True</td>\n",
       "      <td>True</td>\n",
       "      <td>True</td>\n",
       "      <td>True</td>\n",
       "      <td>True</td>\n",
       "      <td>False</td>\n",
       "      <td>True</td>\n",
       "      <td>False</td>\n",
       "    </tr>\n",
       "    <tr>\n",
       "      <th>21</th>\n",
       "      <td>PG</td>\n",
       "      <td>2008-12-31</td>\n",
       "      <td>1998-12-31</td>\n",
       "      <td>8.350300e+10</td>\n",
       "      <td>0.792</td>\n",
       "      <td>10</td>\n",
       "      <td>11</td>\n",
       "      <td>2.401460</td>\n",
       "      <td>21.583587</td>\n",
       "      <td>3.100467</td>\n",
       "      <td>66.919202</td>\n",
       "      <td>True</td>\n",
       "      <td>False</td>\n",
       "      <td>True</td>\n",
       "      <td>True</td>\n",
       "      <td>True</td>\n",
       "      <td>False</td>\n",
       "      <td>False</td>\n",
       "      <td>False</td>\n",
       "      <td>False</td>\n",
       "    </tr>\n",
       "    <tr>\n",
       "      <th>22</th>\n",
       "      <td>TRV</td>\n",
       "      <td>2007-12-31</td>\n",
       "      <td>1997-12-31</td>\n",
       "      <td>2.601700e+10</td>\n",
       "      <td>NaN</td>\n",
       "      <td>9</td>\n",
       "      <td>11</td>\n",
       "      <td>1.252013</td>\n",
       "      <td>9.079100</td>\n",
       "      <td>1.121170</td>\n",
       "      <td>10.179216</td>\n",
       "      <td>True</td>\n",
       "      <td>True</td>\n",
       "      <td>False</td>\n",
       "      <td>True</td>\n",
       "      <td>False</td>\n",
       "      <td>True</td>\n",
       "      <td>True</td>\n",
       "      <td>False</td>\n",
       "      <td>False</td>\n",
       "    </tr>\n",
       "    <tr>\n",
       "      <th>23</th>\n",
       "      <td>UNH</td>\n",
       "      <td>2007-12-31</td>\n",
       "      <td>1997-12-31</td>\n",
       "      <td>7.543100e+10</td>\n",
       "      <td>0.841</td>\n",
       "      <td>9</td>\n",
       "      <td>10</td>\n",
       "      <td>10.743322</td>\n",
       "      <td>15.502703</td>\n",
       "      <td>3.032995</td>\n",
       "      <td>47.019619</td>\n",
       "      <td>True</td>\n",
       "      <td>False</td>\n",
       "      <td>False</td>\n",
       "      <td>False</td>\n",
       "      <td>True</td>\n",
       "      <td>False</td>\n",
       "      <td>False</td>\n",
       "      <td>False</td>\n",
       "      <td>False</td>\n",
       "    </tr>\n",
       "    <tr>\n",
       "      <th>24</th>\n",
       "      <td>UTX</td>\n",
       "      <td>2007-12-31</td>\n",
       "      <td>1997-12-31</td>\n",
       "      <td>5.475900e+10</td>\n",
       "      <td>1.263</td>\n",
       "      <td>10</td>\n",
       "      <td>11</td>\n",
       "      <td>3.390390</td>\n",
       "      <td>18.991143</td>\n",
       "      <td>3.284920</td>\n",
       "      <td>62.384380</td>\n",
       "      <td>True</td>\n",
       "      <td>False</td>\n",
       "      <td>True</td>\n",
       "      <td>True</td>\n",
       "      <td>True</td>\n",
       "      <td>False</td>\n",
       "      <td>False</td>\n",
       "      <td>False</td>\n",
       "      <td>False</td>\n",
       "    </tr>\n",
       "    <tr>\n",
       "      <th>25</th>\n",
       "      <td>VZ</td>\n",
       "      <td>2007-12-31</td>\n",
       "      <td>1998-12-31</td>\n",
       "      <td>9.346900e+10</td>\n",
       "      <td>0.756</td>\n",
       "      <td>10</td>\n",
       "      <td>10</td>\n",
       "      <td>NaN</td>\n",
       "      <td>16.622951</td>\n",
       "      <td>2.121420</td>\n",
       "      <td>35.264254</td>\n",
       "      <td>True</td>\n",
       "      <td>False</td>\n",
       "      <td>True</td>\n",
       "      <td>True</td>\n",
       "      <td>False</td>\n",
       "      <td>False</td>\n",
       "      <td>False</td>\n",
       "      <td>False</td>\n",
       "      <td>False</td>\n",
       "    </tr>\n",
       "    <tr>\n",
       "      <th>26</th>\n",
       "      <td>V</td>\n",
       "      <td>2008-12-31</td>\n",
       "      <td>2007-12-31</td>\n",
       "      <td>6.263000e+09</td>\n",
       "      <td>1.560</td>\n",
       "      <td>1</td>\n",
       "      <td>1</td>\n",
       "      <td>NaN</td>\n",
       "      <td>48.312500</td>\n",
       "      <td>1.673885</td>\n",
       "      <td>80.869559</td>\n",
       "      <td>True</td>\n",
       "      <td>False</td>\n",
       "      <td>False</td>\n",
       "      <td>False</td>\n",
       "      <td>False</td>\n",
       "      <td>False</td>\n",
       "      <td>False</td>\n",
       "      <td>False</td>\n",
       "      <td>False</td>\n",
       "    </tr>\n",
       "    <tr>\n",
       "      <th>27</th>\n",
       "      <td>WBA</td>\n",
       "      <td>2008-12-31</td>\n",
       "      <td>1998-12-31</td>\n",
       "      <td>5.903400e+10</td>\n",
       "      <td>1.570</td>\n",
       "      <td>10</td>\n",
       "      <td>11</td>\n",
       "      <td>3.851133</td>\n",
       "      <td>12.705882</td>\n",
       "      <td>1.938163</td>\n",
       "      <td>24.626076</td>\n",
       "      <td>True</td>\n",
       "      <td>False</td>\n",
       "      <td>True</td>\n",
       "      <td>True</td>\n",
       "      <td>True</td>\n",
       "      <td>True</td>\n",
       "      <td>False</td>\n",
       "      <td>False</td>\n",
       "      <td>False</td>\n",
       "    </tr>\n",
       "    <tr>\n",
       "      <th>28</th>\n",
       "      <td>WMT</td>\n",
       "      <td>2007-12-31</td>\n",
       "      <td>1994-12-31</td>\n",
       "      <td>3.787990e+11</td>\n",
       "      <td>0.814</td>\n",
       "      <td>10</td>\n",
       "      <td>14</td>\n",
       "      <td>4.176471</td>\n",
       "      <td>18.549296</td>\n",
       "      <td>3.251651</td>\n",
       "      <td>60.315839</td>\n",
       "      <td>True</td>\n",
       "      <td>False</td>\n",
       "      <td>True</td>\n",
       "      <td>True</td>\n",
       "      <td>True</td>\n",
       "      <td>False</td>\n",
       "      <td>False</td>\n",
       "      <td>False</td>\n",
       "      <td>False</td>\n",
       "    </tr>\n",
       "    <tr>\n",
       "      <th>29</th>\n",
       "      <td>DIS</td>\n",
       "      <td>2008-12-31</td>\n",
       "      <td>1993-12-31</td>\n",
       "      <td>3.784300e+10</td>\n",
       "      <td>1.006</td>\n",
       "      <td>9</td>\n",
       "      <td>14</td>\n",
       "      <td>2.468203</td>\n",
       "      <td>9.048309</td>\n",
       "      <td>1.084728</td>\n",
       "      <td>9.814955</td>\n",
       "      <td>True</td>\n",
       "      <td>False</td>\n",
       "      <td>False</td>\n",
       "      <td>False</td>\n",
       "      <td>True</td>\n",
       "      <td>True</td>\n",
       "      <td>True</td>\n",
       "      <td>False</td>\n",
       "      <td>False</td>\n",
       "    </tr>\n",
       "  </tbody>\n",
       "</table>\n",
       "</div>"
      ],
      "text/plain": [
       "   ticker  last_date first_date    revenueusd  current_ratio  \\\n",
       "0     AXP 2007-12-31 1993-12-31  2.773100e+10            NaN   \n",
       "1    AAPL 2008-12-31 1997-12-31  3.247900e+10          2.462   \n",
       "2      BA 2007-12-31 1997-12-31  6.638700e+10          0.865   \n",
       "3     CAT 2007-12-31 1997-12-31  4.495800e+10          1.145   \n",
       "4    CSCO 2008-12-31 1995-12-31  3.954000e+10          2.576   \n",
       "5     CVX 2007-12-31 1997-12-31  2.209040e+11          1.165   \n",
       "6    DWDP 2007-12-31 1997-12-31  5.351300e+10          1.499   \n",
       "7     XOM 2007-12-31 1997-12-31  4.045520e+11          1.474   \n",
       "8      GS 2007-12-31 1999-12-31  4.598700e+10            NaN   \n",
       "9      HD 2007-12-31 1996-12-31  7.734900e+10          1.155   \n",
       "10    IBM 2007-12-31 1997-12-31  9.878600e+10          1.200   \n",
       "11   INTC 2007-12-31 1997-12-31  3.833400e+10          2.787   \n",
       "12    JNJ 2007-12-31 2001-12-31  6.109500e+10          1.510   \n",
       "13     KO 2007-12-31 1997-12-31  2.885700e+10          0.915   \n",
       "14    JPM 2007-12-31 1997-12-31  7.137200e+10            NaN   \n",
       "15    MCD 2007-12-31 1997-12-31  2.278660e+10          0.796   \n",
       "16    MMM 2007-12-31 1995-12-31  2.446200e+10          1.835   \n",
       "17    MRK 2007-12-31 1997-12-31  2.419770e+10          1.227   \n",
       "18   MSFT 2008-12-31 1994-12-31  6.042000e+10          1.447   \n",
       "19    NKE 2008-12-31 1998-12-31  1.862700e+10          2.661   \n",
       "20    PFE 2007-12-31 1997-12-31  4.841800e+10          2.146   \n",
       "21     PG 2008-12-31 1998-12-31  8.350300e+10          0.792   \n",
       "22    TRV 2007-12-31 1997-12-31  2.601700e+10            NaN   \n",
       "23    UNH 2007-12-31 1997-12-31  7.543100e+10          0.841   \n",
       "24    UTX 2007-12-31 1997-12-31  5.475900e+10          1.263   \n",
       "25     VZ 2007-12-31 1998-12-31  9.346900e+10          0.756   \n",
       "26      V 2008-12-31 2007-12-31  6.263000e+09          1.560   \n",
       "27    WBA 2008-12-31 1998-12-31  5.903400e+10          1.570   \n",
       "28    WMT 2007-12-31 1994-12-31  3.787990e+11          0.814   \n",
       "29    DIS 2008-12-31 1993-12-31  3.784300e+10          1.006   \n",
       "\n",
       "   positive_eps_p10yrs_count dividend_distribution_p20yrs_count  \\\n",
       "0                         10                                 15   \n",
       "1                          9                                  0   \n",
       "2                         10                                 11   \n",
       "3                         10                                 11   \n",
       "4                          9                                  0   \n",
       "5                         10                                 11   \n",
       "6                          8                                 11   \n",
       "7                         10                                 11   \n",
       "8                          9                                  9   \n",
       "9                         10                                 12   \n",
       "10                        10                                 11   \n",
       "11                        10                                 11   \n",
       "12                         7                                  7   \n",
       "13                        10                                 11   \n",
       "14                        10                                 11   \n",
       "15                        10                                 11   \n",
       "16                        10                                 13   \n",
       "17                        10                                 11   \n",
       "18                        10                                  6   \n",
       "19                        10                                 11   \n",
       "20                        10                                 11   \n",
       "21                        10                                 11   \n",
       "22                         9                                 11   \n",
       "23                         9                                 10   \n",
       "24                        10                                 11   \n",
       "25                        10                                 10   \n",
       "26                         1                                  1   \n",
       "27                        10                                 11   \n",
       "28                        10                                 14   \n",
       "29                         9                                 14   \n",
       "\n",
       "    earnings_change_p10yrs         pe        pb       pexpb size_criteria  \\\n",
       "0                 2.524555  14.012618  4.724527   66.202989          True   \n",
       "1                -5.336478  26.087802  4.356953  113.663329          True   \n",
       "2               -21.370370  22.143847  7.133406  157.961053          True   \n",
       "3                 2.271772  14.113681  5.113873   72.175576          True   \n",
       "4                 6.414048  19.348703  3.844700   74.389963          True   \n",
       "5                 3.118712  11.486452  2.398103   27.545700          True   \n",
       "6                 1.484185  10.141501  1.952459   19.800868          True   \n",
       "7                 3.870968  13.542424  3.927238   53.184317          True   \n",
       "8                      NaN   9.968644  1.939438   19.333564          True   \n",
       "9                 5.487340  11.082174  2.748049   30.454353          True   \n",
       "10                1.993528  18.568182  5.561066  103.258880          True   \n",
       "11                1.094387  17.518625  2.783393   48.761209          True   \n",
       "12                     NaN  17.489478  4.166612   72.871874          True   \n",
       "13                1.355289  26.270987  6.333617  166.390378          True   \n",
       "14                1.337188  10.986486  1.120514   12.310510          True   \n",
       "15                1.971631  24.194245  4.304916  104.154179          True   \n",
       "16                2.705671  15.958084  4.839881   77.235232          True   \n",
       "17                0.985205  23.957597  5.382234  128.945391          True   \n",
       "18                4.545455  16.958242  6.567926  111.380485          True   \n",
       "19                4.575581  18.182973  3.587365   65.228967          True   \n",
       "20                2.810903  13.503030  2.322285   31.357882          True   \n",
       "21                2.401460  21.583587  3.100467   66.919202          True   \n",
       "22                1.252013   9.079100  1.121170   10.179216          True   \n",
       "23               10.743322  15.502703  3.032995   47.019619          True   \n",
       "24                3.390390  18.991143  3.284920   62.384380          True   \n",
       "25                     NaN  16.622951  2.121420   35.264254          True   \n",
       "26                     NaN  48.312500  1.673885   80.869559          True   \n",
       "27                3.851133  12.705882  1.938163   24.626076          True   \n",
       "28                4.176471  18.549296  3.251651   60.315839          True   \n",
       "29                2.468203   9.048309  1.084728    9.814955          True   \n",
       "\n",
       "   financial_condition_criteria earnings_stability_criteria  \\\n",
       "0                          True                        True   \n",
       "1                          True                       False   \n",
       "2                         False                        True   \n",
       "3                         False                        True   \n",
       "4                          True                       False   \n",
       "5                         False                        True   \n",
       "6                         False                       False   \n",
       "7                         False                        True   \n",
       "8                          True                        True   \n",
       "9                         False                        True   \n",
       "10                        False                        True   \n",
       "11                         True                        True   \n",
       "12                        False                        True   \n",
       "13                        False                        True   \n",
       "14                         True                        True   \n",
       "15                        False                        True   \n",
       "16                        False                        True   \n",
       "17                        False                        True   \n",
       "18                        False                        True   \n",
       "19                         True                        True   \n",
       "20                         True                        True   \n",
       "21                        False                        True   \n",
       "22                         True                       False   \n",
       "23                        False                       False   \n",
       "24                        False                        True   \n",
       "25                        False                        True   \n",
       "26                        False                       False   \n",
       "27                        False                        True   \n",
       "28                        False                        True   \n",
       "29                        False                       False   \n",
       "\n",
       "   dividend_record_criteria earnings_growth_criteria pe_criteria pb_criteria  \\\n",
       "0                      True                     True        True       False   \n",
       "1                     False                    False       False       False   \n",
       "2                      True                    False       False       False   \n",
       "3                      True                     True        True       False   \n",
       "4                     False                     True       False       False   \n",
       "5                      True                     True        True       False   \n",
       "6                      True                     True        True        True   \n",
       "7                      True                     True        True       False   \n",
       "8                      True                    False        True        True   \n",
       "9                      True                     True        True       False   \n",
       "10                     True                     True       False       False   \n",
       "11                     True                    False       False       False   \n",
       "12                     True                    False       False       False   \n",
       "13                     True                     True       False       False   \n",
       "14                     True                     True        True        True   \n",
       "15                     True                     True       False       False   \n",
       "16                     True                     True       False       False   \n",
       "17                     True                    False       False       False   \n",
       "18                    False                     True       False       False   \n",
       "19                     True                     True       False       False   \n",
       "20                     True                     True        True       False   \n",
       "21                     True                     True       False       False   \n",
       "22                     True                    False        True        True   \n",
       "23                    False                     True       False       False   \n",
       "24                     True                     True       False       False   \n",
       "25                     True                    False       False       False   \n",
       "26                    False                    False       False       False   \n",
       "27                     True                     True        True       False   \n",
       "28                     True                     True       False       False   \n",
       "29                    False                     True        True        True   \n",
       "\n",
       "   first_five_criteria full_criteria  \n",
       "0                 True         False  \n",
       "1                False         False  \n",
       "2                False         False  \n",
       "3                False         False  \n",
       "4                False         False  \n",
       "5                False         False  \n",
       "6                False         False  \n",
       "7                False         False  \n",
       "8                False         False  \n",
       "9                False         False  \n",
       "10               False         False  \n",
       "11               False         False  \n",
       "12               False         False  \n",
       "13               False         False  \n",
       "14                True          True  \n",
       "15               False         False  \n",
       "16               False         False  \n",
       "17               False         False  \n",
       "18               False         False  \n",
       "19                True         False  \n",
       "20                True         False  \n",
       "21               False         False  \n",
       "22               False         False  \n",
       "23               False         False  \n",
       "24               False         False  \n",
       "25               False         False  \n",
       "26               False         False  \n",
       "27               False         False  \n",
       "28               False         False  \n",
       "29               False         False  "
      ]
     },
     "execution_count": 3,
     "metadata": {},
     "output_type": "execute_result"
    }
   ],
   "source": [
    "df_djia = criteria_defensive_investor(get_djia_symbols(), relax_current_ratio=True, dt=datetime(2008, 12, 31))\n",
    "df_djia"
   ]
  },
  {
   "cell_type": "code",
   "execution_count": 4,
   "metadata": {},
   "outputs": [
    {
     "name": "stdout",
     "output_type": "stream",
     "text": [
      "  30 companies passing size criteria of minimum $2 billion revenues\n",
      "   9 companies passing financial condition criteria of minimum 2 current ratio\n",
      "  23 companies passing earnings stability criteria of positive earnings in past 10 years\n",
      "  24 companies passing dividend record criteria of uninterrupted payments in past 20 years\n",
      "  21 companies passing earnings growth criteria of minimum 33% growth in past 10 years\n",
      "  12 companies passing moderate PE ratio criteria of maximum 15\n",
      "   5 companies passing moderate PB ratio criteria of maximum 1.5, or PE * PB of maximum 22.5\n",
      "   4 companies passing all except moderate PE and PB ratio criteria\n",
      "   1 companies passing all criteria\n",
      "\n",
      "Companies passing first 5 criteria: ['AXP', 'JPM', 'NKE', 'PFE']\n",
      "Companies passing all criteria: ['JPM']\n"
     ]
    }
   ],
   "source": [
    "df_djia = analysis(df_djia)\n",
    "\n",
    "print('\\nCompanies passing first 5 criteria: ' + str(df_djia[(df_djia['first_five_criteria'] == True)]['ticker'].tolist()))\n",
    "print('Companies passing all criteria: '+ str(df_djia[(df_djia['full_criteria'] == True)]['ticker'].tolist()))"
   ]
  },
  {
   "cell_type": "code",
   "execution_count": 5,
   "metadata": {},
   "outputs": [
    {
     "data": {
      "text/html": [
       "<div>\n",
       "<style scoped>\n",
       "    .dataframe tbody tr th:only-of-type {\n",
       "        vertical-align: middle;\n",
       "    }\n",
       "\n",
       "    .dataframe tbody tr th {\n",
       "        vertical-align: top;\n",
       "    }\n",
       "\n",
       "    .dataframe thead th {\n",
       "        text-align: right;\n",
       "    }\n",
       "</style>\n",
       "<table border=\"1\" class=\"dataframe\">\n",
       "  <thead>\n",
       "    <tr style=\"text-align: right;\">\n",
       "      <th></th>\n",
       "      <th>ticker</th>\n",
       "      <th>current_ratio</th>\n",
       "      <th>positive_eps_p10yrs_count</th>\n",
       "      <th>dividend_distribution_p20yrs_count</th>\n",
       "      <th>earnings_change_p10yrs</th>\n",
       "      <th>pe</th>\n",
       "      <th>pb</th>\n",
       "      <th>pexpb</th>\n",
       "      <th>count_successful_criteria</th>\n",
       "      <th>count_successful_criteria_except_pepb</th>\n",
       "    </tr>\n",
       "  </thead>\n",
       "  <tbody>\n",
       "    <tr>\n",
       "      <th>14</th>\n",
       "      <td>JPM</td>\n",
       "      <td>NaN</td>\n",
       "      <td>10</td>\n",
       "      <td>11</td>\n",
       "      <td>1.337188</td>\n",
       "      <td>10.986486</td>\n",
       "      <td>1.120514</td>\n",
       "      <td>12.310510</td>\n",
       "      <td>7</td>\n",
       "      <td>5</td>\n",
       "    </tr>\n",
       "    <tr>\n",
       "      <th>0</th>\n",
       "      <td>AXP</td>\n",
       "      <td>NaN</td>\n",
       "      <td>10</td>\n",
       "      <td>15</td>\n",
       "      <td>2.524555</td>\n",
       "      <td>14.012618</td>\n",
       "      <td>4.724527</td>\n",
       "      <td>66.202989</td>\n",
       "      <td>6</td>\n",
       "      <td>5</td>\n",
       "    </tr>\n",
       "    <tr>\n",
       "      <th>20</th>\n",
       "      <td>PFE</td>\n",
       "      <td>2.146</td>\n",
       "      <td>10</td>\n",
       "      <td>11</td>\n",
       "      <td>2.810903</td>\n",
       "      <td>13.503030</td>\n",
       "      <td>2.322285</td>\n",
       "      <td>31.357882</td>\n",
       "      <td>6</td>\n",
       "      <td>5</td>\n",
       "    </tr>\n",
       "    <tr>\n",
       "      <th>19</th>\n",
       "      <td>NKE</td>\n",
       "      <td>2.661</td>\n",
       "      <td>10</td>\n",
       "      <td>11</td>\n",
       "      <td>4.575581</td>\n",
       "      <td>18.182973</td>\n",
       "      <td>3.587365</td>\n",
       "      <td>65.228967</td>\n",
       "      <td>5</td>\n",
       "      <td>5</td>\n",
       "    </tr>\n",
       "  </tbody>\n",
       "</table>\n",
       "</div>"
      ],
      "text/plain": [
       "   ticker  current_ratio positive_eps_p10yrs_count  \\\n",
       "14    JPM            NaN                        10   \n",
       "0     AXP            NaN                        10   \n",
       "20    PFE          2.146                        10   \n",
       "19    NKE          2.661                        10   \n",
       "\n",
       "   dividend_distribution_p20yrs_count  earnings_change_p10yrs         pe  \\\n",
       "14                                 11                1.337188  10.986486   \n",
       "0                                  15                2.524555  14.012618   \n",
       "20                                 11                2.810903  13.503030   \n",
       "19                                 11                4.575581  18.182973   \n",
       "\n",
       "          pb      pexpb  count_successful_criteria  \\\n",
       "14  1.120514  12.310510                          7   \n",
       "0   4.724527  66.202989                          6   \n",
       "20  2.322285  31.357882                          6   \n",
       "19  3.587365  65.228967                          5   \n",
       "\n",
       "    count_successful_criteria_except_pepb  \n",
       "14                                      5  \n",
       "0                                       5  \n",
       "20                                      5  \n",
       "19                                      5  "
      ]
     },
     "execution_count": 5,
     "metadata": {},
     "output_type": "execute_result"
    }
   ],
   "source": [
    "summary_columns = ['ticker', 'current_ratio', \n",
    "                       'positive_eps_p10yrs_count', 'dividend_distribution_p20yrs_count', \n",
    "                       'earnings_change_p10yrs', 'pe', 'pb', 'pexpb', 'count_successful_criteria', \n",
    "                   'count_successful_criteria_except_pepb']\n",
    "\n",
    "df_djia[df_djia['count_successful_criteria_except_pepb'] == 5].sort_values(['count_successful_criteria_except_pepb', 'count_successful_criteria'], \n",
    "                    ascending=False)[summary_columns]\n",
    "#[['ticker', 'count_successful_criteria']]"
   ]
  },
  {
   "cell_type": "markdown",
   "metadata": {},
   "source": [
    "## Return list of DJIA companies passing criteria over time"
   ]
  },
  {
   "cell_type": "code",
   "execution_count": 6,
   "metadata": {},
   "outputs": [
    {
     "name": "stdout",
     "output_type": "stream",
     "text": [
      "2008-12-31 companies: ['NKE', 'PFE']\n",
      "2009-12-31 companies: ['NKE']\n",
      "2010-12-31 companies: ['MMM', 'NKE']\n",
      "2011-12-31 companies: ['MMM', 'NKE', 'PFE']\n",
      "2012-12-31 companies: ['INTC', 'JNJ', 'MMM', 'NKE']\n",
      "2013-12-31 companies: ['DWDP', 'INTC', 'MMM', 'NKE']\n",
      "2014-12-31 companies: ['DWDP', 'INTC', 'JNJ', 'NKE', 'PFE', 'VZ']\n",
      "2015-12-31 companies: ['DWDP', 'JNJ', 'NKE', 'PFE']\n",
      "2016-12-31 companies: ['DWDP', 'INTC', 'JNJ', 'MCD', 'NKE']\n",
      "2017-12-31 companies: ['JNJ', 'NKE']\n",
      "2018-12-31 companies: ['NKE']\n"
     ]
    }
   ],
   "source": [
    "dr = pd.date_range('2008-01-01', '2019-01-01', freq='Y')\n",
    "\n",
    "list_djia = get_djia_symbols()\n",
    "fname = os.path.join(os.getcwd(), 'data_defensive', 'sf1.csv')\n",
    "df_all = pd.read_csv(fname, parse_dates=['calendardate', 'datekey'])\n",
    "\n",
    "for date in dr:\n",
    "    ls = criteria_defensive_investor_list(list_djia, all_data=df_all, relax_current_ratio=False, \n",
    "                                          dt=date, show_progress=False)\n",
    "    print(f\"{date:%Y-%m-%d} companies: {ls}\")"
   ]
  },
  {
   "cell_type": "markdown",
   "metadata": {},
   "source": [
    "## Return list of S&P 500 companies passing criteria over time (and save in a Dictionary)"
   ]
  },
  {
   "cell_type": "code",
   "execution_count": 11,
   "metadata": {},
   "outputs": [
    {
     "name": "stdout",
     "output_type": "stream",
     "text": [
      "2008-12-31 companies: ['ALB', 'BDX', 'CTAS', 'XRAY', 'BEN', 'GWW', 'HRS', 'HP', 'ITW', 'LB', 'MDT', 'NKE', 'NUE', 'PFE', 'SYK', 'TIF']\n",
      "2009-12-31 companies: ['ALB', 'BDX', 'CTAS', 'CAG', 'XRAY', 'EXPD', 'FAST', 'BEN', 'GWW', 'HOG', 'HRL', 'IFF', 'MDT', 'NKE', 'NUE', 'PNR', 'ROK', 'SNA', 'SYK', 'TIF']\n",
      "2010-12-31 companies: ['MMM', 'ALB', 'BDX', 'BMY', 'CTAS', 'XRAY', 'EXPD', 'BEN', 'GWW', 'ITW', 'IFF', 'NKE', 'PNR', 'ROK', 'SNA', 'SYK', 'TIF']\n",
      "2011-12-31 companies: ['MMM', 'ALB', 'ADM', 'BDX', 'CTAS', 'XRAY', 'EXPD', 'FAST', 'BEN', 'GWW', 'HP', 'HRL', 'IFF', 'NKE', 'PFE', 'SNA', 'SYK', 'TIF']\n",
      "2012-12-31 companies: ['MMM', 'ALB', 'BDX', 'CTAS', 'EXPD', 'FAST', 'GPS', 'HP', 'HRL', 'ITW', 'INTC', 'IFF', 'JNJ', 'NKE', 'JWN', 'ROK', 'ROP', 'SNA', 'SYK', 'TIF']\n",
      "2013-12-31 companies: ['MMM', 'ABT', 'ALB', 'BDX', 'CTAS', 'DWDP', 'EL', 'EXPD', 'FAST', 'GWW', 'HP', 'HFC', 'HRL', 'ITW', 'INTC', 'IFF', 'MAT', 'MDT', 'MCO', 'NKE', 'JWN', 'PCAR', 'ROK', 'SNA', 'SYK', 'TXN', 'TIF']\n",
      "2014-12-31 companies: ['ABT', 'ALB', 'AOS', 'BDX', 'CTAS', 'CMI', 'DHR', 'DOV', 'DWDP', 'EL', 'EXPD', 'FAST', 'GWW', 'HP', 'HFC', 'HRL', 'INTC', 'IFF', 'JNJ', 'MAT', 'MDT', 'MCO', 'NKE', 'JWN', 'PFE', 'ROK', 'ROP', 'SNA', 'SYK', 'TXN', 'TIF', 'TSS', 'VFC', 'VZ']\n",
      "2015-12-31 companies: ['ALB', 'AOS', 'CTAS', 'CMI', 'DWDP', 'EL', 'EXPD', 'FAST', 'GWW', 'HAS', 'HP', 'HFC', 'ITW', 'IFF', 'SJM', 'JNJ', 'MAT', 'MDT', 'MCO', 'NKE', 'PH', 'PFE', 'PVH', 'ROK', 'ROP', 'SNA', 'SYK', 'TXN', 'TIF', 'TSS', 'VFC']\n",
      "2016-12-31 companies: ['AOS', 'BAX', 'CMI', 'XRAY', 'DWDP', 'EXPD', 'FAST', 'HAS', 'ITW', 'INTC', 'JNJ', 'LB', 'MCD', 'MDT', 'MCO', 'NKE', 'PCAR', 'PH', 'ROK', 'ROP', 'SNA', 'SYK', 'TXN', 'TIF', 'TSS', 'VFC']\n",
      "2017-12-31 companies: ['APD', 'ALB', 'AME', 'AOS', 'BAX', 'BDX', 'XRAY', 'EXPD', 'FAST', 'ITW', 'JNJ', 'NKE', 'SYK', 'TXN', 'TIF', 'TSS', 'VFC']\n",
      "2018-12-31 companies: ['APD', 'ALB', 'AOS', 'BAX', 'CTAS', 'COO', 'EXPD', 'FAST', 'GWW', 'HAS', 'ITW', 'IFF', 'MLM', 'NKE', 'SYK', 'TXN', 'TIF']\n"
     ]
    }
   ],
   "source": [
    "from collections import defaultdict\n",
    "\n",
    "dic = defaultdict(list)\n",
    "dr = pd.date_range('2008-01-01', '2019-01-01', freq='Y')\n",
    "list_sp500 = get_sp500_symbols()\n",
    "\n",
    "fname = os.path.join(os.getcwd(), 'data_defensive', 'sf1.csv')\n",
    "df_all = pd.read_csv(fname, parse_dates=['calendardate', 'datekey'])\n",
    "\n",
    "for date in dr:\n",
    "    list_passing_companies = criteria_defensive_investor_list(list_sp500, all_data=df_all, \n",
    "                                                              relax_current_ratio=False, \n",
    "                                                              dt=date, show_progress=False)\n",
    "    print(f\"{date:%Y-%m-%d} companies: {list_passing_companies}\")\n",
    "    dic[date] = list_passing_companies"
   ]
  },
  {
   "cell_type": "code",
   "execution_count": 12,
   "metadata": {},
   "outputs": [
    {
     "data": {
      "text/plain": [
       "['APD',\n",
       " 'ALB',\n",
       " 'AOS',\n",
       " 'BAX',\n",
       " 'CTAS',\n",
       " 'COO',\n",
       " 'EXPD',\n",
       " 'FAST',\n",
       " 'GWW',\n",
       " 'HAS',\n",
       " 'ITW',\n",
       " 'IFF',\n",
       " 'MLM',\n",
       " 'NKE',\n",
       " 'SYK',\n",
       " 'TXN',\n",
       " 'TIF']"
      ]
     },
     "execution_count": 12,
     "metadata": {},
     "output_type": "execute_result"
    }
   ],
   "source": [
    "dic[datetime(2018, 12, 31)]"
   ]
  },
  {
   "cell_type": "markdown",
   "metadata": {},
   "source": [
    "## Return list of ALL companies passing criteria over time (and save in a Dictionary)"
   ]
  },
  {
   "cell_type": "code",
   "execution_count": 13,
   "metadata": {},
   "outputs": [
    {
     "data": {
      "application/vnd.jupyter.widget-view+json": {
       "model_id": "07b0282acfea4790bed8465e44beadd5",
       "version_major": 2,
       "version_minor": 0
      },
      "text/plain": [
       "HBox(children=(IntProgress(value=0, max=14131), HTML(value='')))"
      ]
     },
     "metadata": {},
     "output_type": "display_data"
    },
    {
     "name": "stdout",
     "output_type": "stream",
     "text": [
      "\n",
      "2008-12-31 companies: ['ABI1', 'AIT', 'ALB', 'ASH', 'BDX', 'BEN', 'BMS', 'CSL', 'CTAS', 'ESV', 'GWW', 'HP', 'HRS', 'ITW', 'LB', 'LECO', 'MDT', 'NKE', 'NUE', 'PFE', 'PLL1', 'RS', 'SCCO', 'SCHN', 'SEB', 'SYK', 'THO', 'TIF', 'UFPI', 'XRAY']\n"
     ]
    },
    {
     "data": {
      "application/vnd.jupyter.widget-view+json": {
       "model_id": "27718623e253458992fec7e89de418d6",
       "version_major": 2,
       "version_minor": 0
      },
      "text/plain": [
       "HBox(children=(IntProgress(value=0, max=14131), HTML(value='')))"
      ]
     },
     "metadata": {},
     "output_type": "display_data"
    },
    {
     "name": "stdout",
     "output_type": "stream",
     "text": [
      "\n",
      "2009-12-31 companies: ['ABI1', 'ALB', 'ATR', 'BCR', 'BDX', 'BEN', 'BMS', 'CAG', 'CMC', 'CSL', 'CTAS', 'ESV', 'EXPD', 'FAST', 'GWW', 'HOG', 'HRL', 'HUBB', 'IFF', 'LECO', 'MDT', 'NKE', 'NUE', 'PLL1', 'PNR', 'ROK', 'RS', 'SCCO', 'SEB', 'SKYW', 'SNA', 'SYK', 'TIF', 'UFPI', 'XRAY']\n"
     ]
    },
    {
     "data": {
      "application/vnd.jupyter.widget-view+json": {
       "model_id": "f3ae4bcb50164bed81e541033c8fdf54",
       "version_major": 2,
       "version_minor": 0
      },
      "text/plain": [
       "HBox(children=(IntProgress(value=0, max=14131), HTML(value='')))"
      ]
     },
     "metadata": {},
     "output_type": "display_data"
    },
    {
     "name": "stdout",
     "output_type": "stream",
     "text": [
      "\n",
      "2010-12-31 companies: ['ABI1', 'ALB', 'BCR', 'BDX', 'BEN', 'BF.B', 'BMS', 'BMY', 'CAJ', 'CSL', 'CTAS', 'EXPD', 'GR', 'GWW', 'HUBB', 'IFF', 'ITW', 'MMM', 'NKE', 'PLL1', 'PNR', 'ROK', 'RS', 'SCCO', 'SEB', 'SKYW', 'SNA', 'SYK', 'THO', 'TIF', 'WSO', 'XRAY']\n"
     ]
    },
    {
     "data": {
      "application/vnd.jupyter.widget-view+json": {
       "model_id": "671ff8103e324499b83732a710d37e19",
       "version_major": 2,
       "version_minor": 0
      },
      "text/plain": [
       "HBox(children=(IntProgress(value=0, max=14131), HTML(value='')))"
      ]
     },
     "metadata": {},
     "output_type": "display_data"
    },
    {
     "name": "stdout",
     "output_type": "stream",
     "text": [
      "\n",
      "2011-12-31 companies: ['ABI1', 'ADM', 'AIT', 'ALB', 'ATR', 'BCR', 'BDX', 'BEAM', 'BEC', 'BEN', 'BF.B', 'BMS', 'CAJ', 'CTAS', 'DCI', 'EXPD', 'FAST', 'GR', 'GWW', 'HP', 'HRL', 'HUBB', 'IFF', 'LECO', 'MMM', 'NKE', 'OMI', 'PFE', 'PLL1', 'RBC', 'RS', 'SCCO', 'SEB', 'SKYW', 'SNA', 'SYK', 'THO', 'TIF', 'UVV', 'WSO', 'XRAY']\n"
     ]
    },
    {
     "data": {
      "application/vnd.jupyter.widget-view+json": {
       "model_id": "80df5eb18b4d4dfaa17f01e573ecbdce",
       "version_major": 2,
       "version_minor": 0
      },
      "text/plain": [
       "HBox(children=(IntProgress(value=0, max=14131), HTML(value='')))"
      ]
     },
     "metadata": {},
     "output_type": "display_data"
    },
    {
     "name": "stdout",
     "output_type": "stream",
     "text": [
      "\n",
      "2012-12-31 companies: ['ABI1', 'AIT', 'ALB', 'ATR', 'BDX', 'BEAM', 'BEC', 'BF.B', 'BHI', 'BMS', 'CAJ', 'CTAS', 'CW', 'DCI', 'EXPD', 'FAST', 'GPS', 'GR', 'HP', 'HRL', 'HUBB', 'IFF', 'INTC', 'ITW', 'JNJ', 'JWN', 'LECO', 'MMM', 'NKE', 'OMI', 'PLL1', 'RBC', 'ROK', 'ROP', 'RS', 'RSH', 'SCCO', 'SIAL', 'SNA', 'SYK', 'THO', 'TIF', 'VMI', 'WMK', 'WSO']\n"
     ]
    },
    {
     "data": {
      "application/vnd.jupyter.widget-view+json": {
       "model_id": "441ba019bace4bfbaccdbcffc77c8d4f",
       "version_major": 2,
       "version_minor": 0
      },
      "text/plain": [
       "HBox(children=(IntProgress(value=0, max=14131), HTML(value='')))"
      ]
     },
     "metadata": {},
     "output_type": "display_data"
    },
    {
     "name": "stdout",
     "output_type": "stream",
     "text": [
      "\n",
      "2013-12-31 companies: ['ABI1', 'ABT', 'AIT', 'ALB', 'ATR', 'BCR', 'BDX', 'BEAM', 'BEC', 'BF.B', 'BHI', 'CAJ', 'CCJ', 'CSL', 'CTAS', 'DCI', 'DWDP', 'EL', 'EXPD', 'FAST', 'GG', 'GR', 'GWW', 'HFC', 'HP', 'HRL', 'HUBB', 'IFF', 'INTC', 'ITW', 'JWN', 'LECO', 'MAT', 'MCO', 'MDT', 'MMM', 'NKE', 'PCAR', 'PLL1', 'RBC', 'ROK', 'RS', 'SCCO', 'SIAL', 'SNA', 'SYK', 'THO', 'TIF', 'TXN', 'VMI', 'WMK', 'WSO']\n"
     ]
    },
    {
     "data": {
      "application/vnd.jupyter.widget-view+json": {
       "model_id": "22a52bd5146744d5bb314eee9a444f8a",
       "version_major": 2,
       "version_minor": 0
      },
      "text/plain": [
       "HBox(children=(IntProgress(value=0, max=14131), HTML(value='')))"
      ]
     },
     "metadata": {},
     "output_type": "display_data"
    },
    {
     "name": "stdout",
     "output_type": "stream",
     "text": [
      "\n",
      "2014-12-31 companies: ['ABI1', 'ABT', 'AIT', 'ALB', 'AOS', 'ASH', 'ATR', 'BCR', 'BDX', 'BEC', 'BF.B', 'BHI', 'CCJ', 'CMI', 'CSL', 'CTAS', 'CW', 'DCI', 'DCMYY', 'DHR', 'DOV', 'DWDP', 'EL', 'EXPD', 'FAST', 'FUL', 'GGB', 'GR', 'GWW', 'HFC', 'HP', 'HRL', 'HUBB', 'IEX', 'IFF', 'INTC', 'JNJ', 'JWN', 'LECO', 'MAT', 'MCO', 'MDT', 'NJDCY', 'NKE', 'PFE', 'RBC', 'ROK', 'ROP', 'RS', 'SCCO', 'SIAL', 'SNA', 'SYK', 'THO', 'TIF', 'TSS', 'TTC', 'TXN', 'VFC', 'VMI', 'VZ', 'WAB', 'WERN', 'WMK', 'WSO', 'WWD', 'WWW']\n"
     ]
    },
    {
     "data": {
      "application/vnd.jupyter.widget-view+json": {
       "model_id": "d6136047da6245f0b93077a99eaa9882",
       "version_major": 2,
       "version_minor": 0
      },
      "text/plain": [
       "HBox(children=(IntProgress(value=0, max=14131), HTML(value='')))"
      ]
     },
     "metadata": {},
     "output_type": "display_data"
    },
    {
     "name": "stdout",
     "output_type": "stream",
     "text": [
      "\n",
      "2015-12-31 companies: ['ABI1', 'AIT', 'ALB', 'AOS', 'ATR', 'BCR', 'BEC', 'BF.B', 'BHI', 'CMI', 'CRS', 'CSL', 'CTAS', 'CW', 'DWDP', 'EL', 'ERJ', 'EXPD', 'FAST', 'FUL', 'GGB', 'GR', 'GWW', 'HAS', 'HFC', 'HP', 'HUBB', 'IEX', 'IFF', 'ITW', 'JNJ', 'LECO', 'MAT', 'MCO', 'MDT', 'MON', 'NJDCY', 'NKE', 'PCP', 'PFE', 'PH', 'PVH', 'RBC', 'ROK', 'ROP', 'RS', 'SCCO', 'SIAL', 'SJM', 'SNA', 'SYK', 'THO', 'TIF', 'TSS', 'TXN', 'VFC', 'VMI', 'WAB', 'WERN', 'WSO', 'WWD', 'WWW']\n"
     ]
    },
    {
     "data": {
      "application/vnd.jupyter.widget-view+json": {
       "model_id": "68fc6aed2b7442769df6ed01d22aa74f",
       "version_major": 2,
       "version_minor": 0
      },
      "text/plain": [
       "HBox(children=(IntProgress(value=0, max=14131), HTML(value='')))"
      ]
     },
     "metadata": {},
     "output_type": "display_data"
    },
    {
     "name": "stdout",
     "output_type": "stream",
     "text": [
      "\n",
      "2016-12-31 companies: ['ABI1', 'AIT', 'AOS', 'BAX', 'BEC', 'BF.B', 'CMI', 'CSL', 'CW', 'DWDP', 'EXPD', 'FAST', 'FUL', 'GR', 'HAS', 'HUBB', 'IEX', 'INTC', 'ITW', 'JNJ', 'LB', 'LECO', 'MCD', 'MCO', 'MDT', 'NKE', 'PCAR', 'PCP', 'PH', 'RBC', 'ROK', 'ROP', 'RPM', 'RS', 'SCCO', 'SIAL', 'SNA', 'SYK', 'TIF', 'TSS', 'TXN', 'UGP', 'UVV', 'VFC', 'VMI', 'WAB', 'WSO', 'WWW', 'XRAY']\n"
     ]
    },
    {
     "data": {
      "application/vnd.jupyter.widget-view+json": {
       "model_id": "b9d02a1beb7c40a69f2d3c230a695e07",
       "version_major": 2,
       "version_minor": 0
      },
      "text/plain": [
       "HBox(children=(IntProgress(value=0, max=14131), HTML(value='')))"
      ]
     },
     "metadata": {},
     "output_type": "display_data"
    },
    {
     "name": "stdout",
     "output_type": "stream",
     "text": [
      "\n",
      "2017-12-31 companies: ['ABI1', 'AIT', 'ALB', 'AME', 'AOS', 'APD', 'BAX', 'BCR', 'BDX', 'BEC', 'BF.B', 'BMS', 'CSL', 'CW', 'DCI', 'EXPD', 'FAST', 'GR', 'HUBB', 'IEX', 'ITW', 'JNJ', 'LECO', 'LNCE', 'NKE', 'PCP', 'SIAL', 'SYK', 'TIF', 'TSS', 'TXN', 'UGP', 'UVV', 'VFC', 'VMI', 'WSO', 'WWD', 'WWW', 'XRAY']\n"
     ]
    },
    {
     "data": {
      "application/vnd.jupyter.widget-view+json": {
       "model_id": "ee6c75c7966940668f0666325f4b9e0a",
       "version_major": 2,
       "version_minor": 0
      },
      "text/plain": [
       "HBox(children=(IntProgress(value=0, max=14131), HTML(value='')))"
      ]
     },
     "metadata": {},
     "output_type": "display_data"
    },
    {
     "name": "stdout",
     "output_type": "stream",
     "text": [
      "\n",
      "2018-12-31 companies: ['ABI1', 'AIT', 'ALB', 'AOS', 'APD', 'ATR', 'BAX', 'BCR', 'BEC', 'BF.B', 'COO', 'CSL', 'CTAS', 'CW', 'DCI', 'EXPD', 'FAST', 'GR', 'GWW', 'HAS', 'HUBB', 'IEX', 'IFF', 'INGR', 'ITW', 'LECO', 'MLM', 'NKE', 'PCP', 'RPM', 'SIAL', 'SNN', 'SYK', 'TIF', 'TXN', 'UFPI', 'UGP', 'UVV', 'VMI', 'WSO']\n"
     ]
    }
   ],
   "source": [
    "dr = pd.date_range('2008-01-01', '2019-01-01', freq='Y')\n",
    "list_all = get_sf1_symbols()\n",
    "dic2 = defaultdict(list)\n",
    "\n",
    "fname = os.path.join(os.getcwd(), 'data_defensive', 'sf1.csv')\n",
    "df_all = pd.read_csv(fname, parse_dates=['calendardate', 'datekey'])\n",
    "\n",
    "for date in dr:\n",
    "    list_passing_companies = criteria_defensive_investor_list(list_all, all_data=df_all, \n",
    "                                                              relax_current_ratio=False, \n",
    "                                                              dt=date, show_progress=True)\n",
    "    print(f\"{date:%Y-%m-%d} companies: {list_passing_companies}\")\n",
    "    dic2[date] = list_passing_companies"
   ]
  },
  {
   "cell_type": "code",
   "execution_count": 14,
   "metadata": {},
   "outputs": [
    {
     "name": "stdout",
     "output_type": "stream",
     "text": [
      "2008-12-31: 30 companies pass criteria\n",
      "2009-12-31: 35 companies pass criteria\n",
      "2010-12-31: 32 companies pass criteria\n",
      "2011-12-31: 41 companies pass criteria\n",
      "2012-12-31: 45 companies pass criteria\n",
      "2013-12-31: 52 companies pass criteria\n",
      "2014-12-31: 67 companies pass criteria\n",
      "2015-12-31: 62 companies pass criteria\n",
      "2016-12-31: 49 companies pass criteria\n",
      "2017-12-31: 39 companies pass criteria\n",
      "2018-12-31: 40 companies pass criteria\n"
     ]
    }
   ],
   "source": [
    "for key, value in dic2.items():\n",
    "    print(f'{key:%Y-%m-%d}: {len(value)} companies pass criteria')"
   ]
  },
  {
   "cell_type": "code",
   "execution_count": 15,
   "metadata": {},
   "outputs": [
    {
     "data": {
      "application/vnd.jupyter.widget-view+json": {
       "model_id": "f6fc4626cdf3478fa76813d859e3e834",
       "version_major": 2,
       "version_minor": 0
      },
      "text/plain": [
       "HBox(children=(IntProgress(value=0, max=14131), HTML(value='')))"
      ]
     },
     "metadata": {},
     "output_type": "display_data"
    },
    {
     "name": "stdout",
     "output_type": "stream",
     "text": [
      "\n",
      "2008-12-31: 30 companies pass criteria\n"
     ]
    },
    {
     "data": {
      "application/vnd.jupyter.widget-view+json": {
       "model_id": "e33f454cc76c47c795fdf57aa2f2ba8f",
       "version_major": 2,
       "version_minor": 0
      },
      "text/plain": [
       "HBox(children=(IntProgress(value=0, max=14131), HTML(value='')))"
      ]
     },
     "metadata": {},
     "output_type": "display_data"
    },
    {
     "name": "stdout",
     "output_type": "stream",
     "text": [
      "\n",
      "2009-01-31: 30 companies pass criteria\n"
     ]
    },
    {
     "data": {
      "application/vnd.jupyter.widget-view+json": {
       "model_id": "3206fa8426834699a6a521b94b68f9ad",
       "version_major": 2,
       "version_minor": 0
      },
      "text/plain": [
       "HBox(children=(IntProgress(value=0, max=14131), HTML(value='')))"
      ]
     },
     "metadata": {},
     "output_type": "display_data"
    },
    {
     "name": "stdout",
     "output_type": "stream",
     "text": [
      "\n",
      "2009-02-28: 38 companies pass criteria\n"
     ]
    },
    {
     "data": {
      "application/vnd.jupyter.widget-view+json": {
       "model_id": "8d00cf07bf654a2e85f376df84696d31",
       "version_major": 2,
       "version_minor": 0
      },
      "text/plain": [
       "HBox(children=(IntProgress(value=0, max=14131), HTML(value='')))"
      ]
     },
     "metadata": {},
     "output_type": "display_data"
    },
    {
     "name": "stdout",
     "output_type": "stream",
     "text": [
      "\n",
      "2009-03-31: 37 companies pass criteria\n"
     ]
    },
    {
     "data": {
      "application/vnd.jupyter.widget-view+json": {
       "model_id": "09f4f028103a4cb1802a7e7cfced33c1",
       "version_major": 2,
       "version_minor": 0
      },
      "text/plain": [
       "HBox(children=(IntProgress(value=0, max=14131), HTML(value='')))"
      ]
     },
     "metadata": {},
     "output_type": "display_data"
    },
    {
     "name": "stdout",
     "output_type": "stream",
     "text": [
      "\n",
      "2009-04-30: 37 companies pass criteria\n"
     ]
    },
    {
     "data": {
      "application/vnd.jupyter.widget-view+json": {
       "model_id": "1d45111378e24258912f9af9fcd29a7f",
       "version_major": 2,
       "version_minor": 0
      },
      "text/plain": [
       "HBox(children=(IntProgress(value=0, max=14131), HTML(value='')))"
      ]
     },
     "metadata": {},
     "output_type": "display_data"
    },
    {
     "name": "stdout",
     "output_type": "stream",
     "text": [
      "\n",
      "2009-05-31: 37 companies pass criteria\n"
     ]
    },
    {
     "data": {
      "application/vnd.jupyter.widget-view+json": {
       "model_id": "5b03bbc1153d45578fec14020796dd01",
       "version_major": 2,
       "version_minor": 0
      },
      "text/plain": [
       "HBox(children=(IntProgress(value=0, max=14131), HTML(value='')))"
      ]
     },
     "metadata": {},
     "output_type": "display_data"
    },
    {
     "name": "stdout",
     "output_type": "stream",
     "text": [
      "\n",
      "2009-06-30: 37 companies pass criteria\n"
     ]
    },
    {
     "data": {
      "application/vnd.jupyter.widget-view+json": {
       "model_id": "6d62076109374926831d2e1939034319",
       "version_major": 2,
       "version_minor": 0
      },
      "text/plain": [
       "HBox(children=(IntProgress(value=0, max=14131), HTML(value='')))"
      ]
     },
     "metadata": {},
     "output_type": "display_data"
    },
    {
     "name": "stdout",
     "output_type": "stream",
     "text": [
      "\n",
      "2009-07-31: 38 companies pass criteria\n"
     ]
    },
    {
     "data": {
      "application/vnd.jupyter.widget-view+json": {
       "model_id": "5b3032b052c24f5299839279f386497a",
       "version_major": 2,
       "version_minor": 0
      },
      "text/plain": [
       "HBox(children=(IntProgress(value=0, max=14131), HTML(value='')))"
      ]
     },
     "metadata": {},
     "output_type": "display_data"
    },
    {
     "name": "stdout",
     "output_type": "stream",
     "text": [
      "\n",
      "2009-08-31: 36 companies pass criteria\n"
     ]
    },
    {
     "data": {
      "application/vnd.jupyter.widget-view+json": {
       "model_id": "241414ff4c934f26be8053d717c845b3",
       "version_major": 2,
       "version_minor": 0
      },
      "text/plain": [
       "HBox(children=(IntProgress(value=0, max=14131), HTML(value='')))"
      ]
     },
     "metadata": {},
     "output_type": "display_data"
    },
    {
     "name": "stdout",
     "output_type": "stream",
     "text": [
      "\n",
      "2009-09-30: 35 companies pass criteria\n"
     ]
    },
    {
     "data": {
      "application/vnd.jupyter.widget-view+json": {
       "model_id": "c217164e72dc4d8c80798e0c34b899ff",
       "version_major": 2,
       "version_minor": 0
      },
      "text/plain": [
       "HBox(children=(IntProgress(value=0, max=14131), HTML(value='')))"
      ]
     },
     "metadata": {},
     "output_type": "display_data"
    },
    {
     "name": "stdout",
     "output_type": "stream",
     "text": [
      "\n",
      "2009-10-31: 35 companies pass criteria\n"
     ]
    },
    {
     "data": {
      "application/vnd.jupyter.widget-view+json": {
       "model_id": "a2410568b4624211b5306e3653b85d96",
       "version_major": 2,
       "version_minor": 0
      },
      "text/plain": [
       "HBox(children=(IntProgress(value=0, max=14131), HTML(value='')))"
      ]
     },
     "metadata": {},
     "output_type": "display_data"
    },
    {
     "name": "stdout",
     "output_type": "stream",
     "text": [
      "\n",
      "2009-11-30: 34 companies pass criteria\n"
     ]
    },
    {
     "data": {
      "application/vnd.jupyter.widget-view+json": {
       "model_id": "34cd96d1d98b432a98b47340b22cfec6",
       "version_major": 2,
       "version_minor": 0
      },
      "text/plain": [
       "HBox(children=(IntProgress(value=0, max=14131), HTML(value='')))"
      ]
     },
     "metadata": {},
     "output_type": "display_data"
    },
    {
     "name": "stdout",
     "output_type": "stream",
     "text": [
      "\n",
      "2009-12-31: 35 companies pass criteria\n"
     ]
    },
    {
     "data": {
      "application/vnd.jupyter.widget-view+json": {
       "model_id": "3a6df11d552d4590b0fb45709aabce5f",
       "version_major": 2,
       "version_minor": 0
      },
      "text/plain": [
       "HBox(children=(IntProgress(value=0, max=14131), HTML(value='')))"
      ]
     },
     "metadata": {},
     "output_type": "display_data"
    },
    {
     "name": "stdout",
     "output_type": "stream",
     "text": [
      "\n",
      "2010-01-31: 35 companies pass criteria\n"
     ]
    },
    {
     "data": {
      "application/vnd.jupyter.widget-view+json": {
       "model_id": "346a2b646eac4a3fbb1eb469be1bc530",
       "version_major": 2,
       "version_minor": 0
      },
      "text/plain": [
       "HBox(children=(IntProgress(value=0, max=14131), HTML(value='')))"
      ]
     },
     "metadata": {},
     "output_type": "display_data"
    },
    {
     "name": "stdout",
     "output_type": "stream",
     "text": [
      "\n",
      "2010-02-28: 33 companies pass criteria\n"
     ]
    },
    {
     "data": {
      "application/vnd.jupyter.widget-view+json": {
       "model_id": "11ecd990632d4de08cf6974594629365",
       "version_major": 2,
       "version_minor": 0
      },
      "text/plain": [
       "HBox(children=(IntProgress(value=0, max=14131), HTML(value='')))"
      ]
     },
     "metadata": {},
     "output_type": "display_data"
    },
    {
     "name": "stdout",
     "output_type": "stream",
     "text": [
      "\n",
      "2010-03-31: 34 companies pass criteria\n"
     ]
    },
    {
     "data": {
      "application/vnd.jupyter.widget-view+json": {
       "model_id": "2c48a86b07404bbb8419bf69092ff13f",
       "version_major": 2,
       "version_minor": 0
      },
      "text/plain": [
       "HBox(children=(IntProgress(value=0, max=14131), HTML(value='')))"
      ]
     },
     "metadata": {},
     "output_type": "display_data"
    },
    {
     "name": "stdout",
     "output_type": "stream",
     "text": [
      "\n",
      "2010-04-30: 34 companies pass criteria\n"
     ]
    },
    {
     "data": {
      "application/vnd.jupyter.widget-view+json": {
       "model_id": "d9719d6bb9d44d5b812d9e14bef8a0a5",
       "version_major": 2,
       "version_minor": 0
      },
      "text/plain": [
       "HBox(children=(IntProgress(value=0, max=14131), HTML(value='')))"
      ]
     },
     "metadata": {},
     "output_type": "display_data"
    },
    {
     "name": "stdout",
     "output_type": "stream",
     "text": [
      "\n",
      "2010-05-31: 34 companies pass criteria\n"
     ]
    },
    {
     "data": {
      "application/vnd.jupyter.widget-view+json": {
       "model_id": "77c00aafbd874f1799bf1b4f8b206b35",
       "version_major": 2,
       "version_minor": 0
      },
      "text/plain": [
       "HBox(children=(IntProgress(value=0, max=14131), HTML(value='')))"
      ]
     },
     "metadata": {},
     "output_type": "display_data"
    },
    {
     "name": "stdout",
     "output_type": "stream",
     "text": [
      "\n",
      "2010-06-30: 34 companies pass criteria\n"
     ]
    },
    {
     "data": {
      "application/vnd.jupyter.widget-view+json": {
       "model_id": "78c5664f762d4f9f806309498c8e5a41",
       "version_major": 2,
       "version_minor": 0
      },
      "text/plain": [
       "HBox(children=(IntProgress(value=0, max=14131), HTML(value='')))"
      ]
     },
     "metadata": {},
     "output_type": "display_data"
    },
    {
     "name": "stdout",
     "output_type": "stream",
     "text": [
      "\n",
      "2010-07-31: 33 companies pass criteria\n"
     ]
    },
    {
     "data": {
      "application/vnd.jupyter.widget-view+json": {
       "model_id": "057f8d722f0a47f3813c0cfc6ba28a8c",
       "version_major": 2,
       "version_minor": 0
      },
      "text/plain": [
       "HBox(children=(IntProgress(value=0, max=14131), HTML(value='')))"
      ]
     },
     "metadata": {},
     "output_type": "display_data"
    },
    {
     "name": "stdout",
     "output_type": "stream",
     "text": [
      "\n",
      "2010-08-31: 33 companies pass criteria\n"
     ]
    },
    {
     "data": {
      "application/vnd.jupyter.widget-view+json": {
       "model_id": "7b377c4d30ab4ddc81231bb333120ca7",
       "version_major": 2,
       "version_minor": 0
      },
      "text/plain": [
       "HBox(children=(IntProgress(value=0, max=14131), HTML(value='')))"
      ]
     },
     "metadata": {},
     "output_type": "display_data"
    },
    {
     "name": "stdout",
     "output_type": "stream",
     "text": [
      "\n",
      "2010-09-30: 34 companies pass criteria\n"
     ]
    },
    {
     "data": {
      "application/vnd.jupyter.widget-view+json": {
       "model_id": "126a459af6fe4d8385bbd7b08a038d40",
       "version_major": 2,
       "version_minor": 0
      },
      "text/plain": [
       "HBox(children=(IntProgress(value=0, max=14131), HTML(value='')))"
      ]
     },
     "metadata": {},
     "output_type": "display_data"
    },
    {
     "name": "stdout",
     "output_type": "stream",
     "text": [
      "\n",
      "2010-10-31: 33 companies pass criteria\n"
     ]
    },
    {
     "data": {
      "application/vnd.jupyter.widget-view+json": {
       "model_id": "bc32d7ee6b974ee8a659d2761a337bc0",
       "version_major": 2,
       "version_minor": 0
      },
      "text/plain": [
       "HBox(children=(IntProgress(value=0, max=14131), HTML(value='')))"
      ]
     },
     "metadata": {},
     "output_type": "display_data"
    },
    {
     "name": "stdout",
     "output_type": "stream",
     "text": [
      "\n",
      "2010-11-30: 33 companies pass criteria\n"
     ]
    },
    {
     "data": {
      "application/vnd.jupyter.widget-view+json": {
       "model_id": "60e60042146245eb9a6fd7907a80763d",
       "version_major": 2,
       "version_minor": 0
      },
      "text/plain": [
       "HBox(children=(IntProgress(value=0, max=14131), HTML(value='')))"
      ]
     },
     "metadata": {},
     "output_type": "display_data"
    },
    {
     "name": "stdout",
     "output_type": "stream",
     "text": [
      "\n",
      "2010-12-31: 32 companies pass criteria\n"
     ]
    },
    {
     "data": {
      "application/vnd.jupyter.widget-view+json": {
       "model_id": "cd17f073bd1c405889fc565ca049554d",
       "version_major": 2,
       "version_minor": 0
      },
      "text/plain": [
       "HBox(children=(IntProgress(value=0, max=14131), HTML(value='')))"
      ]
     },
     "metadata": {},
     "output_type": "display_data"
    },
    {
     "name": "stdout",
     "output_type": "stream",
     "text": [
      "\n",
      "2011-01-31: 32 companies pass criteria\n"
     ]
    },
    {
     "data": {
      "application/vnd.jupyter.widget-view+json": {
       "model_id": "2cd3db251359443e8142bb65b7c912f1",
       "version_major": 2,
       "version_minor": 0
      },
      "text/plain": [
       "HBox(children=(IntProgress(value=0, max=14131), HTML(value='')))"
      ]
     },
     "metadata": {},
     "output_type": "display_data"
    },
    {
     "name": "stdout",
     "output_type": "stream",
     "text": [
      "\n",
      "2011-02-28: 35 companies pass criteria\n"
     ]
    },
    {
     "data": {
      "application/vnd.jupyter.widget-view+json": {
       "model_id": "63d2b33e1fa84955b8205db583b3164e",
       "version_major": 2,
       "version_minor": 0
      },
      "text/plain": [
       "HBox(children=(IntProgress(value=0, max=14131), HTML(value='')))"
      ]
     },
     "metadata": {},
     "output_type": "display_data"
    },
    {
     "name": "stdout",
     "output_type": "stream",
     "text": [
      "\n",
      "2011-03-31: 36 companies pass criteria\n"
     ]
    },
    {
     "data": {
      "application/vnd.jupyter.widget-view+json": {
       "model_id": "50c2d706d70b43b7bf7a4303d660768e",
       "version_major": 2,
       "version_minor": 0
      },
      "text/plain": [
       "HBox(children=(IntProgress(value=0, max=14131), HTML(value='')))"
      ]
     },
     "metadata": {},
     "output_type": "display_data"
    },
    {
     "name": "stdout",
     "output_type": "stream",
     "text": [
      "\n",
      "2011-04-30: 36 companies pass criteria\n"
     ]
    },
    {
     "data": {
      "application/vnd.jupyter.widget-view+json": {
       "model_id": "52e69f1a91d24503a77bf378603a1390",
       "version_major": 2,
       "version_minor": 0
      },
      "text/plain": [
       "HBox(children=(IntProgress(value=0, max=14131), HTML(value='')))"
      ]
     },
     "metadata": {},
     "output_type": "display_data"
    },
    {
     "name": "stdout",
     "output_type": "stream",
     "text": [
      "\n",
      "2011-05-31: 37 companies pass criteria\n"
     ]
    },
    {
     "data": {
      "application/vnd.jupyter.widget-view+json": {
       "model_id": "c9edb7d5cee54a169db40ca102a24b53",
       "version_major": 2,
       "version_minor": 0
      },
      "text/plain": [
       "HBox(children=(IntProgress(value=0, max=14131), HTML(value='')))"
      ]
     },
     "metadata": {},
     "output_type": "display_data"
    },
    {
     "name": "stdout",
     "output_type": "stream",
     "text": [
      "\n",
      "2011-06-30: 37 companies pass criteria\n"
     ]
    },
    {
     "data": {
      "application/vnd.jupyter.widget-view+json": {
       "model_id": "cf7421ca691a4dcea350fa3b4aa750aa",
       "version_major": 2,
       "version_minor": 0
      },
      "text/plain": [
       "HBox(children=(IntProgress(value=0, max=14131), HTML(value='')))"
      ]
     },
     "metadata": {},
     "output_type": "display_data"
    },
    {
     "name": "stdout",
     "output_type": "stream",
     "text": [
      "\n",
      "2011-07-31: 37 companies pass criteria\n"
     ]
    },
    {
     "data": {
      "application/vnd.jupyter.widget-view+json": {
       "model_id": "a4bc054a06854432beb7b8089f57243f",
       "version_major": 2,
       "version_minor": 0
      },
      "text/plain": [
       "HBox(children=(IntProgress(value=0, max=14131), HTML(value='')))"
      ]
     },
     "metadata": {},
     "output_type": "display_data"
    },
    {
     "name": "stdout",
     "output_type": "stream",
     "text": [
      "\n",
      "2011-08-31: 39 companies pass criteria\n"
     ]
    },
    {
     "data": {
      "application/vnd.jupyter.widget-view+json": {
       "model_id": "cd54e68fb6234c9d8f91a2e72cd48a02",
       "version_major": 2,
       "version_minor": 0
      },
      "text/plain": [
       "HBox(children=(IntProgress(value=0, max=14131), HTML(value='')))"
      ]
     },
     "metadata": {},
     "output_type": "display_data"
    },
    {
     "name": "stdout",
     "output_type": "stream",
     "text": [
      "\n",
      "2011-09-30: 40 companies pass criteria\n"
     ]
    },
    {
     "data": {
      "application/vnd.jupyter.widget-view+json": {
       "model_id": "a188033c651a4226bf1af7e820987565",
       "version_major": 2,
       "version_minor": 0
      },
      "text/plain": [
       "HBox(children=(IntProgress(value=0, max=14131), HTML(value='')))"
      ]
     },
     "metadata": {},
     "output_type": "display_data"
    },
    {
     "name": "stdout",
     "output_type": "stream",
     "text": [
      "\n",
      "2011-10-31: 40 companies pass criteria\n"
     ]
    },
    {
     "data": {
      "application/vnd.jupyter.widget-view+json": {
       "model_id": "caf823946a3848a1b99453ff4fe80c8b",
       "version_major": 2,
       "version_minor": 0
      },
      "text/plain": [
       "HBox(children=(IntProgress(value=0, max=14131), HTML(value='')))"
      ]
     },
     "metadata": {},
     "output_type": "display_data"
    },
    {
     "name": "stdout",
     "output_type": "stream",
     "text": [
      "\n",
      "2011-11-30: 40 companies pass criteria\n"
     ]
    },
    {
     "data": {
      "application/vnd.jupyter.widget-view+json": {
       "model_id": "b41c8e6698084f30be59f16da795ee52",
       "version_major": 2,
       "version_minor": 0
      },
      "text/plain": [
       "HBox(children=(IntProgress(value=0, max=14131), HTML(value='')))"
      ]
     },
     "metadata": {},
     "output_type": "display_data"
    },
    {
     "name": "stdout",
     "output_type": "stream",
     "text": [
      "\n",
      "2011-12-31: 41 companies pass criteria\n"
     ]
    },
    {
     "data": {
      "application/vnd.jupyter.widget-view+json": {
       "model_id": "a889ce2336f24a6ca8eef79b46f2c89e",
       "version_major": 2,
       "version_minor": 0
      },
      "text/plain": [
       "HBox(children=(IntProgress(value=0, max=14131), HTML(value='')))"
      ]
     },
     "metadata": {},
     "output_type": "display_data"
    },
    {
     "name": "stdout",
     "output_type": "stream",
     "text": [
      "\n",
      "2012-01-31: 41 companies pass criteria\n"
     ]
    },
    {
     "data": {
      "application/vnd.jupyter.widget-view+json": {
       "model_id": "f9a8598189b341d0a6248dd0d7db686e",
       "version_major": 2,
       "version_minor": 0
      },
      "text/plain": [
       "HBox(children=(IntProgress(value=0, max=14131), HTML(value='')))"
      ]
     },
     "metadata": {},
     "output_type": "display_data"
    },
    {
     "name": "stdout",
     "output_type": "stream",
     "text": [
      "\n",
      "2012-02-29: 44 companies pass criteria\n"
     ]
    },
    {
     "data": {
      "application/vnd.jupyter.widget-view+json": {
       "model_id": "6dbcd0c995964ed19e7e3377c7bba178",
       "version_major": 2,
       "version_minor": 0
      },
      "text/plain": [
       "HBox(children=(IntProgress(value=0, max=14131), HTML(value='')))"
      ]
     },
     "metadata": {},
     "output_type": "display_data"
    },
    {
     "name": "stdout",
     "output_type": "stream",
     "text": [
      "\n",
      "2012-03-31: 47 companies pass criteria\n"
     ]
    },
    {
     "data": {
      "application/vnd.jupyter.widget-view+json": {
       "model_id": "d2e09b330ef2490d8f600ddf877c4db0",
       "version_major": 2,
       "version_minor": 0
      },
      "text/plain": [
       "HBox(children=(IntProgress(value=0, max=14131), HTML(value='')))"
      ]
     },
     "metadata": {},
     "output_type": "display_data"
    },
    {
     "name": "stdout",
     "output_type": "stream",
     "text": [
      "\n",
      "2012-04-30: 47 companies pass criteria\n"
     ]
    },
    {
     "data": {
      "application/vnd.jupyter.widget-view+json": {
       "model_id": "f445a1e053794d3ca009f4fa93dc835e",
       "version_major": 2,
       "version_minor": 0
      },
      "text/plain": [
       "HBox(children=(IntProgress(value=0, max=14131), HTML(value='')))"
      ]
     },
     "metadata": {},
     "output_type": "display_data"
    },
    {
     "name": "stdout",
     "output_type": "stream",
     "text": [
      "\n",
      "2012-05-31: 46 companies pass criteria\n"
     ]
    },
    {
     "data": {
      "application/vnd.jupyter.widget-view+json": {
       "model_id": "5c025b6230f544b8a93f3fedd01fdd9d",
       "version_major": 2,
       "version_minor": 0
      },
      "text/plain": [
       "HBox(children=(IntProgress(value=0, max=14131), HTML(value='')))"
      ]
     },
     "metadata": {},
     "output_type": "display_data"
    },
    {
     "name": "stdout",
     "output_type": "stream",
     "text": [
      "\n",
      "2012-06-30: 46 companies pass criteria\n"
     ]
    },
    {
     "data": {
      "application/vnd.jupyter.widget-view+json": {
       "model_id": "05d2edc2b66f44a29b0c530b39cd7bac",
       "version_major": 2,
       "version_minor": 0
      },
      "text/plain": [
       "HBox(children=(IntProgress(value=0, max=14131), HTML(value='')))"
      ]
     },
     "metadata": {},
     "output_type": "display_data"
    },
    {
     "name": "stdout",
     "output_type": "stream",
     "text": [
      "\n",
      "2012-07-31: 46 companies pass criteria\n"
     ]
    },
    {
     "data": {
      "application/vnd.jupyter.widget-view+json": {
       "model_id": "577e7e8c8ac14f80a5bb0d2032358077",
       "version_major": 2,
       "version_minor": 0
      },
      "text/plain": [
       "HBox(children=(IntProgress(value=0, max=14131), HTML(value='')))"
      ]
     },
     "metadata": {},
     "output_type": "display_data"
    },
    {
     "name": "stdout",
     "output_type": "stream",
     "text": [
      "\n",
      "2012-08-31: 45 companies pass criteria\n"
     ]
    },
    {
     "data": {
      "application/vnd.jupyter.widget-view+json": {
       "model_id": "657f6fe77ed140efaee5e34ed5ad5fed",
       "version_major": 2,
       "version_minor": 0
      },
      "text/plain": [
       "HBox(children=(IntProgress(value=0, max=14131), HTML(value='')))"
      ]
     },
     "metadata": {},
     "output_type": "display_data"
    },
    {
     "name": "stdout",
     "output_type": "stream",
     "text": [
      "\n",
      "2012-09-30: 45 companies pass criteria\n"
     ]
    },
    {
     "data": {
      "application/vnd.jupyter.widget-view+json": {
       "model_id": "f465f582d7ad46d3ab592e3696040c57",
       "version_major": 2,
       "version_minor": 0
      },
      "text/plain": [
       "HBox(children=(IntProgress(value=0, max=14131), HTML(value='')))"
      ]
     },
     "metadata": {},
     "output_type": "display_data"
    },
    {
     "name": "stdout",
     "output_type": "stream",
     "text": [
      "\n",
      "2012-10-31: 45 companies pass criteria\n"
     ]
    },
    {
     "data": {
      "application/vnd.jupyter.widget-view+json": {
       "model_id": "2a3d47360b4c49c0af55d8982c2bec9b",
       "version_major": 2,
       "version_minor": 0
      },
      "text/plain": [
       "HBox(children=(IntProgress(value=0, max=14131), HTML(value='')))"
      ]
     },
     "metadata": {},
     "output_type": "display_data"
    },
    {
     "name": "stdout",
     "output_type": "stream",
     "text": [
      "\n",
      "2012-11-30: 45 companies pass criteria\n"
     ]
    },
    {
     "data": {
      "application/vnd.jupyter.widget-view+json": {
       "model_id": "f5d1b7f91fe04d21bbaaf1b3776b41b3",
       "version_major": 2,
       "version_minor": 0
      },
      "text/plain": [
       "HBox(children=(IntProgress(value=0, max=14131), HTML(value='')))"
      ]
     },
     "metadata": {},
     "output_type": "display_data"
    },
    {
     "name": "stdout",
     "output_type": "stream",
     "text": [
      "\n",
      "2012-12-31: 45 companies pass criteria\n"
     ]
    },
    {
     "data": {
      "application/vnd.jupyter.widget-view+json": {
       "model_id": "d4ae0ff01b8a4e9284d079449d104293",
       "version_major": 2,
       "version_minor": 0
      },
      "text/plain": [
       "HBox(children=(IntProgress(value=0, max=14131), HTML(value='')))"
      ]
     },
     "metadata": {},
     "output_type": "display_data"
    },
    {
     "name": "stdout",
     "output_type": "stream",
     "text": [
      "\n",
      "2013-01-31: 45 companies pass criteria\n"
     ]
    },
    {
     "data": {
      "application/vnd.jupyter.widget-view+json": {
       "model_id": "16a54a1027ec453fb397241612a5c877",
       "version_major": 2,
       "version_minor": 0
      },
      "text/plain": [
       "HBox(children=(IntProgress(value=0, max=14131), HTML(value='')))"
      ]
     },
     "metadata": {},
     "output_type": "display_data"
    },
    {
     "name": "stdout",
     "output_type": "stream",
     "text": [
      "\n",
      "2013-02-28: 50 companies pass criteria\n"
     ]
    },
    {
     "data": {
      "application/vnd.jupyter.widget-view+json": {
       "model_id": "a74d6b07c53a484399c0b7b22a673b18",
       "version_major": 2,
       "version_minor": 0
      },
      "text/plain": [
       "HBox(children=(IntProgress(value=0, max=14131), HTML(value='')))"
      ]
     },
     "metadata": {},
     "output_type": "display_data"
    },
    {
     "name": "stdout",
     "output_type": "stream",
     "text": [
      "\n",
      "2013-03-31: 50 companies pass criteria\n"
     ]
    },
    {
     "data": {
      "application/vnd.jupyter.widget-view+json": {
       "model_id": "15bf0d36fb774d3d9af69abfba748ca4",
       "version_major": 2,
       "version_minor": 0
      },
      "text/plain": [
       "HBox(children=(IntProgress(value=0, max=14131), HTML(value='')))"
      ]
     },
     "metadata": {},
     "output_type": "display_data"
    },
    {
     "name": "stdout",
     "output_type": "stream",
     "text": [
      "\n",
      "2013-04-30: 50 companies pass criteria\n"
     ]
    },
    {
     "data": {
      "application/vnd.jupyter.widget-view+json": {
       "model_id": "8d55b9823b144ee79fa904b00158cf50",
       "version_major": 2,
       "version_minor": 0
      },
      "text/plain": [
       "HBox(children=(IntProgress(value=0, max=14131), HTML(value='')))"
      ]
     },
     "metadata": {},
     "output_type": "display_data"
    },
    {
     "name": "stdout",
     "output_type": "stream",
     "text": [
      "\n",
      "2013-05-31: 50 companies pass criteria\n"
     ]
    },
    {
     "data": {
      "application/vnd.jupyter.widget-view+json": {
       "model_id": "cf8ff9db631543b9b8f787cca83646ac",
       "version_major": 2,
       "version_minor": 0
      },
      "text/plain": [
       "HBox(children=(IntProgress(value=0, max=14131), HTML(value='')))"
      ]
     },
     "metadata": {},
     "output_type": "display_data"
    },
    {
     "name": "stdout",
     "output_type": "stream",
     "text": [
      "\n",
      "2013-06-30: 51 companies pass criteria\n"
     ]
    },
    {
     "data": {
      "application/vnd.jupyter.widget-view+json": {
       "model_id": "e53cd7c3329b4e61a314a3e377ffd562",
       "version_major": 2,
       "version_minor": 0
      },
      "text/plain": [
       "HBox(children=(IntProgress(value=0, max=14131), HTML(value='')))"
      ]
     },
     "metadata": {},
     "output_type": "display_data"
    },
    {
     "name": "stdout",
     "output_type": "stream",
     "text": [
      "\n",
      "2013-07-31: 51 companies pass criteria\n"
     ]
    },
    {
     "data": {
      "application/vnd.jupyter.widget-view+json": {
       "model_id": "a21d30a252a046248c2e32bd1ce741a9",
       "version_major": 2,
       "version_minor": 0
      },
      "text/plain": [
       "HBox(children=(IntProgress(value=0, max=14131), HTML(value='')))"
      ]
     },
     "metadata": {},
     "output_type": "display_data"
    },
    {
     "name": "stdout",
     "output_type": "stream",
     "text": [
      "\n",
      "2013-08-31: 52 companies pass criteria\n"
     ]
    },
    {
     "data": {
      "application/vnd.jupyter.widget-view+json": {
       "model_id": "d816dacffd3f49dcbf3c1acd37866aa4",
       "version_major": 2,
       "version_minor": 0
      },
      "text/plain": [
       "HBox(children=(IntProgress(value=0, max=14131), HTML(value='')))"
      ]
     },
     "metadata": {},
     "output_type": "display_data"
    },
    {
     "name": "stdout",
     "output_type": "stream",
     "text": [
      "\n",
      "2013-09-30: 52 companies pass criteria\n"
     ]
    },
    {
     "data": {
      "application/vnd.jupyter.widget-view+json": {
       "model_id": "43a6b6a28d28487b871ba61d345b676b",
       "version_major": 2,
       "version_minor": 0
      },
      "text/plain": [
       "HBox(children=(IntProgress(value=0, max=14131), HTML(value='')))"
      ]
     },
     "metadata": {},
     "output_type": "display_data"
    },
    {
     "name": "stdout",
     "output_type": "stream",
     "text": [
      "\n",
      "2013-10-31: 52 companies pass criteria\n"
     ]
    },
    {
     "data": {
      "application/vnd.jupyter.widget-view+json": {
       "model_id": "3094a922bf91482f9d72b9e78cbf9530",
       "version_major": 2,
       "version_minor": 0
      },
      "text/plain": [
       "HBox(children=(IntProgress(value=0, max=14131), HTML(value='')))"
      ]
     },
     "metadata": {},
     "output_type": "display_data"
    },
    {
     "name": "stdout",
     "output_type": "stream",
     "text": [
      "\n",
      "2013-11-30: 52 companies pass criteria\n"
     ]
    },
    {
     "data": {
      "application/vnd.jupyter.widget-view+json": {
       "model_id": "0ee6a6be25ac482b947689b4a9d693cb",
       "version_major": 2,
       "version_minor": 0
      },
      "text/plain": [
       "HBox(children=(IntProgress(value=0, max=14131), HTML(value='')))"
      ]
     },
     "metadata": {},
     "output_type": "display_data"
    },
    {
     "name": "stdout",
     "output_type": "stream",
     "text": [
      "\n",
      "2013-12-31: 52 companies pass criteria\n"
     ]
    },
    {
     "data": {
      "application/vnd.jupyter.widget-view+json": {
       "model_id": "0b6daa3ddd2c432fb9c36303e07cdd70",
       "version_major": 2,
       "version_minor": 0
      },
      "text/plain": [
       "HBox(children=(IntProgress(value=0, max=14131), HTML(value='')))"
      ]
     },
     "metadata": {},
     "output_type": "display_data"
    },
    {
     "name": "stdout",
     "output_type": "stream",
     "text": [
      "\n",
      "2014-01-31: 53 companies pass criteria\n"
     ]
    },
    {
     "data": {
      "application/vnd.jupyter.widget-view+json": {
       "model_id": "78fc735aa8754cd4bc8236f11e29f533",
       "version_major": 2,
       "version_minor": 0
      },
      "text/plain": [
       "HBox(children=(IntProgress(value=0, max=14131), HTML(value='')))"
      ]
     },
     "metadata": {},
     "output_type": "display_data"
    },
    {
     "name": "stdout",
     "output_type": "stream",
     "text": [
      "\n",
      "2014-02-28: 64 companies pass criteria\n"
     ]
    },
    {
     "data": {
      "application/vnd.jupyter.widget-view+json": {
       "model_id": "ea8dc34ed8b74033a4cdc1c3bd18cf25",
       "version_major": 2,
       "version_minor": 0
      },
      "text/plain": [
       "HBox(children=(IntProgress(value=0, max=14131), HTML(value='')))"
      ]
     },
     "metadata": {},
     "output_type": "display_data"
    },
    {
     "name": "stdout",
     "output_type": "stream",
     "text": [
      "\n",
      "2014-03-31: 63 companies pass criteria\n"
     ]
    },
    {
     "data": {
      "application/vnd.jupyter.widget-view+json": {
       "model_id": "79bc856ba8e240e5baa726afdd667491",
       "version_major": 2,
       "version_minor": 0
      },
      "text/plain": [
       "HBox(children=(IntProgress(value=0, max=14131), HTML(value='')))"
      ]
     },
     "metadata": {},
     "output_type": "display_data"
    },
    {
     "name": "stdout",
     "output_type": "stream",
     "text": [
      "\n",
      "2014-04-30: 63 companies pass criteria\n"
     ]
    },
    {
     "data": {
      "application/vnd.jupyter.widget-view+json": {
       "model_id": "f20a57107c68415c95d918a67b8be46c",
       "version_major": 2,
       "version_minor": 0
      },
      "text/plain": [
       "HBox(children=(IntProgress(value=0, max=14131), HTML(value='')))"
      ]
     },
     "metadata": {},
     "output_type": "display_data"
    },
    {
     "name": "stdout",
     "output_type": "stream",
     "text": [
      "\n",
      "2014-05-31: 63 companies pass criteria\n"
     ]
    },
    {
     "data": {
      "application/vnd.jupyter.widget-view+json": {
       "model_id": "9a75279ae56245f7a5ce5753633bbc7b",
       "version_major": 2,
       "version_minor": 0
      },
      "text/plain": [
       "HBox(children=(IntProgress(value=0, max=14131), HTML(value='')))"
      ]
     },
     "metadata": {},
     "output_type": "display_data"
    },
    {
     "name": "stdout",
     "output_type": "stream",
     "text": [
      "\n",
      "2014-06-30: 65 companies pass criteria\n"
     ]
    },
    {
     "data": {
      "application/vnd.jupyter.widget-view+json": {
       "model_id": "8c41971bb4174c01badcdae486a4e5f4",
       "version_major": 2,
       "version_minor": 0
      },
      "text/plain": [
       "HBox(children=(IntProgress(value=0, max=14131), HTML(value='')))"
      ]
     },
     "metadata": {},
     "output_type": "display_data"
    },
    {
     "name": "stdout",
     "output_type": "stream",
     "text": [
      "\n",
      "2014-07-31: 65 companies pass criteria\n"
     ]
    },
    {
     "data": {
      "application/vnd.jupyter.widget-view+json": {
       "model_id": "60b81d1bbdef4facac7d4aec7988af43",
       "version_major": 2,
       "version_minor": 0
      },
      "text/plain": [
       "HBox(children=(IntProgress(value=0, max=14131), HTML(value='')))"
      ]
     },
     "metadata": {},
     "output_type": "display_data"
    },
    {
     "name": "stdout",
     "output_type": "stream",
     "text": [
      "\n",
      "2014-08-31: 65 companies pass criteria\n"
     ]
    },
    {
     "data": {
      "application/vnd.jupyter.widget-view+json": {
       "model_id": "4897690d2e864449a8fa42eac2bc3038",
       "version_major": 2,
       "version_minor": 0
      },
      "text/plain": [
       "HBox(children=(IntProgress(value=0, max=14131), HTML(value='')))"
      ]
     },
     "metadata": {},
     "output_type": "display_data"
    },
    {
     "name": "stdout",
     "output_type": "stream",
     "text": [
      "\n",
      "2014-09-30: 64 companies pass criteria\n"
     ]
    },
    {
     "data": {
      "application/vnd.jupyter.widget-view+json": {
       "model_id": "357e80bb9b204ec696a2efef78f062ff",
       "version_major": 2,
       "version_minor": 0
      },
      "text/plain": [
       "HBox(children=(IntProgress(value=0, max=14131), HTML(value='')))"
      ]
     },
     "metadata": {},
     "output_type": "display_data"
    },
    {
     "name": "stdout",
     "output_type": "stream",
     "text": [
      "\n",
      "2014-10-31: 64 companies pass criteria\n"
     ]
    },
    {
     "data": {
      "application/vnd.jupyter.widget-view+json": {
       "model_id": "38d1bdcfa4834f54a277d61e8d7fa2f1",
       "version_major": 2,
       "version_minor": 0
      },
      "text/plain": [
       "HBox(children=(IntProgress(value=0, max=14131), HTML(value='')))"
      ]
     },
     "metadata": {},
     "output_type": "display_data"
    },
    {
     "name": "stdout",
     "output_type": "stream",
     "text": [
      "\n",
      "2014-11-30: 66 companies pass criteria\n"
     ]
    },
    {
     "data": {
      "application/vnd.jupyter.widget-view+json": {
       "model_id": "91ebff3f16804705a79b0626897a76eb",
       "version_major": 2,
       "version_minor": 0
      },
      "text/plain": [
       "HBox(children=(IntProgress(value=0, max=14131), HTML(value='')))"
      ]
     },
     "metadata": {},
     "output_type": "display_data"
    },
    {
     "name": "stdout",
     "output_type": "stream",
     "text": [
      "\n",
      "2014-12-31: 67 companies pass criteria\n"
     ]
    },
    {
     "data": {
      "application/vnd.jupyter.widget-view+json": {
       "model_id": "1098fb9d3bfe4827a099d9daadf02dd5",
       "version_major": 2,
       "version_minor": 0
      },
      "text/plain": [
       "HBox(children=(IntProgress(value=0, max=14131), HTML(value='')))"
      ]
     },
     "metadata": {},
     "output_type": "display_data"
    },
    {
     "name": "stdout",
     "output_type": "stream",
     "text": [
      "\n",
      "2015-01-31: 67 companies pass criteria\n"
     ]
    },
    {
     "data": {
      "application/vnd.jupyter.widget-view+json": {
       "model_id": "14c851c14130424981590614233aef04",
       "version_major": 2,
       "version_minor": 0
      },
      "text/plain": [
       "HBox(children=(IntProgress(value=0, max=14131), HTML(value='')))"
      ]
     },
     "metadata": {},
     "output_type": "display_data"
    },
    {
     "name": "stdout",
     "output_type": "stream",
     "text": [
      "\n",
      "2015-02-28: 64 companies pass criteria\n"
     ]
    },
    {
     "data": {
      "application/vnd.jupyter.widget-view+json": {
       "model_id": "98ba41ff9824437c8e61acdf184ad737",
       "version_major": 2,
       "version_minor": 0
      },
      "text/plain": [
       "HBox(children=(IntProgress(value=0, max=14131), HTML(value='')))"
      ]
     },
     "metadata": {},
     "output_type": "display_data"
    },
    {
     "name": "stdout",
     "output_type": "stream",
     "text": [
      "\n",
      "2015-03-31: 62 companies pass criteria\n"
     ]
    },
    {
     "data": {
      "application/vnd.jupyter.widget-view+json": {
       "model_id": "c0c54e3528514879b0b1d6926ee856c8",
       "version_major": 2,
       "version_minor": 0
      },
      "text/plain": [
       "HBox(children=(IntProgress(value=0, max=14131), HTML(value='')))"
      ]
     },
     "metadata": {},
     "output_type": "display_data"
    },
    {
     "name": "stdout",
     "output_type": "stream",
     "text": [
      "\n",
      "2015-04-30: 63 companies pass criteria\n"
     ]
    },
    {
     "data": {
      "application/vnd.jupyter.widget-view+json": {
       "model_id": "cd8319e9b2674713a8dd0546e15e13d6",
       "version_major": 2,
       "version_minor": 0
      },
      "text/plain": [
       "HBox(children=(IntProgress(value=0, max=14131), HTML(value='')))"
      ]
     },
     "metadata": {},
     "output_type": "display_data"
    },
    {
     "name": "stdout",
     "output_type": "stream",
     "text": [
      "\n",
      "2015-05-31: 64 companies pass criteria\n"
     ]
    },
    {
     "data": {
      "application/vnd.jupyter.widget-view+json": {
       "model_id": "370883bc985d4a8587b246424bb9de3b",
       "version_major": 2,
       "version_minor": 0
      },
      "text/plain": [
       "HBox(children=(IntProgress(value=0, max=14131), HTML(value='')))"
      ]
     },
     "metadata": {},
     "output_type": "display_data"
    },
    {
     "name": "stdout",
     "output_type": "stream",
     "text": [
      "\n",
      "2015-06-30: 64 companies pass criteria\n"
     ]
    },
    {
     "data": {
      "application/vnd.jupyter.widget-view+json": {
       "model_id": "749a81c059504f14a54597641953b28b",
       "version_major": 2,
       "version_minor": 0
      },
      "text/plain": [
       "HBox(children=(IntProgress(value=0, max=14131), HTML(value='')))"
      ]
     },
     "metadata": {},
     "output_type": "display_data"
    },
    {
     "name": "stdout",
     "output_type": "stream",
     "text": [
      "\n",
      "2015-07-31: 64 companies pass criteria\n"
     ]
    },
    {
     "data": {
      "application/vnd.jupyter.widget-view+json": {
       "model_id": "6eb6772e579b4cda8dc3609186a1a8f4",
       "version_major": 2,
       "version_minor": 0
      },
      "text/plain": [
       "HBox(children=(IntProgress(value=0, max=14131), HTML(value='')))"
      ]
     },
     "metadata": {},
     "output_type": "display_data"
    },
    {
     "name": "stdout",
     "output_type": "stream",
     "text": [
      "\n",
      "2015-08-31: 66 companies pass criteria\n"
     ]
    },
    {
     "data": {
      "application/vnd.jupyter.widget-view+json": {
       "model_id": "a6875fc35de44aa49964e5a92b70ba5d",
       "version_major": 2,
       "version_minor": 0
      },
      "text/plain": [
       "HBox(children=(IntProgress(value=0, max=14131), HTML(value='')))"
      ]
     },
     "metadata": {},
     "output_type": "display_data"
    },
    {
     "name": "stdout",
     "output_type": "stream",
     "text": [
      "\n",
      "2015-09-30: 66 companies pass criteria\n"
     ]
    },
    {
     "data": {
      "application/vnd.jupyter.widget-view+json": {
       "model_id": "b0f5655566964b6db72f6c5f0eeb9b2f",
       "version_major": 2,
       "version_minor": 0
      },
      "text/plain": [
       "HBox(children=(IntProgress(value=0, max=14131), HTML(value='')))"
      ]
     },
     "metadata": {},
     "output_type": "display_data"
    },
    {
     "name": "stdout",
     "output_type": "stream",
     "text": [
      "\n",
      "2015-10-31: 67 companies pass criteria\n"
     ]
    },
    {
     "data": {
      "application/vnd.jupyter.widget-view+json": {
       "model_id": "84f9ee97c37c44958f0da32e29018379",
       "version_major": 2,
       "version_minor": 0
      },
      "text/plain": [
       "HBox(children=(IntProgress(value=0, max=14131), HTML(value='')))"
      ]
     },
     "metadata": {},
     "output_type": "display_data"
    },
    {
     "name": "stdout",
     "output_type": "stream",
     "text": [
      "\n",
      "2015-11-30: 64 companies pass criteria\n"
     ]
    },
    {
     "data": {
      "application/vnd.jupyter.widget-view+json": {
       "model_id": "bfe3522f9e2d45b78f04c6cc8a6820d3",
       "version_major": 2,
       "version_minor": 0
      },
      "text/plain": [
       "HBox(children=(IntProgress(value=0, max=14131), HTML(value='')))"
      ]
     },
     "metadata": {},
     "output_type": "display_data"
    },
    {
     "name": "stdout",
     "output_type": "stream",
     "text": [
      "\n",
      "2015-12-31: 62 companies pass criteria\n"
     ]
    },
    {
     "data": {
      "application/vnd.jupyter.widget-view+json": {
       "model_id": "a34246a8fdd6435c805741b2813e44db",
       "version_major": 2,
       "version_minor": 0
      },
      "text/plain": [
       "HBox(children=(IntProgress(value=0, max=14131), HTML(value='')))"
      ]
     },
     "metadata": {},
     "output_type": "display_data"
    },
    {
     "name": "stdout",
     "output_type": "stream",
     "text": [
      "\n",
      "2016-01-31: 62 companies pass criteria\n"
     ]
    },
    {
     "data": {
      "application/vnd.jupyter.widget-view+json": {
       "model_id": "4c8a8516ae214a35a781ac8ea54bca91",
       "version_major": 2,
       "version_minor": 0
      },
      "text/plain": [
       "HBox(children=(IntProgress(value=0, max=14131), HTML(value='')))"
      ]
     },
     "metadata": {},
     "output_type": "display_data"
    },
    {
     "name": "stdout",
     "output_type": "stream",
     "text": [
      "\n",
      "2016-02-29: 58 companies pass criteria\n"
     ]
    },
    {
     "data": {
      "application/vnd.jupyter.widget-view+json": {
       "model_id": "fc6adf5063c648e1aca1a60cb840fd98",
       "version_major": 2,
       "version_minor": 0
      },
      "text/plain": [
       "HBox(children=(IntProgress(value=0, max=14131), HTML(value='')))"
      ]
     },
     "metadata": {},
     "output_type": "display_data"
    },
    {
     "name": "stdout",
     "output_type": "stream",
     "text": [
      "\n",
      "2016-03-31: 55 companies pass criteria\n"
     ]
    },
    {
     "data": {
      "application/vnd.jupyter.widget-view+json": {
       "model_id": "eec5aff4b31e49e88ed9e8bfd25b7602",
       "version_major": 2,
       "version_minor": 0
      },
      "text/plain": [
       "HBox(children=(IntProgress(value=0, max=14131), HTML(value='')))"
      ]
     },
     "metadata": {},
     "output_type": "display_data"
    },
    {
     "name": "stdout",
     "output_type": "stream",
     "text": [
      "\n",
      "2016-04-30: 56 companies pass criteria\n"
     ]
    },
    {
     "data": {
      "application/vnd.jupyter.widget-view+json": {
       "model_id": "acf8b2c02bfa4fe797e9b10cd17ac3ec",
       "version_major": 2,
       "version_minor": 0
      },
      "text/plain": [
       "HBox(children=(IntProgress(value=0, max=14131), HTML(value='')))"
      ]
     },
     "metadata": {},
     "output_type": "display_data"
    },
    {
     "name": "stdout",
     "output_type": "stream",
     "text": [
      "\n",
      "2016-05-31: 57 companies pass criteria\n"
     ]
    },
    {
     "data": {
      "application/vnd.jupyter.widget-view+json": {
       "model_id": "2a8e8f26185e4733a39af1004aca3d87",
       "version_major": 2,
       "version_minor": 0
      },
      "text/plain": [
       "HBox(children=(IntProgress(value=0, max=14131), HTML(value='')))"
      ]
     },
     "metadata": {},
     "output_type": "display_data"
    },
    {
     "name": "stdout",
     "output_type": "stream",
     "text": [
      "\n",
      "2016-06-30: 55 companies pass criteria\n"
     ]
    },
    {
     "data": {
      "application/vnd.jupyter.widget-view+json": {
       "model_id": "812cc5a83db6456d8b0314a54367969d",
       "version_major": 2,
       "version_minor": 0
      },
      "text/plain": [
       "HBox(children=(IntProgress(value=0, max=14131), HTML(value='')))"
      ]
     },
     "metadata": {},
     "output_type": "display_data"
    },
    {
     "name": "stdout",
     "output_type": "stream",
     "text": [
      "\n",
      "2016-07-31: 55 companies pass criteria\n"
     ]
    },
    {
     "data": {
      "application/vnd.jupyter.widget-view+json": {
       "model_id": "f37fd5fafdc5468094ea74cdf72c7125",
       "version_major": 2,
       "version_minor": 0
      },
      "text/plain": [
       "HBox(children=(IntProgress(value=0, max=14131), HTML(value='')))"
      ]
     },
     "metadata": {},
     "output_type": "display_data"
    },
    {
     "name": "stdout",
     "output_type": "stream",
     "text": [
      "\n",
      "2016-08-31: 53 companies pass criteria\n"
     ]
    },
    {
     "data": {
      "application/vnd.jupyter.widget-view+json": {
       "model_id": "5b02bf933f8f4c8ea3c7fa4792978c83",
       "version_major": 2,
       "version_minor": 0
      },
      "text/plain": [
       "HBox(children=(IntProgress(value=0, max=14131), HTML(value='')))"
      ]
     },
     "metadata": {},
     "output_type": "display_data"
    },
    {
     "name": "stdout",
     "output_type": "stream",
     "text": [
      "\n",
      "2016-09-30: 52 companies pass criteria\n"
     ]
    },
    {
     "data": {
      "application/vnd.jupyter.widget-view+json": {
       "model_id": "8684de3d204f4f68bc692c19170c6aa3",
       "version_major": 2,
       "version_minor": 0
      },
      "text/plain": [
       "HBox(children=(IntProgress(value=0, max=14131), HTML(value='')))"
      ]
     },
     "metadata": {},
     "output_type": "display_data"
    },
    {
     "name": "stdout",
     "output_type": "stream",
     "text": [
      "\n",
      "2016-10-31: 51 companies pass criteria\n"
     ]
    },
    {
     "data": {
      "application/vnd.jupyter.widget-view+json": {
       "model_id": "843263ce73ab4596b955204fb13a9338",
       "version_major": 2,
       "version_minor": 0
      },
      "text/plain": [
       "HBox(children=(IntProgress(value=0, max=14131), HTML(value='')))"
      ]
     },
     "metadata": {},
     "output_type": "display_data"
    },
    {
     "name": "stdout",
     "output_type": "stream",
     "text": [
      "\n",
      "2016-11-30: 49 companies pass criteria\n"
     ]
    },
    {
     "data": {
      "application/vnd.jupyter.widget-view+json": {
       "model_id": "90412528bef34517858da2899e2d759d",
       "version_major": 2,
       "version_minor": 0
      },
      "text/plain": [
       "HBox(children=(IntProgress(value=0, max=14131), HTML(value='')))"
      ]
     },
     "metadata": {},
     "output_type": "display_data"
    },
    {
     "name": "stdout",
     "output_type": "stream",
     "text": [
      "\n",
      "2016-12-31: 49 companies pass criteria\n"
     ]
    },
    {
     "data": {
      "application/vnd.jupyter.widget-view+json": {
       "model_id": "60641e2eb19144a0a5a5214cd74485a3",
       "version_major": 2,
       "version_minor": 0
      },
      "text/plain": [
       "HBox(children=(IntProgress(value=0, max=14131), HTML(value='')))"
      ]
     },
     "metadata": {},
     "output_type": "display_data"
    },
    {
     "name": "stdout",
     "output_type": "stream",
     "text": [
      "\n",
      "2017-01-31: 48 companies pass criteria\n"
     ]
    },
    {
     "data": {
      "application/vnd.jupyter.widget-view+json": {
       "model_id": "4c69130cdb8e4ecda0c11654845e8d8b",
       "version_major": 2,
       "version_minor": 0
      },
      "text/plain": [
       "HBox(children=(IntProgress(value=0, max=14131), HTML(value='')))"
      ]
     },
     "metadata": {},
     "output_type": "display_data"
    },
    {
     "name": "stdout",
     "output_type": "stream",
     "text": [
      "\n",
      "2017-02-28: 43 companies pass criteria\n"
     ]
    },
    {
     "data": {
      "application/vnd.jupyter.widget-view+json": {
       "model_id": "e535395bdd61469fa49f92cbd7e4ddb9",
       "version_major": 2,
       "version_minor": 0
      },
      "text/plain": [
       "HBox(children=(IntProgress(value=0, max=14131), HTML(value='')))"
      ]
     },
     "metadata": {},
     "output_type": "display_data"
    },
    {
     "name": "stdout",
     "output_type": "stream",
     "text": [
      "\n",
      "2017-03-31: 39 companies pass criteria\n"
     ]
    },
    {
     "data": {
      "application/vnd.jupyter.widget-view+json": {
       "model_id": "9a693f5dabb440439f86a48a5d469ca3",
       "version_major": 2,
       "version_minor": 0
      },
      "text/plain": [
       "HBox(children=(IntProgress(value=0, max=14131), HTML(value='')))"
      ]
     },
     "metadata": {},
     "output_type": "display_data"
    },
    {
     "name": "stdout",
     "output_type": "stream",
     "text": [
      "\n",
      "2017-04-30: 39 companies pass criteria\n"
     ]
    },
    {
     "data": {
      "application/vnd.jupyter.widget-view+json": {
       "model_id": "2bf8b88a158541b08bfb76c77fecb0ed",
       "version_major": 2,
       "version_minor": 0
      },
      "text/plain": [
       "HBox(children=(IntProgress(value=0, max=14131), HTML(value='')))"
      ]
     },
     "metadata": {},
     "output_type": "display_data"
    },
    {
     "name": "stdout",
     "output_type": "stream",
     "text": [
      "\n",
      "2017-05-31: 39 companies pass criteria\n"
     ]
    },
    {
     "data": {
      "application/vnd.jupyter.widget-view+json": {
       "model_id": "2e0ab12673974524af6e393d1d7076cc",
       "version_major": 2,
       "version_minor": 0
      },
      "text/plain": [
       "HBox(children=(IntProgress(value=0, max=14131), HTML(value='')))"
      ]
     },
     "metadata": {},
     "output_type": "display_data"
    },
    {
     "name": "stdout",
     "output_type": "stream",
     "text": [
      "\n",
      "2017-06-30: 38 companies pass criteria\n"
     ]
    },
    {
     "data": {
      "application/vnd.jupyter.widget-view+json": {
       "model_id": "5925fd82e87e46a788d8404a3e0067c7",
       "version_major": 2,
       "version_minor": 0
      },
      "text/plain": [
       "HBox(children=(IntProgress(value=0, max=14131), HTML(value='')))"
      ]
     },
     "metadata": {},
     "output_type": "display_data"
    },
    {
     "name": "stdout",
     "output_type": "stream",
     "text": [
      "\n",
      "2017-07-31: 37 companies pass criteria\n"
     ]
    },
    {
     "data": {
      "application/vnd.jupyter.widget-view+json": {
       "model_id": "c6ef18215b9e46a180cd4be42e97c9ed",
       "version_major": 2,
       "version_minor": 0
      },
      "text/plain": [
       "HBox(children=(IntProgress(value=0, max=14131), HTML(value='')))"
      ]
     },
     "metadata": {},
     "output_type": "display_data"
    },
    {
     "name": "stdout",
     "output_type": "stream",
     "text": [
      "\n",
      "2017-08-31: 36 companies pass criteria\n"
     ]
    },
    {
     "data": {
      "application/vnd.jupyter.widget-view+json": {
       "model_id": "1abab58eea0b424fab74fa3212673075",
       "version_major": 2,
       "version_minor": 0
      },
      "text/plain": [
       "HBox(children=(IntProgress(value=0, max=14131), HTML(value='')))"
      ]
     },
     "metadata": {},
     "output_type": "display_data"
    },
    {
     "name": "stdout",
     "output_type": "stream",
     "text": [
      "\n",
      "2017-09-30: 37 companies pass criteria\n"
     ]
    },
    {
     "data": {
      "application/vnd.jupyter.widget-view+json": {
       "model_id": "14cd28e2e21b46ef8be5a4e691c3a8ea",
       "version_major": 2,
       "version_minor": 0
      },
      "text/plain": [
       "HBox(children=(IntProgress(value=0, max=14131), HTML(value='')))"
      ]
     },
     "metadata": {},
     "output_type": "display_data"
    },
    {
     "name": "stdout",
     "output_type": "stream",
     "text": [
      "\n",
      "2017-10-31: 37 companies pass criteria\n"
     ]
    },
    {
     "data": {
      "application/vnd.jupyter.widget-view+json": {
       "model_id": "2d17d4e45fc54e089a751b1504faaf3a",
       "version_major": 2,
       "version_minor": 0
      },
      "text/plain": [
       "HBox(children=(IntProgress(value=0, max=14131), HTML(value='')))"
      ]
     },
     "metadata": {},
     "output_type": "display_data"
    },
    {
     "name": "stdout",
     "output_type": "stream",
     "text": [
      "\n",
      "2017-11-30: 39 companies pass criteria\n"
     ]
    },
    {
     "data": {
      "application/vnd.jupyter.widget-view+json": {
       "model_id": "dc1a5f0d27924523920e96d0cee19579",
       "version_major": 2,
       "version_minor": 0
      },
      "text/plain": [
       "HBox(children=(IntProgress(value=0, max=14131), HTML(value='')))"
      ]
     },
     "metadata": {},
     "output_type": "display_data"
    },
    {
     "name": "stdout",
     "output_type": "stream",
     "text": [
      "\n",
      "2017-12-31: 39 companies pass criteria\n"
     ]
    },
    {
     "data": {
      "application/vnd.jupyter.widget-view+json": {
       "model_id": "37a9494df1f844989172bdd2df7d3288",
       "version_major": 2,
       "version_minor": 0
      },
      "text/plain": [
       "HBox(children=(IntProgress(value=0, max=14131), HTML(value='')))"
      ]
     },
     "metadata": {},
     "output_type": "display_data"
    },
    {
     "name": "stdout",
     "output_type": "stream",
     "text": [
      "\n",
      "2018-01-31: 39 companies pass criteria\n"
     ]
    },
    {
     "data": {
      "application/vnd.jupyter.widget-view+json": {
       "model_id": "2de44ea3f0204155bdc809b4f595d146",
       "version_major": 2,
       "version_minor": 0
      },
      "text/plain": [
       "HBox(children=(IntProgress(value=0, max=14131), HTML(value='')))"
      ]
     },
     "metadata": {},
     "output_type": "display_data"
    },
    {
     "name": "stdout",
     "output_type": "stream",
     "text": [
      "\n",
      "2018-02-28: 39 companies pass criteria\n"
     ]
    },
    {
     "data": {
      "application/vnd.jupyter.widget-view+json": {
       "model_id": "126b534f78d341fc8e7ea87173258ef5",
       "version_major": 2,
       "version_minor": 0
      },
      "text/plain": [
       "HBox(children=(IntProgress(value=0, max=14131), HTML(value='')))"
      ]
     },
     "metadata": {},
     "output_type": "display_data"
    },
    {
     "name": "stdout",
     "output_type": "stream",
     "text": [
      "\n",
      "2018-03-31: 39 companies pass criteria\n"
     ]
    },
    {
     "data": {
      "application/vnd.jupyter.widget-view+json": {
       "model_id": "8740818e3a6a426ea44333d374222464",
       "version_major": 2,
       "version_minor": 0
      },
      "text/plain": [
       "HBox(children=(IntProgress(value=0, max=14131), HTML(value='')))"
      ]
     },
     "metadata": {},
     "output_type": "display_data"
    },
    {
     "name": "stdout",
     "output_type": "stream",
     "text": [
      "\n",
      "2018-04-30: 39 companies pass criteria\n"
     ]
    },
    {
     "data": {
      "application/vnd.jupyter.widget-view+json": {
       "model_id": "9c228b3901764963af3e4fa42aaeec6a",
       "version_major": 2,
       "version_minor": 0
      },
      "text/plain": [
       "HBox(children=(IntProgress(value=0, max=14131), HTML(value='')))"
      ]
     },
     "metadata": {},
     "output_type": "display_data"
    },
    {
     "name": "stdout",
     "output_type": "stream",
     "text": [
      "\n",
      "2018-05-31: 39 companies pass criteria\n"
     ]
    },
    {
     "data": {
      "application/vnd.jupyter.widget-view+json": {
       "model_id": "2b4c00f05e6f4ff8a749377854e9e438",
       "version_major": 2,
       "version_minor": 0
      },
      "text/plain": [
       "HBox(children=(IntProgress(value=0, max=14131), HTML(value='')))"
      ]
     },
     "metadata": {},
     "output_type": "display_data"
    },
    {
     "name": "stdout",
     "output_type": "stream",
     "text": [
      "\n",
      "2018-06-30: 39 companies pass criteria\n"
     ]
    },
    {
     "data": {
      "application/vnd.jupyter.widget-view+json": {
       "model_id": "a004b246d4814ae8b532ffc3a127e4da",
       "version_major": 2,
       "version_minor": 0
      },
      "text/plain": [
       "HBox(children=(IntProgress(value=0, max=14131), HTML(value='')))"
      ]
     },
     "metadata": {},
     "output_type": "display_data"
    },
    {
     "name": "stdout",
     "output_type": "stream",
     "text": [
      "\n",
      "2018-07-31: 41 companies pass criteria\n"
     ]
    },
    {
     "data": {
      "application/vnd.jupyter.widget-view+json": {
       "model_id": "c6edce129ef9412f8c0e4c1c3328bbda",
       "version_major": 2,
       "version_minor": 0
      },
      "text/plain": [
       "HBox(children=(IntProgress(value=0, max=14131), HTML(value='')))"
      ]
     },
     "metadata": {},
     "output_type": "display_data"
    },
    {
     "name": "stdout",
     "output_type": "stream",
     "text": [
      "\n",
      "2018-08-31: 41 companies pass criteria\n"
     ]
    },
    {
     "data": {
      "application/vnd.jupyter.widget-view+json": {
       "model_id": "b18d367d0c064b4c8f014819124d9c66",
       "version_major": 2,
       "version_minor": 0
      },
      "text/plain": [
       "HBox(children=(IntProgress(value=0, max=14131), HTML(value='')))"
      ]
     },
     "metadata": {},
     "output_type": "display_data"
    },
    {
     "name": "stdout",
     "output_type": "stream",
     "text": [
      "\n",
      "2018-09-30: 41 companies pass criteria\n"
     ]
    },
    {
     "data": {
      "application/vnd.jupyter.widget-view+json": {
       "model_id": "92a4cae971f345f780b602019a2468ae",
       "version_major": 2,
       "version_minor": 0
      },
      "text/plain": [
       "HBox(children=(IntProgress(value=0, max=14131), HTML(value='')))"
      ]
     },
     "metadata": {},
     "output_type": "display_data"
    },
    {
     "name": "stdout",
     "output_type": "stream",
     "text": [
      "\n",
      "2018-10-31: 41 companies pass criteria\n"
     ]
    },
    {
     "data": {
      "application/vnd.jupyter.widget-view+json": {
       "model_id": "c5f7859205364f45b6bbdc098f15fd6c",
       "version_major": 2,
       "version_minor": 0
      },
      "text/plain": [
       "HBox(children=(IntProgress(value=0, max=14131), HTML(value='')))"
      ]
     },
     "metadata": {},
     "output_type": "display_data"
    },
    {
     "name": "stdout",
     "output_type": "stream",
     "text": [
      "\n",
      "2018-11-30: 39 companies pass criteria\n"
     ]
    },
    {
     "data": {
      "application/vnd.jupyter.widget-view+json": {
       "model_id": "b31a79f789914ed69ae35c319ba30c04",
       "version_major": 2,
       "version_minor": 0
      },
      "text/plain": [
       "HBox(children=(IntProgress(value=0, max=14131), HTML(value='')))"
      ]
     },
     "metadata": {},
     "output_type": "display_data"
    },
    {
     "name": "stdout",
     "output_type": "stream",
     "text": [
      "\n",
      "2018-12-31: 40 companies pass criteria\n"
     ]
    }
   ],
   "source": [
    "dr2 = pd.date_range('2008-12-31', '2018-12-31', freq='M')\n",
    "dic3 = defaultdict(list)\n",
    "\n",
    "for date in dr2:\n",
    "    list_passing_companies = criteria_defensive_investor_list(list_all, all_data=df_all, \n",
    "                                                              relax_current_ratio=False, \n",
    "                                                              dt=date, show_progress=True)\n",
    "    print(f\"{date:%Y-%m-%d}: {len(list_passing_companies)} companies pass criteria\")\n",
    "    dic3[date] = list_passing_companies"
   ]
  },
  {
   "cell_type": "code",
   "execution_count": 16,
   "metadata": {},
   "outputs": [
    {
     "name": "stdout",
     "output_type": "stream",
     "text": [
      "2008-12-31: 30 companies pass criteria\n",
      "2009-01-31: 30 companies pass criteria\n",
      "2009-02-28: 38 companies pass criteria\n",
      "2009-03-31: 37 companies pass criteria\n",
      "2009-04-30: 37 companies pass criteria\n",
      "2009-05-31: 37 companies pass criteria\n",
      "2009-06-30: 37 companies pass criteria\n",
      "2009-07-31: 38 companies pass criteria\n",
      "2009-08-31: 36 companies pass criteria\n",
      "2009-09-30: 35 companies pass criteria\n",
      "2009-10-31: 35 companies pass criteria\n",
      "2009-11-30: 34 companies pass criteria\n",
      "2009-12-31: 35 companies pass criteria\n",
      "2010-01-31: 35 companies pass criteria\n",
      "2010-02-28: 33 companies pass criteria\n",
      "2010-03-31: 34 companies pass criteria\n",
      "2010-04-30: 34 companies pass criteria\n",
      "2010-05-31: 34 companies pass criteria\n",
      "2010-06-30: 34 companies pass criteria\n",
      "2010-07-31: 33 companies pass criteria\n",
      "2010-08-31: 33 companies pass criteria\n",
      "2010-09-30: 34 companies pass criteria\n",
      "2010-10-31: 33 companies pass criteria\n",
      "2010-11-30: 33 companies pass criteria\n",
      "2010-12-31: 32 companies pass criteria\n",
      "2011-01-31: 32 companies pass criteria\n",
      "2011-02-28: 35 companies pass criteria\n",
      "2011-03-31: 36 companies pass criteria\n",
      "2011-04-30: 36 companies pass criteria\n",
      "2011-05-31: 37 companies pass criteria\n",
      "2011-06-30: 37 companies pass criteria\n",
      "2011-07-31: 37 companies pass criteria\n",
      "2011-08-31: 39 companies pass criteria\n",
      "2011-09-30: 40 companies pass criteria\n",
      "2011-10-31: 40 companies pass criteria\n",
      "2011-11-30: 40 companies pass criteria\n",
      "2011-12-31: 41 companies pass criteria\n",
      "2012-01-31: 41 companies pass criteria\n",
      "2012-02-29: 44 companies pass criteria\n",
      "2012-03-31: 47 companies pass criteria\n",
      "2012-04-30: 47 companies pass criteria\n",
      "2012-05-31: 46 companies pass criteria\n",
      "2012-06-30: 46 companies pass criteria\n",
      "2012-07-31: 46 companies pass criteria\n",
      "2012-08-31: 45 companies pass criteria\n",
      "2012-09-30: 45 companies pass criteria\n",
      "2012-10-31: 45 companies pass criteria\n",
      "2012-11-30: 45 companies pass criteria\n",
      "2012-12-31: 45 companies pass criteria\n",
      "2013-01-31: 45 companies pass criteria\n",
      "2013-02-28: 50 companies pass criteria\n",
      "2013-03-31: 50 companies pass criteria\n",
      "2013-04-30: 50 companies pass criteria\n",
      "2013-05-31: 50 companies pass criteria\n",
      "2013-06-30: 51 companies pass criteria\n",
      "2013-07-31: 51 companies pass criteria\n",
      "2013-08-31: 52 companies pass criteria\n",
      "2013-09-30: 52 companies pass criteria\n",
      "2013-10-31: 52 companies pass criteria\n",
      "2013-11-30: 52 companies pass criteria\n",
      "2013-12-31: 52 companies pass criteria\n",
      "2014-01-31: 53 companies pass criteria\n",
      "2014-02-28: 64 companies pass criteria\n",
      "2014-03-31: 63 companies pass criteria\n",
      "2014-04-30: 63 companies pass criteria\n",
      "2014-05-31: 63 companies pass criteria\n",
      "2014-06-30: 65 companies pass criteria\n",
      "2014-07-31: 65 companies pass criteria\n",
      "2014-08-31: 65 companies pass criteria\n",
      "2014-09-30: 64 companies pass criteria\n",
      "2014-10-31: 64 companies pass criteria\n",
      "2014-11-30: 66 companies pass criteria\n",
      "2014-12-31: 67 companies pass criteria\n",
      "2015-01-31: 67 companies pass criteria\n",
      "2015-02-28: 64 companies pass criteria\n",
      "2015-03-31: 62 companies pass criteria\n",
      "2015-04-30: 63 companies pass criteria\n",
      "2015-05-31: 64 companies pass criteria\n",
      "2015-06-30: 64 companies pass criteria\n",
      "2015-07-31: 64 companies pass criteria\n",
      "2015-08-31: 66 companies pass criteria\n",
      "2015-09-30: 66 companies pass criteria\n",
      "2015-10-31: 67 companies pass criteria\n",
      "2015-11-30: 64 companies pass criteria\n",
      "2015-12-31: 62 companies pass criteria\n",
      "2016-01-31: 62 companies pass criteria\n",
      "2016-02-29: 58 companies pass criteria\n",
      "2016-03-31: 55 companies pass criteria\n",
      "2016-04-30: 56 companies pass criteria\n",
      "2016-05-31: 57 companies pass criteria\n",
      "2016-06-30: 55 companies pass criteria\n",
      "2016-07-31: 55 companies pass criteria\n",
      "2016-08-31: 53 companies pass criteria\n",
      "2016-09-30: 52 companies pass criteria\n",
      "2016-10-31: 51 companies pass criteria\n",
      "2016-11-30: 49 companies pass criteria\n",
      "2016-12-31: 49 companies pass criteria\n",
      "2017-01-31: 48 companies pass criteria\n",
      "2017-02-28: 43 companies pass criteria\n",
      "2017-03-31: 39 companies pass criteria\n",
      "2017-04-30: 39 companies pass criteria\n",
      "2017-05-31: 39 companies pass criteria\n",
      "2017-06-30: 38 companies pass criteria\n",
      "2017-07-31: 37 companies pass criteria\n",
      "2017-08-31: 36 companies pass criteria\n",
      "2017-09-30: 37 companies pass criteria\n",
      "2017-10-31: 37 companies pass criteria\n",
      "2017-11-30: 39 companies pass criteria\n",
      "2017-12-31: 39 companies pass criteria\n",
      "2018-01-31: 39 companies pass criteria\n",
      "2018-02-28: 39 companies pass criteria\n",
      "2018-03-31: 39 companies pass criteria\n",
      "2018-04-30: 39 companies pass criteria\n",
      "2018-05-31: 39 companies pass criteria\n",
      "2018-06-30: 39 companies pass criteria\n",
      "2018-07-31: 41 companies pass criteria\n",
      "2018-08-31: 41 companies pass criteria\n",
      "2018-09-30: 41 companies pass criteria\n",
      "2018-10-31: 41 companies pass criteria\n",
      "2018-11-30: 39 companies pass criteria\n",
      "2018-12-31: 40 companies pass criteria\n"
     ]
    }
   ],
   "source": [
    "for key, value in dic3.items():\n",
    "    print(f'{key:%Y-%m-%d}: {len(value)} companies pass criteria')"
   ]
  },
  {
   "cell_type": "code",
   "execution_count": 17,
   "metadata": {},
   "outputs": [],
   "source": [
    "#list(set(dic2[datetime(2009, 12, 31)]).symmetric_difference(dic3[datetime(2009, 12, 31)]))"
   ]
  },
  {
   "cell_type": "code",
   "execution_count": 18,
   "metadata": {},
   "outputs": [],
   "source": [
    "import pickle\n",
    "\n",
    "def save_obj(obj, filename):\n",
    "    with open(filename, 'wb') as f:\n",
    "        pickle.dump(obj, f, pickle.HIGHEST_PROTOCOL)\n",
    "\n",
    "def load_obj(filename):\n",
    "    with open(filename, 'rb') as f:\n",
    "        return pickle.load(f)\n",
    "    \n",
    "fname = os.path.join(os.getcwd(), 'data_defensive', 'defensive2_companies_20081231_20181231.pkl')\n",
    "save_obj(dic3, fname)"
   ]
  },
  {
   "cell_type": "code",
   "execution_count": null,
   "metadata": {},
   "outputs": [],
   "source": []
  }
 ],
 "metadata": {
  "kernelspec": {
   "display_name": "Python 3",
   "language": "python",
   "name": "python3"
  },
  "language_info": {
   "codemirror_mode": {
    "name": "ipython",
    "version": 3
   },
   "file_extension": ".py",
   "mimetype": "text/x-python",
   "name": "python",
   "nbconvert_exporter": "python",
   "pygments_lexer": "ipython3",
   "version": "3.6.6"
  }
 },
 "nbformat": 4,
 "nbformat_minor": 2
}
